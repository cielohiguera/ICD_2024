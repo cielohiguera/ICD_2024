{
 "cells": [
  {
   "cell_type": "markdown",
   "id": "911f2c3f-1905-401a-a130-13494cdf074f",
   "metadata": {},
   "source": [
    "## PART II"
   ]
  },
  {
   "cell_type": "markdown",
   "id": "035e6302-f1f9-44ab-b089-de3b31255f92",
   "metadata": {},
   "source": [
    "### Introduction to NumPy"
   ]
  },
  {
   "cell_type": "markdown",
   "id": "63836b3e-f00d-407a-92e5-4dc41aa595cd",
   "metadata": {},
   "source": [
    "##### Alumno (a): Cielo Aholiva Higuera Gutiérrez"
   ]
  },
  {
   "cell_type": "code",
   "execution_count": 4,
   "id": "030acfad-7558-4fc2-8446-88f0ff3bd2e0",
   "metadata": {},
   "outputs": [],
   "source": [
    "import numpy"
   ]
  },
  {
   "cell_type": "code",
   "execution_count": 5,
   "id": "1d491e20-e112-4cf6-9180-cca2766599fc",
   "metadata": {},
   "outputs": [],
   "source": [
    "import numpy as np"
   ]
  },
  {
   "cell_type": "markdown",
   "id": "41924206-ad98-45c9-a1ee-8c74b22d334d",
   "metadata": {},
   "source": [
    "### Chapter 4: Understanding Data Types in Python"
   ]
  },
  {
   "cell_type": "code",
   "execution_count": 7,
   "id": "e0af8b3b-cdc1-4f61-a939-6c00f726b067",
   "metadata": {},
   "outputs": [],
   "source": [
    "result = 0\n",
    "for i in range(100):\n",
    "    result += i"
   ]
  },
  {
   "cell_type": "code",
   "execution_count": 8,
   "id": "826815f7-46e4-4c27-8d74-8069688377d1",
   "metadata": {},
   "outputs": [],
   "source": [
    "x = 4\n",
    "x = \"four\""
   ]
  },
  {
   "cell_type": "markdown",
   "id": "4c8a144d-602e-4a9c-aaaf-02934771acef",
   "metadata": {},
   "source": [
    "#### A Python Integer Is More Than Just an Integer"
   ]
  },
  {
   "cell_type": "markdown",
   "id": "5c2129ed-4b00-48cd-81b1-330816c814d5",
   "metadata": {},
   "source": [
    "• ob_refcnt, a reference count that helps Python silently handle memory allocation and deallocation\n",
    "• ob_type, which encodes the type of the variable\n",
    "• ob_size, which specifies the size of the following data members\n",
    "• ob_digit, which contains the actual integer value that we expect the Python variable to represent"
   ]
  },
  {
   "cell_type": "markdown",
   "id": "6ec016cc-a5fa-422d-8035-9e83c8502282",
   "metadata": {},
   "source": [
    "##### A Python List Is More Than Just a List"
   ]
  },
  {
   "cell_type": "code",
   "execution_count": 12,
   "id": "487f2108-19da-471a-9645-5d98eb1a1955",
   "metadata": {},
   "outputs": [
    {
     "data": {
      "text/plain": [
       "[0, 1, 2, 3, 4, 5, 6, 7, 8, 9]"
      ]
     },
     "execution_count": 12,
     "metadata": {},
     "output_type": "execute_result"
    }
   ],
   "source": [
    "L = list(range(10))\n",
    "L"
   ]
  },
  {
   "cell_type": "code",
   "execution_count": 13,
   "id": "8d4ff6eb-58b8-46b4-88fc-0874faa13906",
   "metadata": {},
   "outputs": [
    {
     "data": {
      "text/plain": [
       "int"
      ]
     },
     "execution_count": 13,
     "metadata": {},
     "output_type": "execute_result"
    }
   ],
   "source": [
    "type(L[0])"
   ]
  },
  {
   "cell_type": "code",
   "execution_count": 14,
   "id": "31ad80ad-03c3-4666-9da3-07076ac3d2a2",
   "metadata": {},
   "outputs": [
    {
     "data": {
      "text/plain": [
       "['0', '1', '2', '3', '4', '5', '6', '7', '8', '9']"
      ]
     },
     "execution_count": 14,
     "metadata": {},
     "output_type": "execute_result"
    }
   ],
   "source": [
    "# Or similar, a list of strings\n",
    "L2 = [str(c) for c in L]\n",
    "L2"
   ]
  },
  {
   "cell_type": "code",
   "execution_count": 15,
   "id": "db00a5ee-19a8-483b-8bcc-7b1412a17a66",
   "metadata": {},
   "outputs": [
    {
     "data": {
      "text/plain": [
       "str"
      ]
     },
     "execution_count": 15,
     "metadata": {},
     "output_type": "execute_result"
    }
   ],
   "source": [
    "type(L2[0])"
   ]
  },
  {
   "cell_type": "code",
   "execution_count": 16,
   "id": "491126a6-4ea6-4185-88e4-8974237f042d",
   "metadata": {},
   "outputs": [
    {
     "data": {
      "text/plain": [
       "[bool, str, float, int]"
      ]
     },
     "execution_count": 16,
     "metadata": {},
     "output_type": "execute_result"
    }
   ],
   "source": [
    "L3 = [True, \"2\", 3.0, 4]\n",
    "[type(item) for item in L3]"
   ]
  },
  {
   "cell_type": "markdown",
   "id": "5e3e7602-6c21-4974-8f86-7f06b588f92d",
   "metadata": {},
   "source": [
    "##### Fixed-Type Arrays in Python"
   ]
  },
  {
   "cell_type": "code",
   "execution_count": 18,
   "id": "84b908ba-f8e6-444f-9666-4e099fba237f",
   "metadata": {},
   "outputs": [
    {
     "data": {
      "text/plain": [
       "array('i', [0, 1, 2, 3, 4, 5, 6, 7, 8, 9])"
      ]
     },
     "execution_count": 18,
     "metadata": {},
     "output_type": "execute_result"
    }
   ],
   "source": [
    "# Python offers several different options for storing data in efficient, fixed-type data\n",
    "# buffers. The built-in array module (available since Python 3.3) can be used to create\n",
    "# dense arrays of a uniform type:\n",
    "\n",
    "import array\n",
    "L = list(range(10))\n",
    "A = array. array('i',L)\n",
    "A\n",
    "\n",
    "# Here, 'i' is a type code indicating the contents are integers."
   ]
  },
  {
   "cell_type": "markdown",
   "id": "ab78d88b-905d-4878-80c3-9c78d6c2ab70",
   "metadata": {},
   "source": [
    "##### Creating Arrays from Python List"
   ]
  },
  {
   "cell_type": "code",
   "execution_count": 20,
   "id": "ee8d06a2-7677-4073-9bac-fb37c8acc344",
   "metadata": {},
   "outputs": [
    {
     "data": {
      "text/plain": [
       "array([1, 4, 2, 5, 3])"
      ]
     },
     "execution_count": 20,
     "metadata": {},
     "output_type": "execute_result"
    }
   ],
   "source": [
    "# Use np.array to create arrays from python list:\n",
    "np.array([1,4,2,5,3])"
   ]
  },
  {
   "cell_type": "code",
   "execution_count": 21,
   "id": "5cb57aa3-a327-4543-adfe-2061bc689aaf",
   "metadata": {},
   "outputs": [
    {
     "data": {
      "text/plain": [
       "array([3.14, 4.  , 2.  , 3.  ])"
      ]
     },
     "execution_count": 21,
     "metadata": {},
     "output_type": "execute_result"
    }
   ],
   "source": [
    "# Remember that unlike Python lists, NumPy arrays can only contain data of the same\n",
    "# type. If the types do not match, NumPy will upcast them according to its type promotion rules\n",
    "np.array([3.14, 4, 2, 3])"
   ]
  },
  {
   "cell_type": "code",
   "execution_count": 22,
   "id": "27eb28db-c33f-4856-81ed-8876026b09cc",
   "metadata": {},
   "outputs": [
    {
     "data": {
      "text/plain": [
       "array([1, 2, 3, 4])"
      ]
     },
     "execution_count": 22,
     "metadata": {},
     "output_type": "execute_result"
    }
   ],
   "source": [
    "# If we want to explicitly set the data type of the resulting array, we can use the dtype keyword\n",
    "np.array([1, 2, 3, 4])"
   ]
  },
  {
   "cell_type": "code",
   "execution_count": 23,
   "id": "e95ac547-89be-4830-8168-45cceff1ed68",
   "metadata": {},
   "outputs": [
    {
     "data": {
      "text/plain": [
       "array([[2, 3, 4],\n",
       "       [4, 5, 6],\n",
       "       [6, 7, 8]])"
      ]
     },
     "execution_count": 23,
     "metadata": {},
     "output_type": "execute_result"
    }
   ],
   "source": [
    "# Finally, unlike Python lists, which are always one-dimensional sequences, NumPy arrays can be multidimensional. Here’s one way of initializing a multidimensional array using a list of lists:\n",
    "np.array([range(i, i + 3) for i in [2, 4, 6]])"
   ]
  },
  {
   "cell_type": "markdown",
   "id": "5b11511a-2a40-43d8-830b-91c6e9d1f4b6",
   "metadata": {},
   "source": [
    "##### Creating Arrays from Scratch"
   ]
  },
  {
   "cell_type": "code",
   "execution_count": 25,
   "id": "3497cdaf-42be-4639-af43-6857ba0660c1",
   "metadata": {},
   "outputs": [
    {
     "data": {
      "text/plain": [
       "array([0, 0, 0, 0, 0, 0, 0, 0, 0, 0])"
      ]
     },
     "execution_count": 25,
     "metadata": {},
     "output_type": "execute_result"
    }
   ],
   "source": [
    "# Create a length-10 integer array filled with 0s\n",
    "np.zeros (10, dtype=int)"
   ]
  },
  {
   "cell_type": "code",
   "execution_count": 26,
   "id": "1a4ab9a9-d340-4939-b923-f7581ef926e0",
   "metadata": {},
   "outputs": [
    {
     "data": {
      "text/plain": [
       "array([[1., 1., 1., 1., 1.],\n",
       "       [1., 1., 1., 1., 1.],\n",
       "       [1., 1., 1., 1., 1.]])"
      ]
     },
     "execution_count": 26,
     "metadata": {},
     "output_type": "execute_result"
    }
   ],
   "source": [
    "# Create a 3x5 floating-point array filled with 1s\n",
    "np.ones((3,5), dtype=float)"
   ]
  },
  {
   "cell_type": "code",
   "execution_count": 27,
   "id": "2379fc67-ce58-475f-97d6-0bca5d61f020",
   "metadata": {},
   "outputs": [
    {
     "data": {
      "text/plain": [
       "array([[3.14, 3.14, 3.14, 3.14, 3.14],\n",
       "       [3.14, 3.14, 3.14, 3.14, 3.14],\n",
       "       [3.14, 3.14, 3.14, 3.14, 3.14]])"
      ]
     },
     "execution_count": 27,
     "metadata": {},
     "output_type": "execute_result"
    }
   ],
   "source": [
    "# Create a 3x5 array filled with 3.14\n",
    "np.full((3,5), 3.14)"
   ]
  },
  {
   "cell_type": "code",
   "execution_count": 28,
   "id": "7f04cccf-41f6-4521-ab76-32245b59b09c",
   "metadata": {},
   "outputs": [
    {
     "data": {
      "text/plain": [
       "array([ 0,  2,  4,  6,  8, 10, 12, 14, 16, 18])"
      ]
     },
     "execution_count": 28,
     "metadata": {},
     "output_type": "execute_result"
    }
   ],
   "source": [
    "# Create an array filled with a linear sequence\n",
    "# Starting at 0, ending at 20, stepping by 2\n",
    "# (this is similar to the built-in range function)\n",
    "np.arange(0, 20, 2)"
   ]
  },
  {
   "cell_type": "code",
   "execution_count": 29,
   "id": "0a7578f6-f88f-4574-baa6-9ab33c3b21e8",
   "metadata": {},
   "outputs": [
    {
     "data": {
      "text/plain": [
       "array([0.  , 0.25, 0.5 , 0.75, 1.  ])"
      ]
     },
     "execution_count": 29,
     "metadata": {},
     "output_type": "execute_result"
    }
   ],
   "source": [
    "# Create an array of five values evenly spaced between 0 and 1\n",
    "np.linspace(0, 1, 5)"
   ]
  },
  {
   "cell_type": "code",
   "execution_count": 30,
   "id": "aed10388-2e53-4a11-ae98-268fe09611c2",
   "metadata": {},
   "outputs": [
    {
     "data": {
      "text/plain": [
       "array([[0.1517265 , 0.1563023 , 0.26898661],\n",
       "       [0.11453849, 0.84901893, 0.36395415],\n",
       "       [0.2230254 , 0.85207535, 0.10505551]])"
      ]
     },
     "execution_count": 30,
     "metadata": {},
     "output_type": "execute_result"
    }
   ],
   "source": [
    "# Create a 3x3 array of uniformly distributed\n",
    "# pseudorandom values between 0 and 1\n",
    "np.random.random((3, 3))"
   ]
  },
  {
   "cell_type": "code",
   "execution_count": 31,
   "id": "b4bafc8a-c40c-4ca1-bd4f-7528655a38a0",
   "metadata": {},
   "outputs": [
    {
     "data": {
      "text/plain": [
       "array([[ 1.40441692, -0.72769165,  0.98982555],\n",
       "       [-0.0842562 , -1.50119982,  0.00862682],\n",
       "       [ 0.13759066,  0.57646271, -1.60575774]])"
      ]
     },
     "execution_count": 31,
     "metadata": {},
     "output_type": "execute_result"
    }
   ],
   "source": [
    "# Create a 3x3 array of normally distributed pseudorandom\n",
    "# values with mean 0 and standard deviation 1\n",
    "np.random.normal(0, 1, (3, 3))"
   ]
  },
  {
   "cell_type": "code",
   "execution_count": 32,
   "id": "83c7ebe5-632a-4a91-b7d6-44cf754512ce",
   "metadata": {},
   "outputs": [
    {
     "data": {
      "text/plain": [
       "array([[7, 0, 7],\n",
       "       [1, 5, 3],\n",
       "       [9, 0, 7]])"
      ]
     },
     "execution_count": 32,
     "metadata": {},
     "output_type": "execute_result"
    }
   ],
   "source": [
    "# Create a 3x3 array of pseudorandom integers in the interval (0,10]\n",
    "np.random.randint(0,10, (3,3))"
   ]
  },
  {
   "cell_type": "code",
   "execution_count": 33,
   "id": "0fbfec79-a964-4283-ad73-bf09ce494cc4",
   "metadata": {},
   "outputs": [
    {
     "data": {
      "text/plain": [
       "array([[1., 0., 0.],\n",
       "       [0., 1., 0.],\n",
       "       [0., 0., 1.]])"
      ]
     },
     "execution_count": 33,
     "metadata": {},
     "output_type": "execute_result"
    }
   ],
   "source": [
    "# Create a 3x3 identity matrix\n",
    "np.eye(3)"
   ]
  },
  {
   "cell_type": "code",
   "execution_count": 34,
   "id": "cef47166-f3cd-466f-b496-085ac3a27b86",
   "metadata": {},
   "outputs": [
    {
     "data": {
      "text/plain": [
       "array([1., 1., 1.])"
      ]
     },
     "execution_count": 34,
     "metadata": {},
     "output_type": "execute_result"
    }
   ],
   "source": [
    "# Ccreate an uninitialized array of three integers; the values will be\n",
    "# whatever happens to already exist at that memory location\n",
    "np.empty(3)"
   ]
  },
  {
   "cell_type": "markdown",
   "id": "a7b945fc-e4e2-4342-a953-d86c7f8d3bcf",
   "metadata": {},
   "source": [
    "#### NumPy Standard Data Types"
   ]
  },
  {
   "cell_type": "code",
   "execution_count": 36,
   "id": "93abebb7-909a-45c8-bcbc-c0f2b0645845",
   "metadata": {},
   "outputs": [
    {
     "data": {
      "text/plain": [
       "array([0, 0, 0, 0, 0, 0, 0, 0, 0, 0], dtype=int16)"
      ]
     },
     "execution_count": 36,
     "metadata": {},
     "output_type": "execute_result"
    }
   ],
   "source": [
    "# NumPy arrays contain values of a single type, so it is important to have detailed\n",
    "# knowledge of those types and their limitations. Because NumPy is built in C, the\n",
    "# types will be familiar to users of C, Fortran, and other related languages\n",
    "\n",
    "np.zeros(10, dtype = 'int16')"
   ]
  },
  {
   "cell_type": "code",
   "execution_count": 37,
   "id": "b93ae339-8b8d-45a7-9e1e-44d86e2ed54b",
   "metadata": {},
   "outputs": [
    {
     "data": {
      "text/plain": [
       "array([0, 0, 0, 0, 0, 0, 0, 0, 0, 0], dtype=int16)"
      ]
     },
     "execution_count": 37,
     "metadata": {},
     "output_type": "execute_result"
    }
   ],
   "source": [
    "# Or using the associated NumPy object:\n",
    "np.zeros(10, dtype=np.int16)"
   ]
  },
  {
   "cell_type": "markdown",
   "id": "1e5d07df-536b-4f8d-abfc-ba89e5670a75",
   "metadata": {},
   "source": [
    "### Chapter 5: The basic of Numpy Arrays"
   ]
  },
  {
   "cell_type": "code",
   "execution_count": 39,
   "id": "65efb7ec-2f61-4748-98bd-becaf9fa7ffa",
   "metadata": {},
   "outputs": [],
   "source": [
    "# Attributes of arrays: Determining the size, shape, memory consumprion, and data types of arrays\n",
    "# Indexing of arrays: Getting and setting the values of individual array elements\n",
    "# Slicing of arrays: Getting and setting smaller subarrays within a larger array\n",
    "# Reshaping of arrays: changing the shape of a given array\n",
    "# Joining and splittinf of arrays: Combining multiple arrays into one, and splitting one array into many"
   ]
  },
  {
   "cell_type": "code",
   "execution_count": 40,
   "id": "ce4f9052-f924-4149-920f-c2c3cc47831c",
   "metadata": {},
   "outputs": [],
   "source": [
    "import numpy as np"
   ]
  },
  {
   "cell_type": "code",
   "execution_count": 41,
   "id": "63c7d250-2108-416d-8923-9a5cc15f3db5",
   "metadata": {},
   "outputs": [],
   "source": [
    "rng = np.random.default_rng(seed=1701) # seed for reproducibility\n",
    "x1 = rng.integers(10, size=6) #one-dimensional array\n",
    "x2 = rng.integers(10, size=(3, 4)) #two-dimensional array\n",
    "x3 = rng.integers(10, size=(3, 4, 5)) # three-dimensional array"
   ]
  },
  {
   "cell_type": "code",
   "execution_count": 42,
   "id": "8276c9dd-73f4-43e7-8f50-c7b5ab556962",
   "metadata": {},
   "outputs": [
    {
     "name": "stdout",
     "output_type": "stream",
     "text": [
      "x3 ndim:  3\n",
      "x3 shape: (3, 4, 5)\n",
      "x3 size: 60\n",
      "dtype:  int64\n"
     ]
    }
   ],
   "source": [
    "print(\"x3 ndim: \", x3.ndim)\n",
    "print(\"x3 shape:\", x3.shape)\n",
    "print(\"x3 size:\", x3.size)\n",
    "print(\"dtype: \", x3.dtype)"
   ]
  },
  {
   "cell_type": "code",
   "execution_count": 43,
   "id": "57db695b-36bc-4eaa-9811-3eef5ea5e915",
   "metadata": {},
   "outputs": [],
   "source": [
    "# Array Indexing: Accesing Single Elements"
   ]
  },
  {
   "cell_type": "code",
   "execution_count": 44,
   "id": "4aed0a5d-b14f-497b-b04a-c679b0545f10",
   "metadata": {},
   "outputs": [
    {
     "data": {
      "text/plain": [
       "array([9, 4, 0, 3, 8, 6], dtype=int64)"
      ]
     },
     "execution_count": 44,
     "metadata": {},
     "output_type": "execute_result"
    }
   ],
   "source": [
    "x1"
   ]
  },
  {
   "cell_type": "code",
   "execution_count": 45,
   "id": "f2757b5d-6317-4707-83c4-ce33458c12e1",
   "metadata": {},
   "outputs": [
    {
     "data": {
      "text/plain": [
       "9"
      ]
     },
     "execution_count": 45,
     "metadata": {},
     "output_type": "execute_result"
    }
   ],
   "source": [
    "x1[0]"
   ]
  },
  {
   "cell_type": "code",
   "execution_count": 46,
   "id": "f7eb37b5-660c-4f32-ac3d-f68e59793089",
   "metadata": {},
   "outputs": [
    {
     "data": {
      "text/plain": [
       "8"
      ]
     },
     "execution_count": 46,
     "metadata": {},
     "output_type": "execute_result"
    }
   ],
   "source": [
    "x1[4]"
   ]
  },
  {
   "cell_type": "code",
   "execution_count": 47,
   "id": "027078f2-85c1-4d43-bc6c-e6dfeebdbfd8",
   "metadata": {},
   "outputs": [
    {
     "data": {
      "text/plain": [
       "6"
      ]
     },
     "execution_count": 47,
     "metadata": {},
     "output_type": "execute_result"
    }
   ],
   "source": [
    "# To index from the end of the array, you can use negative indices:\n",
    "x1[-1]"
   ]
  },
  {
   "cell_type": "code",
   "execution_count": 48,
   "id": "8ea98a28-dc53-454e-9d9d-8b3499eb89b4",
   "metadata": {},
   "outputs": [
    {
     "data": {
      "text/plain": [
       "8"
      ]
     },
     "execution_count": 48,
     "metadata": {},
     "output_type": "execute_result"
    }
   ],
   "source": [
    "x1[-2]"
   ]
  },
  {
   "cell_type": "code",
   "execution_count": 49,
   "id": "1e59f842-fa14-4457-bf73-f3e1831e842a",
   "metadata": {},
   "outputs": [
    {
     "data": {
      "text/plain": [
       "array([[3, 1, 3, 7],\n",
       "       [4, 0, 2, 3],\n",
       "       [0, 0, 6, 9]], dtype=int64)"
      ]
     },
     "execution_count": 49,
     "metadata": {},
     "output_type": "execute_result"
    }
   ],
   "source": [
    "x2"
   ]
  },
  {
   "cell_type": "code",
   "execution_count": 50,
   "id": "2279773e-98c6-46b5-8f89-88306d166056",
   "metadata": {},
   "outputs": [
    {
     "data": {
      "text/plain": [
       "3"
      ]
     },
     "execution_count": 50,
     "metadata": {},
     "output_type": "execute_result"
    }
   ],
   "source": [
    "x2[0,0]"
   ]
  },
  {
   "cell_type": "code",
   "execution_count": 51,
   "id": "1d37ab56-64cf-4d5e-9dcf-b2a14c4bc368",
   "metadata": {},
   "outputs": [
    {
     "data": {
      "text/plain": [
       "0"
      ]
     },
     "execution_count": 51,
     "metadata": {},
     "output_type": "execute_result"
    }
   ],
   "source": [
    "x2[2,0]"
   ]
  },
  {
   "cell_type": "code",
   "execution_count": 52,
   "id": "b870bf23-bded-4788-b62e-644d4e721c23",
   "metadata": {},
   "outputs": [
    {
     "data": {
      "text/plain": [
       "9"
      ]
     },
     "execution_count": 52,
     "metadata": {},
     "output_type": "execute_result"
    }
   ],
   "source": [
    "x2[2, -1]"
   ]
  },
  {
   "cell_type": "code",
   "execution_count": 53,
   "id": "666f5104-2794-4248-896b-598b79aa4c1e",
   "metadata": {},
   "outputs": [],
   "source": [
    "# Values can also be modifield using any of the preceding index notation"
   ]
  },
  {
   "cell_type": "code",
   "execution_count": 54,
   "id": "d5f7bfad-2c6b-4768-a2d3-6e7593bd5706",
   "metadata": {},
   "outputs": [
    {
     "data": {
      "text/plain": [
       "array([[12,  1,  3,  7],\n",
       "       [ 4,  0,  2,  3],\n",
       "       [ 0,  0,  6,  9]], dtype=int64)"
      ]
     },
     "execution_count": 54,
     "metadata": {},
     "output_type": "execute_result"
    }
   ],
   "source": [
    "x2[0,0] = 12\n",
    "x2"
   ]
  },
  {
   "cell_type": "code",
   "execution_count": 55,
   "id": "956601db-4eca-4dce-9e44-683b53b72b62",
   "metadata": {},
   "outputs": [
    {
     "data": {
      "text/plain": [
       "array([[12,  1,  3,  7],\n",
       "       [ 4,  0,  2,  3],\n",
       "       [ 0,  0,  6,  9]], dtype=int64)"
      ]
     },
     "execution_count": 55,
     "metadata": {},
     "output_type": "execute_result"
    }
   ],
   "source": [
    "x2"
   ]
  },
  {
   "cell_type": "code",
   "execution_count": 56,
   "id": "30ffc661-ea90-4c46-b979-acaee3c8d9b0",
   "metadata": {},
   "outputs": [
    {
     "data": {
      "text/plain": [
       "array([3, 4, 0, 3, 8, 6], dtype=int64)"
      ]
     },
     "execution_count": 56,
     "metadata": {},
     "output_type": "execute_result"
    }
   ],
   "source": [
    "x1[0] = 3.14159 #this will be truncated!\n",
    "x1"
   ]
  },
  {
   "cell_type": "code",
   "execution_count": 57,
   "id": "6db318f8-986a-4b1d-b8c5-77aa9be73c2f",
   "metadata": {},
   "outputs": [
    {
     "data": {
      "text/plain": [
       "array([3, 4, 0, 3, 8, 6], dtype=int64)"
      ]
     },
     "execution_count": 57,
     "metadata": {},
     "output_type": "execute_result"
    }
   ],
   "source": [
    "# One-Dimensional Subarrays\n",
    "x1"
   ]
  },
  {
   "cell_type": "code",
   "execution_count": 58,
   "id": "c49f1546-8a72-460c-af51-9366d570aef4",
   "metadata": {},
   "outputs": [
    {
     "data": {
      "text/plain": [
       "array([3, 4, 0], dtype=int64)"
      ]
     },
     "execution_count": 58,
     "metadata": {},
     "output_type": "execute_result"
    }
   ],
   "source": [
    "x1[:3] #First three elements"
   ]
  },
  {
   "cell_type": "code",
   "execution_count": 59,
   "id": "1ac325e2-5bc0-4db0-9dba-b3ff10d85b26",
   "metadata": {},
   "outputs": [
    {
     "data": {
      "text/plain": [
       "array([3, 8, 6], dtype=int64)"
      ]
     },
     "execution_count": 59,
     "metadata": {},
     "output_type": "execute_result"
    }
   ],
   "source": [
    " x1[3:] # Eelements after index 3"
   ]
  },
  {
   "cell_type": "code",
   "execution_count": 60,
   "id": "f8c1a3d6-273a-4fdd-9289-279f5b38f488",
   "metadata": {},
   "outputs": [
    {
     "data": {
      "text/plain": [
       "array([4, 0, 3], dtype=int64)"
      ]
     },
     "execution_count": 60,
     "metadata": {},
     "output_type": "execute_result"
    }
   ],
   "source": [
    "x1[1:4] # middle subarray"
   ]
  },
  {
   "cell_type": "code",
   "execution_count": 61,
   "id": "b8f7f161-bc09-4d8e-ba08-0c3812f00da6",
   "metadata": {},
   "outputs": [
    {
     "data": {
      "text/plain": [
       "array([3, 0, 8], dtype=int64)"
      ]
     },
     "execution_count": 61,
     "metadata": {},
     "output_type": "execute_result"
    }
   ],
   "source": [
    "x1[::2] #every second element"
   ]
  },
  {
   "cell_type": "code",
   "execution_count": 62,
   "id": "62130fae-34a2-4ba9-b350-b7504e91dfbf",
   "metadata": {},
   "outputs": [
    {
     "data": {
      "text/plain": [
       "array([4, 3, 6], dtype=int64)"
      ]
     },
     "execution_count": 62,
     "metadata": {},
     "output_type": "execute_result"
    }
   ],
   "source": [
    "x1[1::2] # Every second element, starting at index 1"
   ]
  },
  {
   "cell_type": "code",
   "execution_count": 63,
   "id": "0524c3ee-06b3-4c5f-8d63-2d76a15c15e5",
   "metadata": {},
   "outputs": [],
   "source": [
    "# A potentially confusing case is when the step value is negative. In this case, the\n",
    "# defaults for start and stop are swapped. This becomes a convenient way to reverse\n",
    "# an array"
   ]
  },
  {
   "cell_type": "code",
   "execution_count": 64,
   "id": "5ea8a2d4-e8b0-4b29-abcb-0e39f21f57e5",
   "metadata": {},
   "outputs": [
    {
     "data": {
      "text/plain": [
       "array([6, 8, 3, 0, 4, 3], dtype=int64)"
      ]
     },
     "execution_count": 64,
     "metadata": {},
     "output_type": "execute_result"
    }
   ],
   "source": [
    "x1[::-1] # all elements, reversed"
   ]
  },
  {
   "cell_type": "code",
   "execution_count": 65,
   "id": "13ee448a-f5dc-4f63-a13d-2a2ee53f3431",
   "metadata": {},
   "outputs": [
    {
     "data": {
      "text/plain": [
       "array([8, 0, 3], dtype=int64)"
      ]
     },
     "execution_count": 65,
     "metadata": {},
     "output_type": "execute_result"
    }
   ],
   "source": [
    "x1[4::-2] # every second element from index 4, reversed"
   ]
  },
  {
   "cell_type": "markdown",
   "id": "8bcb5f2e-951c-4da6-895c-903f3568bde2",
   "metadata": {},
   "source": [
    "### Multidimensional Subarrays"
   ]
  },
  {
   "cell_type": "code",
   "execution_count": 67,
   "id": "fe0d11d6-52de-484d-aa18-68357ec92cc0",
   "metadata": {},
   "outputs": [],
   "source": [
    "# Multidimensional slices work in the same way, with multiple slices separated by com‐\n",
    "# mas. For example:"
   ]
  },
  {
   "cell_type": "code",
   "execution_count": 68,
   "id": "a4799539-c8c3-463e-affe-466169fb0bf9",
   "metadata": {},
   "outputs": [
    {
     "data": {
      "text/plain": [
       "array([[12,  1,  3,  7],\n",
       "       [ 4,  0,  2,  3],\n",
       "       [ 0,  0,  6,  9]], dtype=int64)"
      ]
     },
     "execution_count": 68,
     "metadata": {},
     "output_type": "execute_result"
    }
   ],
   "source": [
    "x2"
   ]
  },
  {
   "cell_type": "code",
   "execution_count": 69,
   "id": "c6c46e2f-a402-4524-afb1-bf9303ef0d8a",
   "metadata": {},
   "outputs": [
    {
     "data": {
      "text/plain": [
       "array([[12,  1,  3],\n",
       "       [ 4,  0,  2]], dtype=int64)"
      ]
     },
     "execution_count": 69,
     "metadata": {},
     "output_type": "execute_result"
    }
   ],
   "source": [
    "x2[:2, :3] #first two rows & three columns"
   ]
  },
  {
   "cell_type": "code",
   "execution_count": 70,
   "id": "75054e60-81f3-4b97-b623-6b6029980636",
   "metadata": {},
   "outputs": [
    {
     "data": {
      "text/plain": [
       "array([[12,  3],\n",
       "       [ 4,  2],\n",
       "       [ 0,  6]], dtype=int64)"
      ]
     },
     "execution_count": 70,
     "metadata": {},
     "output_type": "execute_result"
    }
   ],
   "source": [
    "x2[:3, ::2] #three rows, every second column"
   ]
  },
  {
   "cell_type": "code",
   "execution_count": 71,
   "id": "bcf6f3f4-9bd6-47f4-91fa-4c5b9e7e4ad8",
   "metadata": {},
   "outputs": [
    {
     "data": {
      "text/plain": [
       "array([[ 9,  6,  0,  0],\n",
       "       [ 3,  2,  0,  4],\n",
       "       [ 7,  3,  1, 12]], dtype=int64)"
      ]
     },
     "execution_count": 71,
     "metadata": {},
     "output_type": "execute_result"
    }
   ],
   "source": [
    "x2[::-1, ::-1] # All rows and columns, reversed"
   ]
  },
  {
   "cell_type": "code",
   "execution_count": 72,
   "id": "2d3e800b-fec6-41eb-a836-07618703d893",
   "metadata": {},
   "outputs": [
    {
     "data": {
      "text/plain": [
       "array([12,  4,  0], dtype=int64)"
      ]
     },
     "execution_count": 72,
     "metadata": {},
     "output_type": "execute_result"
    }
   ],
   "source": [
    "# One commonly needed routine is accessing single rows or columns of an array. This\n",
    "# can be done by combining indexing and slicing, using an empty slice marked by a\n",
    "# single colon (:):\n",
    "x2[:, 0] #first column of x2"
   ]
  },
  {
   "cell_type": "code",
   "execution_count": 73,
   "id": "8204ae06-c428-4536-8242-9e444233f212",
   "metadata": {},
   "outputs": [
    {
     "data": {
      "text/plain": [
       "array([12,  1,  3,  7], dtype=int64)"
      ]
     },
     "execution_count": 73,
     "metadata": {},
     "output_type": "execute_result"
    }
   ],
   "source": [
    "x2[0, :] #first row of x2"
   ]
  },
  {
   "cell_type": "code",
   "execution_count": 74,
   "id": "a80d60cb-a8f5-40d8-86e9-9b986e1109e3",
   "metadata": {},
   "outputs": [
    {
     "data": {
      "text/plain": [
       "array([12,  1,  3,  7], dtype=int64)"
      ]
     },
     "execution_count": 74,
     "metadata": {},
     "output_type": "execute_result"
    }
   ],
   "source": [
    "# In the case of row access, the empty slice can be ommited for \n",
    "# a more compact syntax\n",
    "x2[0,:]"
   ]
  },
  {
   "cell_type": "code",
   "execution_count": 75,
   "id": "e9f09226-2383-475c-b6d5-0bfb6c87f721",
   "metadata": {},
   "outputs": [
    {
     "data": {
      "text/plain": [
       "array([12,  1,  3,  7], dtype=int64)"
      ]
     },
     "execution_count": 75,
     "metadata": {},
     "output_type": "execute_result"
    }
   ],
   "source": [
    "# In the case of row access, the empty slice can be omitted for a \n",
    "# more compact syntaxis\n",
    "x2[0] # Equivalent to x2[0,:]"
   ]
  },
  {
   "cell_type": "markdown",
   "id": "a2b54c87-329c-40d8-9574-38c4c28566b3",
   "metadata": {},
   "source": [
    "### Multidimensional Subarrays"
   ]
  },
  {
   "cell_type": "code",
   "execution_count": 77,
   "id": "0ca700d0-9568-4f83-add8-0e2c6b4b6720",
   "metadata": {},
   "outputs": [],
   "source": [
    "# Unlike Python list slices, NumPy array slices are returned as views rather than copies\n",
    "# of the array data. Consider our two-dimensional array from before:"
   ]
  },
  {
   "cell_type": "code",
   "execution_count": 78,
   "id": "8326de2c-066a-4436-ba5a-6059acca085e",
   "metadata": {},
   "outputs": [
    {
     "name": "stdout",
     "output_type": "stream",
     "text": [
      "[[12  1  3  7]\n",
      " [ 4  0  2  3]\n",
      " [ 0  0  6  9]]\n"
     ]
    }
   ],
   "source": [
    "print(x2)"
   ]
  },
  {
   "cell_type": "code",
   "execution_count": 79,
   "id": "811b1dd7-7da2-467a-aff8-d2d2c06eb1a3",
   "metadata": {},
   "outputs": [
    {
     "name": "stdout",
     "output_type": "stream",
     "text": [
      "[[12  1]\n",
      " [ 4  0]]\n"
     ]
    }
   ],
   "source": [
    "# Let's extract a 2 x 2 subarray from this:\n",
    "x2_sub = x2[:2, :2]\n",
    "print(x2_sub)"
   ]
  },
  {
   "cell_type": "code",
   "execution_count": 80,
   "id": "9653dce3-643c-435e-a000-396ee4617348",
   "metadata": {},
   "outputs": [
    {
     "name": "stdout",
     "output_type": "stream",
     "text": [
      "[[99  1]\n",
      " [ 4  0]]\n"
     ]
    }
   ],
   "source": [
    "# Now if we modify this subarray, we'll see that the original array is\n",
    "# changed! Observe:\n",
    "x2_sub[0,0] = 99\n",
    "print(x2_sub)"
   ]
  },
  {
   "cell_type": "code",
   "execution_count": 81,
   "id": "14284228-7cea-43f1-8ff5-739aee2d9c4c",
   "metadata": {},
   "outputs": [
    {
     "name": "stdout",
     "output_type": "stream",
     "text": [
      "[[99  1  3  7]\n",
      " [ 4  0  2  3]\n",
      " [ 0  0  6  9]]\n"
     ]
    }
   ],
   "source": [
    "print(x2)"
   ]
  },
  {
   "cell_type": "markdown",
   "id": "467ea52f-c2fd-4749-b46e-7e12198d6faa",
   "metadata": {},
   "source": [
    "### Creating Copies of Arrays"
   ]
  },
  {
   "cell_type": "code",
   "execution_count": 83,
   "id": "6e1aab09-6c74-480e-bc1c-2b055f3854c3",
   "metadata": {},
   "outputs": [
    {
     "name": "stdout",
     "output_type": "stream",
     "text": [
      "[[99  1]\n",
      " [ 4  0]]\n"
     ]
    }
   ],
   "source": [
    "x2_sub_copy = x2[:2, :2].copy() #It's sometimes useful explicitly copy the data within an array or a subarray\n",
    "print(x2_sub_copy)"
   ]
  },
  {
   "cell_type": "code",
   "execution_count": 84,
   "id": "d04f3d37-5f8b-4cf6-beb1-91b6b8905225",
   "metadata": {},
   "outputs": [
    {
     "name": "stdout",
     "output_type": "stream",
     "text": [
      "[[42  1]\n",
      " [ 4  0]]\n"
     ]
    }
   ],
   "source": [
    "x2_sub_copy[0, 0] = 42\n",
    "print(x2_sub_copy)"
   ]
  },
  {
   "cell_type": "code",
   "execution_count": 85,
   "id": "280cebba-b950-467c-b491-86bba7a69990",
   "metadata": {},
   "outputs": [
    {
     "name": "stdout",
     "output_type": "stream",
     "text": [
      "[[99  1  3  7]\n",
      " [ 4  0  2  3]\n",
      " [ 0  0  6  9]]\n"
     ]
    }
   ],
   "source": [
    "print(x2)"
   ]
  },
  {
   "cell_type": "markdown",
   "id": "b61e0bd5-9f4f-4cc9-9790-ed147638c6a9",
   "metadata": {},
   "source": [
    "### Reshaping of Arrays"
   ]
  },
  {
   "cell_type": "code",
   "execution_count": 87,
   "id": "1fe5149d-763d-4970-9557-017353f7155f",
   "metadata": {},
   "outputs": [
    {
     "name": "stdout",
     "output_type": "stream",
     "text": [
      "[[1 2 3]\n",
      " [4 5 6]\n",
      " [7 8 9]]\n"
     ]
    }
   ],
   "source": [
    "grid = np.arange(1, 10).reshape(3,3)\n",
    "print(grid)"
   ]
  },
  {
   "cell_type": "code",
   "execution_count": 88,
   "id": "b65c80e3-d39e-42f8-88a8-7e18bfad41e8",
   "metadata": {},
   "outputs": [
    {
     "data": {
      "text/plain": [
       "array([[1, 2, 3]])"
      ]
     },
     "execution_count": 88,
     "metadata": {},
     "output_type": "execute_result"
    }
   ],
   "source": [
    "# A common reshaping operation is converting a one-dimensional array into a twodimensional row or column matrix:\n",
    "x = np.array([1, 2, 3])\n",
    "x.reshape((1, 3)) #row vector via reshape"
   ]
  },
  {
   "cell_type": "code",
   "execution_count": 89,
   "id": "52c7f0c0-2308-424a-8d8b-95cc945b5084",
   "metadata": {},
   "outputs": [
    {
     "data": {
      "text/plain": [
       "array([[1, 2, 3]])"
      ]
     },
     "execution_count": 89,
     "metadata": {},
     "output_type": "execute_result"
    }
   ],
   "source": [
    "x[np.newaxis, :] #row vector via newaxis (A convenient shorthand for this is the \n",
    "# to use np.newaxis in the slicing syntax"
   ]
  },
  {
   "cell_type": "code",
   "execution_count": 90,
   "id": "32bda866-612b-4d4c-b60f-66f81be6fe24",
   "metadata": {},
   "outputs": [
    {
     "data": {
      "text/plain": [
       "array([[1],\n",
       "       [2],\n",
       "       [3]])"
      ]
     },
     "execution_count": 90,
     "metadata": {},
     "output_type": "execute_result"
    }
   ],
   "source": [
    "x[:, np.newaxis] # column vector via newaxis"
   ]
  },
  {
   "cell_type": "markdown",
   "id": "51c0e3a2-31f2-40fc-b40b-178f2d660ca8",
   "metadata": {},
   "source": [
    "#### Array Concatenation and Splitting"
   ]
  },
  {
   "cell_type": "markdown",
   "id": "7e47bb8d-3a1a-43f5-8f79-7b5133995715",
   "metadata": {},
   "source": [
    "#### Concatenation of arrays"
   ]
  },
  {
   "cell_type": "code",
   "execution_count": 93,
   "id": "ea5e6f37-8f47-465e-852b-4d7624db7463",
   "metadata": {},
   "outputs": [],
   "source": [
    "# Concatenation, or joining of two arrays in NumPy, is primarily accomplished using\n",
    "# the routines np.concatenate, np.vstack, and np.hstack. np.concatenate takes a\n",
    "# tuple or list of arrays as its first argument, as you can see here:"
   ]
  },
  {
   "cell_type": "code",
   "execution_count": 94,
   "id": "3d99f194-b39c-4a26-a21f-a96a76fde638",
   "metadata": {},
   "outputs": [
    {
     "data": {
      "text/plain": [
       "array([1, 2, 3, 3, 2, 1])"
      ]
     },
     "execution_count": 94,
     "metadata": {},
     "output_type": "execute_result"
    }
   ],
   "source": [
    "x = np.array([1, 2, 3])\n",
    "y = np.array([3, 2, 1])\n",
    "np.concatenate([x, y])"
   ]
  },
  {
   "cell_type": "code",
   "execution_count": 95,
   "id": "5f504eed-59b9-4257-9522-6f56f0f3251e",
   "metadata": {},
   "outputs": [
    {
     "name": "stdout",
     "output_type": "stream",
     "text": [
      "[ 1  2  3  3  2  1 99 99 99]\n"
     ]
    }
   ],
   "source": [
    "# You can also concatenate more than two arrays at once\n",
    "z = np.array([99, 99, 99])\n",
    "print(np.concatenate([x, y, z]))"
   ]
  },
  {
   "cell_type": "code",
   "execution_count": 96,
   "id": "9b06622b-f3b5-42c7-8cec-13c7bc698b21",
   "metadata": {},
   "outputs": [
    {
     "data": {
      "text/plain": [
       "array([[1, 2, 3],\n",
       "       [4, 5, 6],\n",
       "       [1, 2, 3],\n",
       "       [4, 5, 6]])"
      ]
     },
     "execution_count": 96,
     "metadata": {},
     "output_type": "execute_result"
    }
   ],
   "source": [
    "# And it can be used for two-dimensional arrays:\n",
    "grid = np.array([[1, 2, 3],\n",
    "                 [4, 5, 6]])\n",
    "#Concatenate alog the first axis\n",
    "np.concatenate([grid, grid])"
   ]
  },
  {
   "cell_type": "code",
   "execution_count": 97,
   "id": "d49d478d-7908-4b69-9602-9cdb458f7144",
   "metadata": {},
   "outputs": [
    {
     "data": {
      "text/plain": [
       "array([[1, 2, 3, 1, 2, 3],\n",
       "       [4, 5, 6, 4, 5, 6]])"
      ]
     },
     "execution_count": 97,
     "metadata": {},
     "output_type": "execute_result"
    }
   ],
   "source": [
    "#Concatenate along the second axis (zero-indexed)\n",
    "np.concatenate([grid, grid], axis=1)"
   ]
  },
  {
   "cell_type": "code",
   "execution_count": 98,
   "id": "a720b531-aaad-4a07-a615-146a96289d21",
   "metadata": {},
   "outputs": [
    {
     "data": {
      "text/plain": [
       "array([[1, 2, 3],\n",
       "       [1, 2, 3],\n",
       "       [4, 5, 6]])"
      ]
     },
     "execution_count": 98,
     "metadata": {},
     "output_type": "execute_result"
    }
   ],
   "source": [
    "# For working with arrays of mixed dimensions, it can be clearer to use the np.vstack\n",
    "# (vertical stack) and np.hstack, (horizontal stack) functions:\n",
    "# Vertically stack the arrays\n",
    "np.vstack([x, grid])"
   ]
  },
  {
   "cell_type": "code",
   "execution_count": 99,
   "id": "96830348-e14c-4723-80ae-261323110dc1",
   "metadata": {},
   "outputs": [
    {
     "data": {
      "text/plain": [
       "array([[ 1,  2,  3, 99],\n",
       "       [ 4,  5,  6, 99]])"
      ]
     },
     "execution_count": 99,
     "metadata": {},
     "output_type": "execute_result"
    }
   ],
   "source": [
    "# Horizontally stack the arrays\n",
    "y = np.array([[99],\n",
    "              [99]])\n",
    "np.hstack([grid, y])"
   ]
  },
  {
   "cell_type": "markdown",
   "id": "f1707efe-ba90-44ec-bfed-2fceb5531e77",
   "metadata": {},
   "source": [
    "#### Splitting of Arrays"
   ]
  },
  {
   "cell_type": "code",
   "execution_count": 101,
   "id": "6b8e4742-8ee9-4b5e-b7a4-0fbd42c5c0ed",
   "metadata": {},
   "outputs": [
    {
     "name": "stdout",
     "output_type": "stream",
     "text": [
      "[1 2 3] [99 99] [3 2 1]\n"
     ]
    }
   ],
   "source": [
    "x = [1, 2, 3, 99, 99, 3, 2, 1]\n",
    "x1, x2, x3 = np.split(x, [3, 5])\n",
    "print(x1, x2, x3)"
   ]
  },
  {
   "cell_type": "code",
   "execution_count": 102,
   "id": "bc384b13-58ee-416a-b21a-94ac4c014805",
   "metadata": {},
   "outputs": [
    {
     "data": {
      "text/plain": [
       "array([[ 0,  1,  2,  3],\n",
       "       [ 4,  5,  6,  7],\n",
       "       [ 8,  9, 10, 11],\n",
       "       [12, 13, 14, 15]])"
      ]
     },
     "execution_count": 102,
     "metadata": {},
     "output_type": "execute_result"
    }
   ],
   "source": [
    "# Notice that N split points leads to N + 1 subarrays. The related functions\n",
    "# np.hsplit and np.vsplit are similar:\n",
    "grid = np.arange(16).reshape((4,4))\n",
    "grid"
   ]
  },
  {
   "cell_type": "code",
   "execution_count": 103,
   "id": "87747616-b620-477f-aa9f-40aec1e0c4b1",
   "metadata": {},
   "outputs": [
    {
     "name": "stdout",
     "output_type": "stream",
     "text": [
      "[[0 1 2 3]\n",
      " [4 5 6 7]]\n",
      "[[ 8  9 10 11]\n",
      " [12 13 14 15]]\n"
     ]
    }
   ],
   "source": [
    "upper, lower = np.vsplit(grid, [2])\n",
    "print(upper)\n",
    "print(lower)"
   ]
  },
  {
   "cell_type": "code",
   "execution_count": 104,
   "id": "16bc1295-fd6d-4207-b2b9-9e8c16ef7772",
   "metadata": {},
   "outputs": [
    {
     "name": "stdout",
     "output_type": "stream",
     "text": [
      "[[ 0  1]\n",
      " [ 4  5]\n",
      " [ 8  9]\n",
      " [12 13]]\n",
      "[[ 2  3]\n",
      " [ 6  7]\n",
      " [10 11]\n",
      " [14 15]]\n"
     ]
    }
   ],
   "source": [
    "left, right = np.hsplit(grid, [2])\n",
    "print(left)\n",
    "print(right)"
   ]
  },
  {
   "cell_type": "markdown",
   "id": "81135bf9-2cd9-4381-a408-84579923a121",
   "metadata": {},
   "source": [
    "### Chapter 6: Computation on NumPy Arrays: Universal Functions"
   ]
  },
  {
   "cell_type": "markdown",
   "id": "1facd44b-a3c0-4535-853c-4f1c224fd677",
   "metadata": {},
   "source": [
    "#### The Slowness of Loops"
   ]
  },
  {
   "cell_type": "code",
   "execution_count": 107,
   "id": "b7e0346b-fbeb-4ca0-b790-140431c20abf",
   "metadata": {},
   "outputs": [],
   "source": [
    "import numpy as np\n",
    "rng = np.random.default_rng(seed=1701)"
   ]
  },
  {
   "cell_type": "code",
   "execution_count": 108,
   "id": "0f5256f1-4be6-4c8d-aeba-ae56c5362908",
   "metadata": {},
   "outputs": [],
   "source": [
    "# The relative sluggishness of Python generally manifests itself in situations where\n",
    "# many small operations are being repeated; for instance, looping over arrays to operate\n",
    "# on each element. For example, imagine we have an array of values and we’d like to\n",
    "# compute the reciprocal of each. A straightforward approach might look like this:"
   ]
  },
  {
   "cell_type": "code",
   "execution_count": 109,
   "id": "b0dc0dfd-3e48-4e09-8d51-b0af27e29788",
   "metadata": {},
   "outputs": [
    {
     "data": {
      "text/plain": [
       "array([0.11111111, 0.25      , 1.        , 0.33333333, 0.125     ])"
      ]
     },
     "execution_count": 109,
     "metadata": {},
     "output_type": "execute_result"
    }
   ],
   "source": [
    "def compute_reciprocals(values):\n",
    "    output = np.empty(len(values))\n",
    "    for i in range(len(values)):\n",
    "        output[i] = 1.0 / values[i]\n",
    "    return output\n",
    "\n",
    "values = rng.integers(1, 10, size=5)\n",
    "compute_reciprocals(values)"
   ]
  },
  {
   "cell_type": "code",
   "execution_count": 110,
   "id": "f771dcb3-a1ce-4053-bec1-ab6d0ea966ec",
   "metadata": {},
   "outputs": [],
   "source": [
    "# But if we measure the execution time of this code for a large input, we\n",
    "# see that this operation is very slow—perhaps surprisingly so! We’ll benchmark this\n",
    "# with IPython’s %timeit magic (discussed in “Profiling and Timing Code” on page 26)"
   ]
  },
  {
   "cell_type": "code",
   "execution_count": 111,
   "id": "952261dc-021b-4350-b71a-c195375561ae",
   "metadata": {},
   "outputs": [
    {
     "name": "stdout",
     "output_type": "stream",
     "text": [
      "3.48 s ± 190 ms per loop (mean ± std. dev. of 7 runs, 1 loop each)\n"
     ]
    }
   ],
   "source": [
    "big_array = rng.integers(1, 100, size=1000000)\n",
    "%timeit compute_reciprocals(big_array)"
   ]
  },
  {
   "cell_type": "markdown",
   "id": "ee780ae1-b601-4b45-8ac4-b72edf04bb71",
   "metadata": {},
   "source": [
    "#### Introducing Ufuncs"
   ]
  },
  {
   "cell_type": "code",
   "execution_count": 113,
   "id": "895fca21-85f9-4986-91e3-e1a5a4f1eb42",
   "metadata": {},
   "outputs": [],
   "source": [
    "# For many types of operations, NumPy provides a convenient interface into just this\n",
    "# kind of statically typed, compiled routine. This is known as a vectorized operation.\n",
    "# For simple operations like the element-wise division here, vectorization is as simple\n",
    "# as using Python arithmetic operators directly on the array object. This vectorized\n",
    "# approach is designed to push the loop into the compiled layer that underlies NumPy,\n",
    "# leading to much faster execution."
   ]
  },
  {
   "cell_type": "code",
   "execution_count": 114,
   "id": "db78537f-b766-4d0a-9e04-c62b4de82ba5",
   "metadata": {},
   "outputs": [
    {
     "name": "stdout",
     "output_type": "stream",
     "text": [
      "[0.11111111 0.25       1.         0.33333333 0.125     ]\n",
      "[0.11111111 0.25       1.         0.33333333 0.125     ]\n"
     ]
    }
   ],
   "source": [
    "print(compute_reciprocals(values))\n",
    "print(1.0 / values)"
   ]
  },
  {
   "cell_type": "code",
   "execution_count": 115,
   "id": "e025c8fa-1cf6-4269-aafb-ef66f6a048c4",
   "metadata": {},
   "outputs": [
    {
     "name": "stdout",
     "output_type": "stream",
     "text": [
      "3.61 ms ± 440 μs per loop (mean ± std. dev. of 7 runs, 100 loops each)\n"
     ]
    }
   ],
   "source": [
    "%timeit (1.0 / big_array)"
   ]
  },
  {
   "cell_type": "code",
   "execution_count": 116,
   "id": "d6045dd8-4603-47b1-858d-5df048568db4",
   "metadata": {},
   "outputs": [],
   "source": [
    "# Vectorized operations in NumPy are implemented via ufuncs, whose main purpose is\n",
    "# to quickly execute repeated operations on values in NumPy arrays. Ufuncs are\n",
    "# extremely flexible—before we saw an operation between a scalar and an array, but we\n",
    "# can also operate between two arrays:"
   ]
  },
  {
   "cell_type": "code",
   "execution_count": 117,
   "id": "e7cdffb3-4fd0-435e-8e9f-51fdf8388714",
   "metadata": {},
   "outputs": [
    {
     "data": {
      "text/plain": [
       "array([0.        , 0.5       , 0.66666667, 0.75      , 0.8       ])"
      ]
     },
     "execution_count": 117,
     "metadata": {},
     "output_type": "execute_result"
    }
   ],
   "source": [
    "np.arange(5) / np.arange(1, 6)"
   ]
  },
  {
   "cell_type": "code",
   "execution_count": 118,
   "id": "a0565302-8c7d-4d2b-bb86-e4ec808cb01e",
   "metadata": {},
   "outputs": [],
   "source": [
    "# And ufunc operations are not limited to one-dimensional arrays. They can act on\n",
    "# multidimensional arrays as well:"
   ]
  },
  {
   "cell_type": "code",
   "execution_count": 119,
   "id": "2180bc9b-2fd0-4495-8f55-d4a897cd03e5",
   "metadata": {},
   "outputs": [
    {
     "data": {
      "text/plain": [
       "array([[  1,   2,   4],\n",
       "       [  8,  16,  32],\n",
       "       [ 64, 128, 256]], dtype=int32)"
      ]
     },
     "execution_count": 119,
     "metadata": {},
     "output_type": "execute_result"
    }
   ],
   "source": [
    "x = np.arange(9).reshape((3,3))\n",
    "2 ** x"
   ]
  },
  {
   "cell_type": "markdown",
   "id": "e19bb595-816a-4e9a-9d08-d64605e8e734",
   "metadata": {},
   "source": [
    "#### Array Arithmetic"
   ]
  },
  {
   "cell_type": "code",
   "execution_count": 121,
   "id": "4f253573-b057-4dff-8287-5f351f216d12",
   "metadata": {},
   "outputs": [],
   "source": [
    "# NumPy’s ufuncs feel very natural to use because they make use of Python’s native\n",
    "# arithmetic operators. The standard addition, subtraction, multiplication, and division\n",
    "# can all be used:"
   ]
  },
  {
   "cell_type": "code",
   "execution_count": 122,
   "id": "7ecb8c07-0381-4c0e-adaa-c0dff7f9d480",
   "metadata": {},
   "outputs": [
    {
     "name": "stdout",
     "output_type": "stream",
     "text": [
      "x     = [0 1 2 3]\n",
      "x + 5 = [5 6 7 8]\n",
      "x - 5 = [-5 -4 -3 -2]\n",
      "x * 2 = [0.  0.5 1.  1.5]\n",
      "x // 2 = [0 0 1 1]\n"
     ]
    }
   ],
   "source": [
    "x = np.arange(4)\n",
    "print(\"x     =\", x)\n",
    "print(\"x + 5 =\", x + 5)\n",
    "print(\"x - 5 =\", x - 5)\n",
    "print(\"x * 2 =\", x / 2)\n",
    "print(\"x // 2 =\", x// 2) #floor division"
   ]
  },
  {
   "cell_type": "code",
   "execution_count": 123,
   "id": "fa0597d9-18d9-4d1f-bacf-9a07f56a97ac",
   "metadata": {},
   "outputs": [
    {
     "name": "stdout",
     "output_type": "stream",
     "text": [
      "-x     = [ 0 -1 -2 -3]\n",
      "x ** 2 = [0 1 4 9]\n",
      "x % 2  = [0 1 0 1]\n"
     ]
    }
   ],
   "source": [
    "# There is also a unary ufunc for negation, a ** operator for exponentiation, and a %\n",
    "# operator for modulus:\n",
    "print(\"-x     =\", -x)\n",
    "print(\"x ** 2 =\", x ** 2)\n",
    "print(\"x % 2  =\", x % 2)"
   ]
  },
  {
   "cell_type": "code",
   "execution_count": 124,
   "id": "e8c2fa38-0b2b-45f4-932a-c7309d2ba9c9",
   "metadata": {},
   "outputs": [
    {
     "data": {
      "text/plain": [
       "array([-1.  , -2.25, -4.  , -6.25])"
      ]
     },
     "execution_count": 124,
     "metadata": {},
     "output_type": "execute_result"
    }
   ],
   "source": [
    "#In addition, these can be strung together however you wish, and the standard order\n",
    "#of operations is respected:\n",
    "-(0.5*x + 1) ** 2"
   ]
  },
  {
   "cell_type": "code",
   "execution_count": 125,
   "id": "963fccc6-73c8-4447-b856-2d9adef150f3",
   "metadata": {},
   "outputs": [
    {
     "data": {
      "text/plain": [
       "array([2, 3, 4, 5])"
      ]
     },
     "execution_count": 125,
     "metadata": {},
     "output_type": "execute_result"
    }
   ],
   "source": [
    "# All of these arithmetic operations are simply convenient wrappers around specific\n",
    "# ufuncs built into NumPy. For example, the + operator is a wrapper for the add ufunc:\n",
    "np.add(x, 2)"
   ]
  },
  {
   "cell_type": "markdown",
   "id": "f4891544-70de-444e-bf14-a6211d97a2c1",
   "metadata": {},
   "source": [
    "#### Absolute Value"
   ]
  },
  {
   "cell_type": "code",
   "execution_count": 127,
   "id": "367036fc-674d-4d86-b028-f47004737def",
   "metadata": {},
   "outputs": [
    {
     "data": {
      "text/plain": [
       "array([2, 1, 0, 1, 2])"
      ]
     },
     "execution_count": 127,
     "metadata": {},
     "output_type": "execute_result"
    }
   ],
   "source": [
    "# Just as NumPy understands Python’s built-in arithmetic operators, it also understands\n",
    "# Python’s built-in absolute value function:\n",
    "x = np.array([-2, -1, 0, 1, 2])\n",
    "abs(x)"
   ]
  },
  {
   "cell_type": "code",
   "execution_count": 128,
   "id": "7577c990-2ecd-4056-8756-87c7a18c7f32",
   "metadata": {},
   "outputs": [
    {
     "data": {
      "text/plain": [
       "array([2, 1, 0, 1, 2])"
      ]
     },
     "execution_count": 128,
     "metadata": {},
     "output_type": "execute_result"
    }
   ],
   "source": [
    "# The corresponding NumPy ufunc is np.absolute, which is also available under the\n",
    "# alias np.abs:\n",
    "np.absolute(x)"
   ]
  },
  {
   "cell_type": "code",
   "execution_count": 129,
   "id": "38acc261-604f-446d-a064-a6a59ef369df",
   "metadata": {},
   "outputs": [
    {
     "data": {
      "text/plain": [
       "array([2, 1, 0, 1, 2])"
      ]
     },
     "execution_count": 129,
     "metadata": {},
     "output_type": "execute_result"
    }
   ],
   "source": [
    "np.abs(x)"
   ]
  },
  {
   "cell_type": "code",
   "execution_count": 130,
   "id": "b360138a-b21b-4b6f-9def-78d16fcb5a6e",
   "metadata": {},
   "outputs": [
    {
     "data": {
      "text/plain": [
       "array([5., 5., 2., 1.])"
      ]
     },
     "execution_count": 130,
     "metadata": {},
     "output_type": "execute_result"
    }
   ],
   "source": [
    "# This ufunc can also handle complex data, in which case it returns the magnitude:\n",
    "x = np.array([3 - 4j, 4 - 3j, 2 + 0j, 0 + 1j])\n",
    "np.abs(x)"
   ]
  },
  {
   "cell_type": "markdown",
   "id": "496d7f65-9076-45b8-8677-fe56e9859fbd",
   "metadata": {},
   "source": [
    "#### Trigonometric Functions"
   ]
  },
  {
   "cell_type": "code",
   "execution_count": 132,
   "id": "a631eb37-58d6-4baa-94a6-518d8673ebe8",
   "metadata": {},
   "outputs": [],
   "source": [
    "# NumPy provides a large number of useful ufuncs, and some of the most useful for the\n",
    "# data scientist are the trigonometric functions. We’ll start by defining an array of\n",
    "# angles:"
   ]
  },
  {
   "cell_type": "code",
   "execution_count": 133,
   "id": "4f599977-6a1b-4a44-a11f-b549972b9f46",
   "metadata": {},
   "outputs": [],
   "source": [
    "theta = np.linspace(0, np.pi, 3)"
   ]
  },
  {
   "cell_type": "code",
   "execution_count": 134,
   "id": "77e9dde4-fec1-468f-bc83-384f5b875f89",
   "metadata": {},
   "outputs": [
    {
     "name": "stdout",
     "output_type": "stream",
     "text": [
      "theta      = [0.         1.57079633 3.14159265]\n",
      "sin(theta) = [0.0000000e+00 1.0000000e+00 1.2246468e-16]\n",
      "cos(theta) = [ 1.000000e+00  6.123234e-17 -1.000000e+00]\n",
      "tan(theta) = [ 0.00000000e+00  1.63312394e+16 -1.22464680e-16]\n"
     ]
    }
   ],
   "source": [
    "# Some trigonometric functions on these values\n",
    "print(\"theta      =\", theta)\n",
    "print(\"sin(theta) =\", np.sin(theta))\n",
    "print(\"cos(theta) =\", np.cos(theta))\n",
    "print(\"tan(theta) =\", np.tan(theta))"
   ]
  },
  {
   "cell_type": "markdown",
   "id": "d54de706-9a8a-4238-83f9-c659c76287cc",
   "metadata": {},
   "source": [
    "The values are computed to within machine precision, which is why values that\n",
    "should be zero do not always hit exactly zero. Inverse trigonometric functions are also available:"
   ]
  },
  {
   "cell_type": "code",
   "execution_count": 136,
   "id": "e6f39b51-9b75-4760-9000-8bcdccbd4fb2",
   "metadata": {},
   "outputs": [
    {
     "name": "stdout",
     "output_type": "stream",
     "text": [
      "x =  [-1, 0, 1]\n",
      "arcsin(x) =  [-1.57079633  0.          1.57079633]\n",
      "arccos(x) =  [3.14159265 1.57079633 0.        ]\n",
      "arctan(x) =  [-0.78539816  0.          0.78539816]\n"
     ]
    }
   ],
   "source": [
    "x = [-1, 0, 1]\n",
    "print(\"x = \", x)\n",
    "print(\"arcsin(x) = \", np.arcsin(x))\n",
    "print(\"arccos(x) = \", np.arccos(x))\n",
    "print(\"arctan(x) = \", np.arctan(x))"
   ]
  },
  {
   "cell_type": "markdown",
   "id": "2f1e6de2-6b74-4b4b-a5b9-b820ce89d710",
   "metadata": {},
   "source": [
    "#### Trigonometric Functions"
   ]
  },
  {
   "cell_type": "markdown",
   "id": "8d2a66cf-320d-47cc-a3ed-74b0cfc0131c",
   "metadata": {},
   "source": [
    "Other common operations available in NumPy ufuncs are the exponentials:"
   ]
  },
  {
   "cell_type": "code",
   "execution_count": 139,
   "id": "ac238bf4-60e2-4ba6-b691-214fa2889911",
   "metadata": {},
   "outputs": [
    {
     "name": "stdout",
     "output_type": "stream",
     "text": [
      "x = [1, 2, 3]\n",
      "e^x = [ 2.71828183  7.3890561  20.08553692]\n",
      "2^x = [2. 4. 8.]\n",
      "3^x = [ 3.  9. 27.]\n"
     ]
    }
   ],
   "source": [
    "x = [1, 2, 3]\n",
    "print(\"x =\", x)\n",
    "print(\"e^x =\", np.exp(x))\n",
    "print(\"2^x =\", np.exp2(x))\n",
    "print(\"3^x =\", np.power(3., x))"
   ]
  },
  {
   "cell_type": "code",
   "execution_count": 140,
   "id": "ba791cb3-c080-4836-ab58-39429529479c",
   "metadata": {},
   "outputs": [],
   "source": [
    "# The inverse of the exponentials, the logarithms, are also available. The basic np.log\n",
    "# gives the natural logarithm; if you prefer to compute the base-2 logarithm or the\n",
    "# base-10 logarithm, these are available as well:"
   ]
  },
  {
   "cell_type": "code",
   "execution_count": 141,
   "id": "361b27f1-5a11-49d4-8696-1ee23b077d69",
   "metadata": {},
   "outputs": [
    {
     "name": "stdout",
     "output_type": "stream",
     "text": [
      "x = [1, 2, 4, 10]\n",
      "ln(x) = [0.         0.69314718 1.38629436 2.30258509]\n",
      "log2(x) = [0.         1.         2.         3.32192809]\n",
      "log10(x) = [0.         0.30103    0.60205999 1.        ]\n"
     ]
    }
   ],
   "source": [
    "x = [1, 2, 4, 10]\n",
    "print(\"x =\", x)\n",
    "print(\"ln(x) =\", np.log(x))\n",
    "print(\"log2(x) =\", np.log2(x))\n",
    "print(\"log10(x) =\", np.log10(x))"
   ]
  },
  {
   "cell_type": "markdown",
   "id": "e9e5adaa-f6ca-4826-b3f7-700ac9d3578d",
   "metadata": {},
   "source": [
    "There are also some specialized versions that are useful for maintaining precision with very small input:"
   ]
  },
  {
   "cell_type": "code",
   "execution_count": 143,
   "id": "c0f52a20-2ba4-4789-b33c-c49febe636c5",
   "metadata": {},
   "outputs": [
    {
     "name": "stdout",
     "output_type": "stream",
     "text": [
      "exp(x) - 1 = [0.         0.0010005  0.01005017 0.10517092]\n",
      "log(1 + x) = [0.         0.0009995  0.00995033 0.09531018]\n"
     ]
    }
   ],
   "source": [
    "x = [0, 0.001, 0.01, 0.1]\n",
    "print(\"exp(x) - 1 =\", np.expm1(x))\n",
    "print(\"log(1 + x) =\", np.log1p(x))"
   ]
  },
  {
   "cell_type": "markdown",
   "id": "69c6dbe6-46f9-4ec6-93f5-f8cf0e63727d",
   "metadata": {},
   "source": [
    "When x is very small, these functions give more precise values than if the raw np.log or np.exp were to be used."
   ]
  },
  {
   "cell_type": "markdown",
   "id": "940b959d-f7b6-4cf5-80fb-99ded22f0c2d",
   "metadata": {},
   "source": [
    "#### Specialized Ufuncs"
   ]
  },
  {
   "cell_type": "markdown",
   "id": "edcf3996-2727-43a8-a002-49b942b015a8",
   "metadata": {},
   "source": [
    "For large calculations, it is sometimes useful to be able to specify the array where the result of the calculation will be stored. For all ufuncs, this can be done using the out argument of the function:"
   ]
  },
  {
   "cell_type": "code",
   "execution_count": 147,
   "id": "27ce0e2c-c0b3-4b00-bfa4-30a416c57199",
   "metadata": {},
   "outputs": [
    {
     "name": "stdout",
     "output_type": "stream",
     "text": [
      "[ 0. 10. 20. 30. 40.]\n"
     ]
    }
   ],
   "source": [
    "x = np.arange(5)\n",
    "y = np.empty(5)\n",
    "np.multiply(x, 10, out=y)\n",
    "print(y)"
   ]
  },
  {
   "cell_type": "markdown",
   "id": "a2b7d304-04bb-4025-b4bb-208b7bff18a6",
   "metadata": {},
   "source": [
    "This can even be used with array views. For example, we can write the results of a computation to every other element of a specified array"
   ]
  },
  {
   "cell_type": "code",
   "execution_count": 149,
   "id": "8b47d402-c371-4ba9-9a79-59bccdbff0d2",
   "metadata": {},
   "outputs": [
    {
     "name": "stdout",
     "output_type": "stream",
     "text": [
      "[ 1.  0.  2.  0.  4.  0.  8.  0. 16.  0.]\n"
     ]
    }
   ],
   "source": [
    "y = np.zeros(10)\n",
    "np.power(2, x, out=y[::2])\n",
    "print(y)"
   ]
  },
  {
   "cell_type": "markdown",
   "id": "55920c14-d131-4ecb-8f29-5a321308d817",
   "metadata": {},
   "source": [
    "If we had instead written y[::2] = 2 ** x, this would have resulted in the creation of a temporary array to hold the results of 2 ** x, followed by a second operation copying those values into the y array. This doesn’t make much of a difference for such a small computation, but for very large arrays the memory savings from careful use of the out argument can be significant."
   ]
  },
  {
   "cell_type": "markdown",
   "id": "21f9cf5b-969d-424a-8045-953ef3efcb85",
   "metadata": {},
   "source": [
    "#### Aggregations"
   ]
  },
  {
   "cell_type": "markdown",
   "id": "071dae8a-93f9-4a1e-a17b-da90c7362121",
   "metadata": {},
   "source": [
    "For binary ufuncs, aggregations can be computed directly from the object. For example, if we’d like to reduce an array with a particular operation, we can use the reduce method of any ufunc. A reduce repeatedly applies a given operation to the elements of an array until only a single result remains."
   ]
  },
  {
   "cell_type": "code",
   "execution_count": 153,
   "id": "1cfc70eb-24c7-4e7b-a980-2de8f5393eaa",
   "metadata": {},
   "outputs": [
    {
     "data": {
      "text/plain": [
       "15"
      ]
     },
     "execution_count": 153,
     "metadata": {},
     "output_type": "execute_result"
    }
   ],
   "source": [
    "x = np.arange(1, 6)\n",
    "np.add.reduce(x)"
   ]
  },
  {
   "cell_type": "markdown",
   "id": "174fdaed-65ac-4b41-a8bd-fd479f6f0374",
   "metadata": {},
   "source": [
    "Similarly, calling reduce on the multiply ufunc results in the product of all array elements:"
   ]
  },
  {
   "cell_type": "code",
   "execution_count": 155,
   "id": "30f319e6-ff89-4b49-bd21-d1150c0a959c",
   "metadata": {},
   "outputs": [
    {
     "data": {
      "text/plain": [
       "120"
      ]
     },
     "execution_count": 155,
     "metadata": {},
     "output_type": "execute_result"
    }
   ],
   "source": [
    "np.multiply.reduce(x)"
   ]
  },
  {
   "cell_type": "markdown",
   "id": "28aaf2a8-a165-429b-a638-3c8c89bba5b6",
   "metadata": {},
   "source": [
    "If we’d like to store all the intermediate results of the computation, we can instead use accumulate:"
   ]
  },
  {
   "cell_type": "code",
   "execution_count": 157,
   "id": "ae322b21-9804-4837-8218-af59ae33214e",
   "metadata": {},
   "outputs": [
    {
     "data": {
      "text/plain": [
       "array([ 1,  3,  6, 10, 15])"
      ]
     },
     "execution_count": 157,
     "metadata": {},
     "output_type": "execute_result"
    }
   ],
   "source": [
    "np.add.accumulate(x)"
   ]
  },
  {
   "cell_type": "code",
   "execution_count": 158,
   "id": "b96dca67-c968-4c64-983d-b052627f0ecd",
   "metadata": {},
   "outputs": [
    {
     "data": {
      "text/plain": [
       "array([  1,   2,   6,  24, 120])"
      ]
     },
     "execution_count": 158,
     "metadata": {},
     "output_type": "execute_result"
    }
   ],
   "source": [
    "np.multiply.accumulate(x)"
   ]
  },
  {
   "cell_type": "markdown",
   "id": "aa193d56-f5eb-4b16-852a-7b91f59d5350",
   "metadata": {},
   "source": [
    "#### Outer Products"
   ]
  },
  {
   "cell_type": "code",
   "execution_count": 160,
   "id": "87708a9f-725c-417c-8682-e725694abe2b",
   "metadata": {},
   "outputs": [
    {
     "data": {
      "text/plain": [
       "array([[ 1,  2,  3,  4,  5],\n",
       "       [ 2,  4,  6,  8, 10],\n",
       "       [ 3,  6,  9, 12, 15],\n",
       "       [ 4,  8, 12, 16, 20],\n",
       "       [ 5, 10, 15, 20, 25]])"
      ]
     },
     "execution_count": 160,
     "metadata": {},
     "output_type": "execute_result"
    }
   ],
   "source": [
    "x = np.arange(1, 6)\n",
    "np.multiply.outer(x, x)"
   ]
  },
  {
   "cell_type": "markdown",
   "id": "27a7e391-c8da-4b9b-a9e0-569322d9ee29",
   "metadata": {},
   "source": [
    "### Chapter 7: Aggreations: min, max, and Everthing in Between"
   ]
  },
  {
   "cell_type": "markdown",
   "id": "c11a62e6-1b9d-4614-8420-dc690cf712e3",
   "metadata": {},
   "source": [
    "A first step in exploring any dataset is often to compute various summary statistics. Perhaps the most common summary statistics are the mean and standard deviation, which allow you to summarize the “typical” values in a dataset, but other aggregations are useful as well (the sum, product, median, minimum and maximum, quantiles, etc.)"
   ]
  },
  {
   "cell_type": "markdown",
   "id": "4b8e2c57-f83e-4eaf-b4af-3a9fcce106c1",
   "metadata": {},
   "source": [
    "#### Summing the Values in an Array"
   ]
  },
  {
   "cell_type": "code",
   "execution_count": 164,
   "id": "437ead31-3782-40a3-bd11-bfa69d63c176",
   "metadata": {},
   "outputs": [],
   "source": [
    "# As a quick example, consider computing the sum of all values in an array. Python\n",
    "# itself can do this using the built-in sum function:"
   ]
  },
  {
   "cell_type": "code",
   "execution_count": 165,
   "id": "657a578d-2b75-4843-b5a2-75a8b4216830",
   "metadata": {},
   "outputs": [
    {
     "data": {
      "text/plain": [
       "49.90484940915102"
      ]
     },
     "execution_count": 165,
     "metadata": {},
     "output_type": "execute_result"
    }
   ],
   "source": [
    "import numpy as np\n",
    "rng = np.random.default_rng()\n",
    "L = rng.random(100)\n",
    "sum(L)"
   ]
  },
  {
   "cell_type": "code",
   "execution_count": 166,
   "id": "6acf26bb-6a6e-496e-b1c8-89d58c023154",
   "metadata": {},
   "outputs": [
    {
     "data": {
      "text/plain": [
       "49.904849409151005"
      ]
     },
     "execution_count": 166,
     "metadata": {},
     "output_type": "execute_result"
    }
   ],
   "source": [
    "# The syntax is quite similar to that of NumPy’s sum function, and the result is the same\n",
    "# in the simplest case:\n",
    "np.sum(L)"
   ]
  },
  {
   "cell_type": "code",
   "execution_count": 167,
   "id": "e64b4c0f-f1f8-4ab0-9b8b-f739f2e645fd",
   "metadata": {},
   "outputs": [
    {
     "name": "stdout",
     "output_type": "stream",
     "text": [
      "138 ms ± 16.9 ms per loop (mean ± std. dev. of 7 runs, 10 loops each)\n",
      "1.1 ms ± 26 μs per loop (mean ± std. dev. of 7 runs, 1,000 loops each)\n"
     ]
    }
   ],
   "source": [
    "# However, because it executes the operation in compiled code, NumPy’s version of the\n",
    "# operation is computed much more quickly\n",
    "big_array = rng.random(1000000)\n",
    "%timeit sum(big_array)\n",
    "%timeit np.sum(big_array)"
   ]
  },
  {
   "cell_type": "markdown",
   "id": "1c917f84-f162-486d-8672-6f4f56a999f4",
   "metadata": {},
   "source": [
    "#### Minimum and Maximum"
   ]
  },
  {
   "cell_type": "code",
   "execution_count": 169,
   "id": "e64cdd93-17d9-4059-969c-b8f3ef1a9dae",
   "metadata": {},
   "outputs": [
    {
     "data": {
      "text/plain": [
       "(1.0011084156102967e-06, 0.9999975960632319)"
      ]
     },
     "execution_count": 169,
     "metadata": {},
     "output_type": "execute_result"
    }
   ],
   "source": [
    "# Similarly, Python has built-in min and max functions, used to find the minimum value\n",
    "# and maximum value of any given array:\n",
    "min(big_array), max(big_array)"
   ]
  },
  {
   "cell_type": "code",
   "execution_count": 170,
   "id": "be465548-26d6-4077-b03e-8ba0777481d1",
   "metadata": {},
   "outputs": [
    {
     "data": {
      "text/plain": [
       "(1.0011084156102967e-06, 0.9999975960632319)"
      ]
     },
     "execution_count": 170,
     "metadata": {},
     "output_type": "execute_result"
    }
   ],
   "source": [
    "# NumPy’s corresponding functions have similar syntax, and again operate much more\n",
    "# quickly:\n",
    "np.min(big_array), np.max(big_array)"
   ]
  },
  {
   "cell_type": "code",
   "execution_count": 171,
   "id": "4f6371b5-82f3-48f1-a9b0-048cb0cac766",
   "metadata": {},
   "outputs": [
    {
     "name": "stdout",
     "output_type": "stream",
     "text": [
      "86.5 ms ± 4.4 ms per loop (mean ± std. dev. of 7 runs, 10 loops each)\n",
      "834 μs ± 20.6 μs per loop (mean ± std. dev. of 7 runs, 1,000 loops each)\n"
     ]
    }
   ],
   "source": [
    "%timeit min(big_array)\n",
    "%timeit np.min(big_array)"
   ]
  },
  {
   "cell_type": "code",
   "execution_count": 172,
   "id": "0c61956c-07d1-442f-a0d6-760e71430587",
   "metadata": {},
   "outputs": [
    {
     "name": "stdout",
     "output_type": "stream",
     "text": [
      "1.0011084156102967e-06 0.9999975960632319 499781.767161284\n"
     ]
    }
   ],
   "source": [
    "# For min, max, sum, and several other NumPy aggregates, a shorter syntax is to use\n",
    "# methods of the array object itself:\n",
    "print(big_array.min(), big_array.max(), big_array.sum())"
   ]
  },
  {
   "cell_type": "markdown",
   "id": "c1288a3c-dc22-4fc5-81cc-c4361587edef",
   "metadata": {},
   "source": [
    "#### Multidimensional Aggregates"
   ]
  },
  {
   "cell_type": "code",
   "execution_count": 174,
   "id": "87f83668-7265-4e90-a2fc-ac9dd5b97dd9",
   "metadata": {},
   "outputs": [
    {
     "name": "stdout",
     "output_type": "stream",
     "text": [
      "[[2 2 9 2]\n",
      " [2 3 4 4]\n",
      " [2 3 0 5]]\n"
     ]
    }
   ],
   "source": [
    "M = rng.integers(0, 10, (3, 4))\n",
    "print(M)"
   ]
  },
  {
   "cell_type": "code",
   "execution_count": 175,
   "id": "125518e8-8839-440b-a881-6bfd937e3d03",
   "metadata": {},
   "outputs": [
    {
     "data": {
      "text/plain": [
       "38"
      ]
     },
     "execution_count": 175,
     "metadata": {},
     "output_type": "execute_result"
    }
   ],
   "source": [
    "# NumPy aggregations will apply across all elements of a multidimensional array:\n",
    "M.sum()"
   ]
  },
  {
   "cell_type": "code",
   "execution_count": 176,
   "id": "5f7967d4-1c28-48f8-9b72-c854e4fb6301",
   "metadata": {},
   "outputs": [
    {
     "data": {
      "text/plain": [
       "array([2, 2, 0, 2], dtype=int64)"
      ]
     },
     "execution_count": 176,
     "metadata": {},
     "output_type": "execute_result"
    }
   ],
   "source": [
    "# Aggregation functions take an additional argument specifying the axis along which\n",
    "# the aggregate is computed. For example, we can find the minimum value within each\n",
    "# column by specifying axis=0:\n",
    "M.min(axis=0)"
   ]
  },
  {
   "cell_type": "code",
   "execution_count": 177,
   "id": "04e7831c-0c69-4a27-9eac-5cbd023962e9",
   "metadata": {},
   "outputs": [
    {
     "data": {
      "text/plain": [
       "array([9, 4, 5], dtype=int64)"
      ]
     },
     "execution_count": 177,
     "metadata": {},
     "output_type": "execute_result"
    }
   ],
   "source": [
    "M.max(axis=1)"
   ]
  },
  {
   "cell_type": "markdown",
   "id": "39c44711-a330-48ba-9f7f-77faaa25ccaf",
   "metadata": {},
   "source": [
    "#### Example: What Is the Average Height of US Presidents?"
   ]
  },
  {
   "cell_type": "code",
   "execution_count": 179,
   "id": "81a26f70-af67-4c96-960e-5cc429e59f00",
   "metadata": {},
   "outputs": [
    {
     "name": "stdout",
     "output_type": "stream",
     "text": [
      "[189 170 189 163 183 171 185 168 173 183 173 173 175 178 183 193 178 173\n",
      " 174 183 183 168 170 178 182 180 183 178 182 188 175 179 183 193 182 183\n",
      " 177 185 188 188 182 185 191 182]\n"
     ]
    },
    {
     "name": "stderr",
     "output_type": "stream",
     "text": [
      "\"head\" no se reconoce como un comando interno o externo,\n",
      "programa o archivo por lotes ejecutable.\n"
     ]
    }
   ],
   "source": [
    "# Aggregates available in NumPy can act as summary statistics for a set of values. As a\n",
    "# small example, let’s consider the heights of all US presidents. This data is available in\n",
    "# the file president_heights.csv, which is a comma-separated list of labels and values:\n",
    "!head -4 president_heights.csv\n",
    "import pandas as pd\n",
    "data = pd.read_csv('president_heights.csv')\n",
    "heights = np.array(data['height(cm)'])\n",
    "print(heights)"
   ]
  },
  {
   "cell_type": "code",
   "execution_count": 180,
   "id": "3f053556-7e38-4336-9fd1-e5ad67a5b52c",
   "metadata": {},
   "outputs": [
    {
     "name": "stdout",
     "output_type": "stream",
     "text": [
      "Mean height:  180.04545454545453\n",
      "Standard deviation: 6.983599441335736\n",
      "Minimum height:  163\n",
      "Maximum height:  193\n"
     ]
    }
   ],
   "source": [
    "print(\"Mean height: \", heights.mean())\n",
    "print(\"Standard deviation:\", heights.std())\n",
    "print(\"Minimum height: \", heights.min())\n",
    "print(\"Maximum height: \", heights.max())"
   ]
  },
  {
   "cell_type": "code",
   "execution_count": 181,
   "id": "7d6097f0-cae4-4f0d-9101-8409e6920964",
   "metadata": {},
   "outputs": [],
   "source": [
    "# Note that in each case, the aggregation operation reduced the entire array to a single\n",
    "# summarizing value, which gives us information about the distribution of values. We\n",
    "# may also wish to compute quantiles:"
   ]
  },
  {
   "cell_type": "code",
   "execution_count": 182,
   "id": "bbb845dd-86fc-403f-bef2-fbf2434c7af6",
   "metadata": {},
   "outputs": [
    {
     "name": "stdout",
     "output_type": "stream",
     "text": [
      "25th percentile:  174.75\n",
      "Median:  182.0\n",
      "75th percentile:  183.5\n"
     ]
    }
   ],
   "source": [
    "print(\"25th percentile: \", np.percentile(heights, 25))\n",
    "print(\"Median: \", np.median(heights))\n",
    "print(\"75th percentile: \", np.percentile(heights, 75))"
   ]
  },
  {
   "cell_type": "code",
   "execution_count": 183,
   "id": "ad8c26fc-3a92-48d3-9adb-1584d8389641",
   "metadata": {},
   "outputs": [],
   "source": [
    "# We see that the median height of US presidents is 182 cm, or just shy of six feet.\n",
    "# Of course, sometimes it’s more useful to see a visual representation of this data, which\n",
    "# we can accomplish using tools in Matplotlib (we’ll discuss Matplotlib more fully in\n",
    "# Part IV). For example, this code generates Figure 7-1:"
   ]
  },
  {
   "cell_type": "code",
   "execution_count": 184,
   "id": "94166f43-77eb-45fd-97d0-453fc45ad07a",
   "metadata": {},
   "outputs": [
    {
     "data": {
      "image/png": "[encoded data removed]",
      "text/plain": [
       "<Figure size 832x572 with 1 Axes>"
      ]
     },
     "metadata": {},
     "output_type": "display_data"
    }
   ],
   "source": [
    "%matplotlib inline\n",
    "import matplotlib.pyplot as plt\n",
    "import seaborn as sns\n",
    "heights = np.array(data['height(cm)'])\n",
    "\n",
    "%matplotlib inline\n",
    "import matplotlib.pyplot as plt\n",
    "plt.style.use(plt.style.available)\n",
    "\n",
    "plt.hist(heights)\n",
    "plt.title('Height Distribution of US Presidents')\n",
    "plt.xlabel('height (cm)')\n",
    "plt.ylabel('number');"
   ]
  },
  {
   "cell_type": "markdown",
   "id": "d8ffaf1c-d574-42ab-9ee0-03a95d28360b",
   "metadata": {},
   "source": [
    "### Chapter 8: Computation on Arrays: Broadcasting"
   ]
  },
  {
   "cell_type": "markdown",
   "id": "ed557987-4156-4668-b6b7-adc4c7746f71",
   "metadata": {},
   "source": [
    "#### Introducing Broadcasting"
   ]
  },
  {
   "cell_type": "code",
   "execution_count": 187,
   "id": "787ffe17-1c66-4c05-ac0c-8c68e0cabbe5",
   "metadata": {},
   "outputs": [],
   "source": [
    "#Recall that for arrays of the same size, binary operations are performed on an\n",
    "#element-by-element basis:"
   ]
  },
  {
   "cell_type": "code",
   "execution_count": 188,
   "id": "9e2738bf-085e-4db0-8310-4054507e7b0e",
   "metadata": {},
   "outputs": [],
   "source": [
    "import numpy as np"
   ]
  },
  {
   "cell_type": "code",
   "execution_count": 189,
   "id": "bb4f5ee9-f31b-467d-aee7-b505af5c72f7",
   "metadata": {},
   "outputs": [
    {
     "data": {
      "text/plain": [
       "array([5, 6, 7])"
      ]
     },
     "execution_count": 189,
     "metadata": {},
     "output_type": "execute_result"
    }
   ],
   "source": [
    "a = np.array([0, 1, 2])\n",
    "b = np.array([5, 5, 5])\n",
    "a + b"
   ]
  },
  {
   "cell_type": "code",
   "execution_count": 190,
   "id": "b8a6cb86-ef4d-4628-a3f7-5c494291e017",
   "metadata": {},
   "outputs": [],
   "source": [
    "# Broadcasting allows these types of binary operations to be performed on arrays of dif‐\n",
    "# ferent sizes—for example, we can just as easily add a scalar (think of it as a zerodimensional array) to an array:"
   ]
  },
  {
   "cell_type": "code",
   "execution_count": 191,
   "id": "b1150d8c-e8b8-48e7-af51-64750360c870",
   "metadata": {},
   "outputs": [
    {
     "data": {
      "text/plain": [
       "array([5, 6, 7])"
      ]
     },
     "execution_count": 191,
     "metadata": {},
     "output_type": "execute_result"
    }
   ],
   "source": [
    "a + 5"
   ]
  },
  {
   "cell_type": "code",
   "execution_count": 192,
   "id": "609beb4e-8c64-4d28-98eb-9e2c071e7aee",
   "metadata": {},
   "outputs": [
    {
     "data": {
      "text/plain": [
       "array([[1., 1., 1.],\n",
       "       [1., 1., 1.],\n",
       "       [1., 1., 1.]])"
      ]
     },
     "execution_count": 192,
     "metadata": {},
     "output_type": "execute_result"
    }
   ],
   "source": [
    "# We can similarly extend this idea to arrays of higher dimension. Observe the result\n",
    "# when we add a one-dimensional array to a two-dimensional array:\n",
    "M = np.ones((3,3))\n",
    "M"
   ]
  },
  {
   "cell_type": "code",
   "execution_count": 193,
   "id": "57fd90aa-9d12-4ff7-934d-fc8ce6922c87",
   "metadata": {},
   "outputs": [
    {
     "data": {
      "text/plain": [
       "array([[1., 2., 3.],\n",
       "       [1., 2., 3.],\n",
       "       [1., 2., 3.]])"
      ]
     },
     "execution_count": 193,
     "metadata": {},
     "output_type": "execute_result"
    }
   ],
   "source": [
    "# Here the one-dimensional array a is stretched, or broadcasted, across the second\n",
    "# dimension in order to match the shape of M.\n",
    "# While these examples are relatively easy to understand, more complicated cases can\n",
    "# involve broadcasting of both arrays. Consider the following example:\n",
    "\n",
    "M + a"
   ]
  },
  {
   "cell_type": "code",
   "execution_count": 194,
   "id": "c5b59d65-1624-4108-bd43-a9681fbe3675",
   "metadata": {},
   "outputs": [
    {
     "name": "stdout",
     "output_type": "stream",
     "text": [
      "[0 1 2]\n",
      "[[0]\n",
      " [1]\n",
      " [2]]\n"
     ]
    }
   ],
   "source": [
    "a = np.arange(3)\n",
    "b = np.arange(3)[:, np.newaxis]\n",
    "print(a)\n",
    "print(b)"
   ]
  },
  {
   "cell_type": "code",
   "execution_count": 195,
   "id": "578bf813-5d04-47e8-89ab-7ffe1a1eda2d",
   "metadata": {},
   "outputs": [
    {
     "data": {
      "text/plain": [
       "array([[0, 1, 2],\n",
       "       [1, 2, 3],\n",
       "       [2, 3, 4]])"
      ]
     },
     "execution_count": 195,
     "metadata": {},
     "output_type": "execute_result"
    }
   ],
   "source": [
    "a + b"
   ]
  },
  {
   "cell_type": "code",
   "execution_count": 196,
   "id": "2d4d5884-00bd-44e2-a2cc-67bfa671f4d6",
   "metadata": {},
   "outputs": [],
   "source": [
    "# Just as before we stretched or broadcasted one value to match the shape of the other,\n",
    "# here we’ve stretched both a and b to match a common shape, and the result is a twodimensional array! The geometry of these examples is visualized in Figure 8-1."
   ]
  },
  {
   "cell_type": "markdown",
   "id": "e9fcd06d-464a-4c95-ae51-7cf5eb4ac69b",
   "metadata": {},
   "source": [
    "#### Rules of Broadcasting"
   ]
  },
  {
   "cell_type": "code",
   "execution_count": 198,
   "id": "c04d4e38-fc0f-4279-8d20-3b120884fee4",
   "metadata": {},
   "outputs": [],
   "source": [
    "# Broadcasting in NumPy follows a strict set of rules to determine the interaction\n",
    "# between the two arrays:\n",
    "# Rule 1\n",
    "# If the two arrays differ in their number of dimensions, the shape of the one with\n",
    "# fewer dimensions is padded with ones on its leading (left) side.\n",
    "# Rule 2\n",
    "# If the shape of the two arrays does not match in any dimension, the array with\n",
    "# shape equal to 1 in that dimension is stretched to match the other shape.\n",
    "# Rule 3\n",
    "# If in any dimension the sizes disagree and neither is equal to 1, an error is raised."
   ]
  },
  {
   "cell_type": "code",
   "execution_count": 199,
   "id": "8a891b23-7698-4293-9a0c-3dcd9b9ca0d6",
   "metadata": {},
   "outputs": [],
   "source": [
    "# Broadcasting Example 1\n",
    "M = np.ones((2, 3))\n",
    "a = np.arange(3)"
   ]
  },
  {
   "cell_type": "code",
   "execution_count": 200,
   "id": "7f0a5f99-f279-457c-9714-12020fb27e92",
   "metadata": {},
   "outputs": [
    {
     "data": {
      "text/plain": [
       "array([[1., 2., 3.],\n",
       "       [1., 2., 3.]])"
      ]
     },
     "execution_count": 200,
     "metadata": {},
     "output_type": "execute_result"
    }
   ],
   "source": [
    "# Let’s consider an operation on these two arrays, which have the following shapes:\n",
    "# • M.shape is (2, 3)\n",
    "# • a.shape is (3,)\n",
    "# We see by rule 1 that the array a has fewer dimensions, so we pad it on the left with\n",
    "# ones:\n",
    "# • M.shape remains (2, 3)\n",
    "# • a.shape becomes (1, 3)\n",
    "# By rule 2, we now see that the first dimension disagrees, so we stretch this dimension\n",
    "# to match:\n",
    "# • M.shape remains (2, 3)\n",
    "# • a.shape becomes (2, 3)\n",
    "# The shapes now match, and we see that the final shape will be (2, 3)\n",
    "M + a"
   ]
  },
  {
   "cell_type": "code",
   "execution_count": 201,
   "id": "024360c7-2f5e-413a-ae6c-cbc29a04358e",
   "metadata": {},
   "outputs": [],
   "source": [
    "# Broadcasting Example 2\n",
    "# Now let’s take a look at an example where both arrays need to be broadcast:\n",
    "a = np.arange(3).reshape((3, 1))\n",
    "b = np.arange(3)"
   ]
  },
  {
   "cell_type": "code",
   "execution_count": 202,
   "id": "09c3824a-d0cb-4437-9b1c-fac29894a1cb",
   "metadata": {},
   "outputs": [
    {
     "data": {
      "text/plain": [
       "array([[0, 1, 2],\n",
       "       [1, 2, 3],\n",
       "       [2, 3, 4]])"
      ]
     },
     "execution_count": 202,
     "metadata": {},
     "output_type": "execute_result"
    }
   ],
   "source": [
    "a + b"
   ]
  },
  {
   "cell_type": "code",
   "execution_count": 203,
   "id": "aac272d7-75ef-467e-b731-9c4c2f1838a4",
   "metadata": {},
   "outputs": [],
   "source": [
    "# Broadcasting Example 3\n",
    "M = np.ones((3, 2))\n",
    "a = np.arange(3)"
   ]
  },
  {
   "cell_type": "code",
   "execution_count": 204,
   "id": "6c5e94af-61f1-4fca-8a9a-a22f08ccf87f",
   "metadata": {},
   "outputs": [
    {
     "ename": "ValueError",
     "evalue": "operands could not be broadcast together with shapes (3,2) (3,) ",
     "output_type": "error",
     "traceback": [
      "\u001b[1;31m---------------------------------------------------------------------------\u001b[0m",
      "\u001b[1;31mValueError\u001b[0m                                Traceback (most recent call last)",
      "Cell \u001b[1;32mIn[204], line 3\u001b[0m\n\u001b[0;32m      1\u001b[0m \u001b[38;5;66;03m# Now we hit rule 3—the final shapes do not match, so these two arrays are incompati‐\u001b[39;00m\n\u001b[0;32m      2\u001b[0m \u001b[38;5;66;03m# ble, as we can observe by attempting this operation:\u001b[39;00m\n\u001b[1;32m----> 3\u001b[0m M \u001b[38;5;241m+\u001b[39m a\n",
      "\u001b[1;31mValueError\u001b[0m: operands could not be broadcast together with shapes (3,2) (3,) "
     ]
    }
   ],
   "source": [
    "# Now we hit rule 3—the final shapes do not match, so these two arrays are incompati‐\n",
    "# ble, as we can observe by attempting this operation:\n",
    "M + a"
   ]
  },
  {
   "cell_type": "code",
   "execution_count": 205,
   "id": "1643096a-a045-4656-b2dd-8f5c320f36bd",
   "metadata": {},
   "outputs": [
    {
     "data": {
      "text/plain": [
       "(3, 1)"
      ]
     },
     "execution_count": 205,
     "metadata": {},
     "output_type": "execute_result"
    }
   ],
   "source": [
    "a[:, np.newaxis].shape"
   ]
  },
  {
   "cell_type": "code",
   "execution_count": 207,
   "id": "a4d34c7d-1c13-450e-aa4c-d9be99c5fb49",
   "metadata": {},
   "outputs": [
    {
     "data": {
      "text/plain": [
       "array([[1., 1.],\n",
       "       [2., 2.],\n",
       "       [3., 3.]])"
      ]
     },
     "execution_count": 207,
     "metadata": {},
     "output_type": "execute_result"
    }
   ],
   "source": [
    "M + a[:, np.newaxis]"
   ]
  },
  {
   "cell_type": "code",
   "execution_count": 209,
   "id": "e9d3e92b-722f-4868-a32f-d634dd7a8bc5",
   "metadata": {},
   "outputs": [
    {
     "data": {
      "text/plain": [
       "array([[1.31326169, 1.31326169],\n",
       "       [1.69314718, 1.69314718],\n",
       "       [2.31326169, 2.31326169]])"
      ]
     },
     "execution_count": 209,
     "metadata": {},
     "output_type": "execute_result"
    }
   ],
   "source": [
    "# While we’ve been focusing on the + operator here, these broadcasting rules apply to\n",
    "# any binary ufunc. For example, here is the logaddexp(a, b) function, which com‐\n",
    "# putes log(exp(a) + exp(b)) with more precision than the naive approach\n",
    "np.logaddexp(M, a[:, np.newaxis])"
   ]
  },
  {
   "cell_type": "markdown",
   "id": "55ed35c3-e72a-464c-8114-3d8a235f721e",
   "metadata": {},
   "source": [
    "#### Broadcasting in Practice"
   ]
  },
  {
   "cell_type": "markdown",
   "id": "45138d4a-a593-4be4-b69f-49d718e55fe6",
   "metadata": {},
   "source": [
    "##### Centering an Array"
   ]
  },
  {
   "cell_type": "code",
   "execution_count": 211,
   "id": "2fdc6cae-2958-4223-bda1-d44634c2c782",
   "metadata": {},
   "outputs": [],
   "source": [
    "import numpy as np\n",
    "rng = np.random.default_rng(seed=1701)\n",
    "X = rng.random((10, 3))"
   ]
  },
  {
   "cell_type": "code",
   "execution_count": 213,
   "id": "3a546bf0-855f-43aa-a5a3-116fdca5d7a8",
   "metadata": {},
   "outputs": [
    {
     "data": {
      "text/plain": [
       "array([0.38503638, 0.36991443, 0.63896043])"
      ]
     },
     "execution_count": 213,
     "metadata": {},
     "output_type": "execute_result"
    }
   ],
   "source": [
    "Xmean = X.mean(0)\n",
    "Xmean"
   ]
  },
  {
   "cell_type": "code",
   "execution_count": 215,
   "id": "cd865819-11be-4de1-a4c3-01271bcd3882",
   "metadata": {},
   "outputs": [],
   "source": [
    "# And now we can center the X array by subtracting the mean (this is a broadcasting\n",
    "# operation):"
   ]
  },
  {
   "cell_type": "code",
   "execution_count": 217,
   "id": "a96ca985-7b2c-458b-b460-c9aaf00db4db",
   "metadata": {},
   "outputs": [],
   "source": [
    " X_centered = X - Xmean"
   ]
  },
  {
   "cell_type": "code",
   "execution_count": 219,
   "id": "314c031c-7376-415e-8ed6-1b747a4b3780",
   "metadata": {},
   "outputs": [
    {
     "data": {
      "text/plain": [
       "array([ 4.99600361e-17, -4.44089210e-17,  0.00000000e+00])"
      ]
     },
     "execution_count": 219,
     "metadata": {},
     "output_type": "execute_result"
    }
   ],
   "source": [
    "# To double-check that we’ve done this correctly, we can check that the centered array\n",
    "# has a mean near zero:\n",
    "X_centered.mean(0)"
   ]
  },
  {
   "cell_type": "markdown",
   "id": "ef060927-33dc-437c-a19c-3c2afad6e103",
   "metadata": {},
   "source": [
    "##### Plotting a Two-Dimensional Function"
   ]
  },
  {
   "cell_type": "code",
   "execution_count": 221,
   "id": "8f3f465d-283e-4ce7-8343-1371d20775d7",
   "metadata": {},
   "outputs": [],
   "source": [
    "# x and y have 50 steps from 0 to 5\n",
    "x = np.linspace(0, 5, 50)\n",
    "y = np.linspace(0, 5, 50)[:, np.newaxis]\n",
    "z = np.sin(x) ** 10 + np.cos(10 + y * x) * np.cos(x)"
   ]
  },
  {
   "cell_type": "code",
   "execution_count": 223,
   "id": "98381b47-b83b-4e10-9bed-b419840837ec",
   "metadata": {},
   "outputs": [],
   "source": [
    "# We’ll use Matplotlib to plot this two-dimensional array, shown in Figure 8-2 (these\n",
    "# tools will be discussed in full in Chapter 28)\n",
    "%matplotlib inline\n",
    "import matplotlib.pyplot as plt"
   ]
  },
  {
   "cell_type": "code",
   "execution_count": 225,
   "id": "29258a79-6689-414d-807b-ebfb08c393b8",
   "metadata": {},
   "outputs": [
    {
     "data": {
      "image/png": "[encoded data removed]",
      "text/plain": [
       "<Figure size 832x572 with 2 Axes>"
      ]
     },
     "metadata": {},
     "output_type": "display_data"
    }
   ],
   "source": [
    "plt.imshow(z, origin='lower', extent=[0, 5, 0, 5])\n",
    "plt.colorbar();"
   ]
  },
  {
   "cell_type": "markdown",
   "id": "a5395746-3bf5-4310-ace5-0c353c85e109",
   "metadata": {},
   "source": [
    "### Chapter 9: Comparisons, Masks, and Boolean Logic"
   ]
  },
  {
   "cell_type": "code",
   "execution_count": 227,
   "id": "122e5b1a-057d-4d40-8f70-cb7df76823b8",
   "metadata": {},
   "outputs": [],
   "source": [
    "# This chapter covers the use of Boolean masks to examine and manipulate values\n",
    "# within NumPy arrays. Masking comes up when you want to extract, modify, count, or\n",
    "# otherwise manipulate values in an array based on some criterion: for example, you\n",
    "# might wish to count all values greater than a certain value, or remove all outliers that\n",
    "# are above some threshold. "
   ]
  },
  {
   "cell_type": "markdown",
   "id": "50072467-7349-4f5c-973c-74f568b984f6",
   "metadata": {},
   "source": [
    "##### Comparison Operators as Ufuncsas"
   ]
  },
  {
   "cell_type": "code",
   "execution_count": 229,
   "id": "52aa7b71-5dab-48ec-8c68-43c2a39b7709",
   "metadata": {},
   "outputs": [
    {
     "data": {
      "text/plain": [
       "array([ True,  True, False, False, False])"
      ]
     },
     "execution_count": 229,
     "metadata": {},
     "output_type": "execute_result"
    }
   ],
   "source": [
    "# We saw that using +, -, *, /, and other operators on arrays leads to element-wise opera‐\n",
    "# tions. NumPy also implements comparison operators such as < (less than) and > (greater than) as element-wise ufuncs.\n",
    "import numpy as np\n",
    "x = np.array([1, 2, 3, 4, 5])\n",
    "x < 3 # less than"
   ]
  },
  {
   "cell_type": "code",
   "execution_count": 231,
   "id": "58e8d075-f64f-457b-88cf-a0aae932e963",
   "metadata": {},
   "outputs": [
    {
     "data": {
      "text/plain": [
       "array([False, False, False,  True,  True])"
      ]
     },
     "execution_count": 231,
     "metadata": {},
     "output_type": "execute_result"
    }
   ],
   "source": [
    "x > 3 # greater than"
   ]
  },
  {
   "cell_type": "code",
   "execution_count": 233,
   "id": "9349fd9d-b40b-446d-869a-5ec9ead0359f",
   "metadata": {},
   "outputs": [
    {
     "data": {
      "text/plain": [
       "array([ True,  True,  True, False, False])"
      ]
     },
     "execution_count": 233,
     "metadata": {},
     "output_type": "execute_result"
    }
   ],
   "source": [
    "x <= 3 # less than or equal"
   ]
  },
  {
   "cell_type": "code",
   "execution_count": 235,
   "id": "3979b422-c250-4cef-af5d-7c4f9defc1bd",
   "metadata": {},
   "outputs": [
    {
     "data": {
      "text/plain": [
       "array([False, False,  True,  True,  True])"
      ]
     },
     "execution_count": 235,
     "metadata": {},
     "output_type": "execute_result"
    }
   ],
   "source": [
    "x >= 3 # greater than or equal"
   ]
  },
  {
   "cell_type": "code",
   "execution_count": 237,
   "id": "ac5bb155-c006-42ca-a44b-1c8b06ca7f76",
   "metadata": {},
   "outputs": [
    {
     "data": {
      "text/plain": [
       "array([ True,  True, False,  True,  True])"
      ]
     },
     "execution_count": 237,
     "metadata": {},
     "output_type": "execute_result"
    }
   ],
   "source": [
    "x != 3 # not equal"
   ]
  },
  {
   "cell_type": "code",
   "execution_count": 239,
   "id": "475d3ffe-0f5e-411c-8d08-39c8cab1f58e",
   "metadata": {},
   "outputs": [
    {
     "data": {
      "text/plain": [
       "array([ True,  True, False,  True,  True])"
      ]
     },
     "execution_count": 239,
     "metadata": {},
     "output_type": "execute_result"
    }
   ],
   "source": [
    "x != 3 # not equal"
   ]
  },
  {
   "cell_type": "code",
   "execution_count": 241,
   "id": "15d69c11-4469-458e-a7f6-35ed18be0e1e",
   "metadata": {},
   "outputs": [
    {
     "data": {
      "text/plain": [
       "array([False,  True, False, False, False])"
      ]
     },
     "execution_count": 241,
     "metadata": {},
     "output_type": "execute_result"
    }
   ],
   "source": [
    "(2 * x) == (x ** 2)"
   ]
  },
  {
   "cell_type": "code",
   "execution_count": 243,
   "id": "5f2708c5-502c-460f-b007-082f5408b727",
   "metadata": {},
   "outputs": [
    {
     "data": {
      "text/plain": [
       "array([[9, 4, 0, 3],\n",
       "       [8, 6, 3, 1],\n",
       "       [3, 7, 4, 0]], dtype=int64)"
      ]
     },
     "execution_count": 243,
     "metadata": {},
     "output_type": "execute_result"
    }
   ],
   "source": [
    "rng = np.random.default_rng(seed=1701)\n",
    "x = rng.integers(10, size=(3, 4))\n",
    "x"
   ]
  },
  {
   "cell_type": "code",
   "execution_count": 245,
   "id": "3f2986df-a4b7-4676-bd44-0723cb524a3c",
   "metadata": {},
   "outputs": [
    {
     "data": {
      "text/plain": [
       "array([[False,  True,  True,  True],\n",
       "       [False, False,  True,  True],\n",
       "       [ True, False,  True,  True]])"
      ]
     },
     "execution_count": 245,
     "metadata": {},
     "output_type": "execute_result"
    }
   ],
   "source": [
    "x < 6\n",
    "# In each case, the result is a Boolean array, and NumPy provides a number of straight‐\n",
    "# forward patterns for working with these Boolean results"
   ]
  },
  {
   "cell_type": "markdown",
   "id": "1ab7b13a-db16-4f54-8bd2-a9c371161b0e",
   "metadata": {},
   "source": [
    "##### Working with Boolean Arrays"
   ]
  },
  {
   "cell_type": "code",
   "execution_count": 247,
   "id": "5a215cfb-517e-4db6-9557-308c81e648dc",
   "metadata": {},
   "outputs": [
    {
     "name": "stdout",
     "output_type": "stream",
     "text": [
      "[[9 4 0 3]\n",
      " [8 6 3 1]\n",
      " [3 7 4 0]]\n"
     ]
    }
   ],
   "source": [
    "print(x)"
   ]
  },
  {
   "cell_type": "markdown",
   "id": "ebc5b3d6-2ae2-407b-b8e2-c1f95ef055bb",
   "metadata": {},
   "source": [
    "##### Counting Entries"
   ]
  },
  {
   "cell_type": "code",
   "execution_count": 249,
   "id": "6de7caca-59c3-4e06-96f0-80a44007db58",
   "metadata": {},
   "outputs": [
    {
     "data": {
      "text/plain": [
       "8"
      ]
     },
     "execution_count": 249,
     "metadata": {},
     "output_type": "execute_result"
    }
   ],
   "source": [
    "# To count the number of True entries in a Boolean array, np.count_nonzero is useful:\n",
    "# how many values less than 6?\n",
    "np.count_nonzero(x < 6)"
   ]
  },
  {
   "cell_type": "code",
   "execution_count": 251,
   "id": "9ee38d57-b097-4ec9-bdb9-ba27b56d2964",
   "metadata": {},
   "outputs": [
    {
     "data": {
      "text/plain": [
       "8"
      ]
     },
     "execution_count": 251,
     "metadata": {},
     "output_type": "execute_result"
    }
   ],
   "source": [
    "# We see that there are eight array entries that are less than 6. Another way to get at this\n",
    "# information is to use np.sum; in this case, False is interpreted as 0, and True is inter‐\n",
    "# preted as 1:\n",
    "np.sum(x < 6)"
   ]
  },
  {
   "cell_type": "code",
   "execution_count": 253,
   "id": "b4abc70f-256b-450d-bb47-6df9e8636756",
   "metadata": {},
   "outputs": [
    {
     "data": {
      "text/plain": [
       "array([3, 2, 3])"
      ]
     },
     "execution_count": 253,
     "metadata": {},
     "output_type": "execute_result"
    }
   ],
   "source": [
    "# The benefit of np.sum is that, like with other NumPy aggregation functions, this sum‐\n",
    "# mation can be done along rows or columns as well:\n",
    "# how many values less than 6 in each row?\n",
    "np.sum(x < 6, axis=1)"
   ]
  },
  {
   "cell_type": "code",
   "execution_count": 255,
   "id": "ad3d28d3-aab2-4cd7-bb6b-b889d4ff82d2",
   "metadata": {},
   "outputs": [
    {
     "data": {
      "text/plain": [
       "True"
      ]
     },
     "execution_count": 255,
     "metadata": {},
     "output_type": "execute_result"
    }
   ],
   "source": [
    "# If we’re interested in quickly checking whether any or all the values are True, we can\n",
    "# use (you guessed it) np.any or np.all:\n",
    " # are there any values greater than 8?\n",
    "np.any(x > 8)"
   ]
  },
  {
   "cell_type": "code",
   "execution_count": 257,
   "id": "cf456635-a89c-4937-951f-a84a6e8d5d83",
   "metadata": {},
   "outputs": [
    {
     "data": {
      "text/plain": [
       "False"
      ]
     },
     "execution_count": 257,
     "metadata": {},
     "output_type": "execute_result"
    }
   ],
   "source": [
    " # are there any values less than zero?\n",
    "np.any(x < 0)"
   ]
  },
  {
   "cell_type": "code",
   "execution_count": 259,
   "id": "69c22d70-c112-4de1-b5a9-40a0e3ab2fc8",
   "metadata": {},
   "outputs": [
    {
     "data": {
      "text/plain": [
       "True"
      ]
     },
     "execution_count": 259,
     "metadata": {},
     "output_type": "execute_result"
    }
   ],
   "source": [
    "# are all values less than 10?\n",
    "np.all(x < 10)"
   ]
  },
  {
   "cell_type": "code",
   "execution_count": 261,
   "id": "9aecafc1-e4a4-4bc7-b145-04b3783e39d0",
   "metadata": {},
   "outputs": [
    {
     "data": {
      "text/plain": [
       "False"
      ]
     },
     "execution_count": 261,
     "metadata": {},
     "output_type": "execute_result"
    }
   ],
   "source": [
    "# are all values equal to 6?\n",
    "np.all(x == 6)"
   ]
  },
  {
   "cell_type": "code",
   "execution_count": 263,
   "id": "dde8a823-12ac-4c55-adbf-b05f2ffaa0ba",
   "metadata": {},
   "outputs": [
    {
     "data": {
      "text/plain": [
       "array([False, False,  True])"
      ]
     },
     "execution_count": 263,
     "metadata": {},
     "output_type": "execute_result"
    }
   ],
   "source": [
    "# np.all and np.any can be used along particular axes as well. For example:\n",
    "# are all values in each row less than 8?\n",
    "np.all(x < 8, axis=1)"
   ]
  },
  {
   "cell_type": "markdown",
   "id": "e6a7800e-280c-4904-a0dc-71382125f9c7",
   "metadata": {},
   "source": [
    "##### Boolean Arrays as Masks"
   ]
  },
  {
   "cell_type": "code",
   "execution_count": 265,
   "id": "0ae14b94-30cd-443e-8e2a-3bb3f41d2d5a",
   "metadata": {},
   "outputs": [
    {
     "data": {
      "text/plain": [
       "array([[9, 4, 0, 3],\n",
       "       [8, 6, 3, 1],\n",
       "       [3, 7, 4, 0]], dtype=int64)"
      ]
     },
     "execution_count": 265,
     "metadata": {},
     "output_type": "execute_result"
    }
   ],
   "source": [
    "# In the preceding section we looked at aggregates computed directly on Boolean\n",
    "# arrays. A more powerful pattern is to use Boolean arrays as masks, to select particular\n",
    "# subsets of the data themselves. Let’s return to our x array from before:\n",
    "x"
   ]
  },
  {
   "cell_type": "code",
   "execution_count": 267,
   "id": "e2cb81b5-19e2-4f06-abcc-275657e5d626",
   "metadata": {},
   "outputs": [
    {
     "data": {
      "text/plain": [
       "array([[False,  True,  True,  True],\n",
       "       [False, False,  True,  True],\n",
       "       [ True, False,  True,  True]])"
      ]
     },
     "execution_count": 267,
     "metadata": {},
     "output_type": "execute_result"
    }
   ],
   "source": [
    "# Suppose we want an array of all values in the array that are less than, say, 5. We can\n",
    "# obtain a Boolean array for this condition easily, as we’ve already seen:\n",
    "x < 5"
   ]
  },
  {
   "cell_type": "code",
   "execution_count": 269,
   "id": "a7a7afeb-75f1-454c-a326-162006e209f2",
   "metadata": {},
   "outputs": [
    {
     "data": {
      "text/plain": [
       "array([4, 0, 3, 3, 1, 3, 4, 0], dtype=int64)"
      ]
     },
     "execution_count": 269,
     "metadata": {},
     "output_type": "execute_result"
    }
   ],
   "source": [
    "# Now, to select these values from the array, we can simply index on this Boolean array;\n",
    "# this is known as a masking operation:\n",
    "x[x < 5]"
   ]
  },
  {
   "cell_type": "markdown",
   "id": "f7fc1ae5-683f-4b69-82b4-75f658ab2b22",
   "metadata": {},
   "source": [
    "##### Using the Keywords and/or Versus the Operators &/|"
   ]
  },
  {
   "cell_type": "code",
   "execution_count": 271,
   "id": "89aed0e7-d7b6-4f14-ab46-9d56f8ea9070",
   "metadata": {},
   "outputs": [
    {
     "data": {
      "text/plain": [
       "(True, False)"
      ]
     },
     "execution_count": 271,
     "metadata": {},
     "output_type": "execute_result"
    }
   ],
   "source": [
    "# When you use and or or, it is equivalent to asking Python to treat the object as a sin‐\n",
    "# gle Boolean entity. In Python, all nonzero integers will evaluate as True. Thus:\n",
    "bool(42), bool(0)"
   ]
  },
  {
   "cell_type": "code",
   "execution_count": 273,
   "id": "7d81c59b-af07-4bd2-b25d-1f82b49e94ce",
   "metadata": {},
   "outputs": [
    {
     "data": {
      "text/plain": [
       "False"
      ]
     },
     "execution_count": 273,
     "metadata": {},
     "output_type": "execute_result"
    }
   ],
   "source": [
    "bool(42 and 0)"
   ]
  },
  {
   "cell_type": "code",
   "execution_count": 275,
   "id": "5800ba23-970e-4d08-9c02-60dbb88d1467",
   "metadata": {},
   "outputs": [
    {
     "data": {
      "text/plain": [
       "True"
      ]
     },
     "execution_count": 275,
     "metadata": {},
     "output_type": "execute_result"
    }
   ],
   "source": [
    "bool(42 or 0)"
   ]
  },
  {
   "cell_type": "code",
   "execution_count": 277,
   "id": "4a43666e-f655-49a5-a6cd-4440a29a27da",
   "metadata": {},
   "outputs": [
    {
     "data": {
      "text/plain": [
       "'0b101010'"
      ]
     },
     "execution_count": 277,
     "metadata": {},
     "output_type": "execute_result"
    }
   ],
   "source": [
    "# When you use & and | on integers, the expression operates on the bitwise representa‐\n",
    "# tion of the element, applying the and or the or to the individual bits making up the\n",
    "# number:\n",
    "bin(42)"
   ]
  },
  {
   "cell_type": "code",
   "execution_count": 279,
   "id": "6b658806-c490-4412-bcd9-2c45a64a397e",
   "metadata": {},
   "outputs": [
    {
     "data": {
      "text/plain": [
       "'0b101010'"
      ]
     },
     "execution_count": 279,
     "metadata": {},
     "output_type": "execute_result"
    }
   ],
   "source": [
    "bin(42)"
   ]
  },
  {
   "cell_type": "code",
   "execution_count": 281,
   "id": "0488cdb0-d6bb-4eb8-89ff-1225e963bae1",
   "metadata": {},
   "outputs": [
    {
     "data": {
      "text/plain": [
       "'0b101010'"
      ]
     },
     "execution_count": 281,
     "metadata": {},
     "output_type": "execute_result"
    }
   ],
   "source": [
    "bin(42 & 59)"
   ]
  },
  {
   "cell_type": "code",
   "execution_count": 283,
   "id": "c331575a-d80e-4bc4-9607-abe19eed5b35",
   "metadata": {},
   "outputs": [
    {
     "data": {
      "text/plain": [
       "'0b111011'"
      ]
     },
     "execution_count": 283,
     "metadata": {},
     "output_type": "execute_result"
    }
   ],
   "source": [
    "bin(42 | 59)"
   ]
  },
  {
   "cell_type": "code",
   "execution_count": 285,
   "id": "56f595ad-1ec1-4455-8eea-39cb7511d13a",
   "metadata": {},
   "outputs": [],
   "source": [
    "# When you have an array of Boolean values in NumPy, this can be thought of as a\n",
    "# string of bits where 1 = True and 0 = False, and & and | will operate similarly to in\n",
    "# the preceding examples:"
   ]
  },
  {
   "cell_type": "code",
   "execution_count": 287,
   "id": "5eff654c-4435-40c0-827a-fd18293c50bd",
   "metadata": {},
   "outputs": [
    {
     "data": {
      "text/plain": [
       "array([ True,  True,  True, False,  True,  True])"
      ]
     },
     "execution_count": 287,
     "metadata": {},
     "output_type": "execute_result"
    }
   ],
   "source": [
    "A = np.array([1, 0, 1, 0, 1, 0], dtype=bool)\n",
    "B = np.array([1, 1, 1, 0, 1, 1], dtype=bool)\n",
    "A | B"
   ]
  },
  {
   "cell_type": "code",
   "execution_count": 289,
   "id": "7202feb7-46bf-4d94-a41c-d5cc27c0b687",
   "metadata": {},
   "outputs": [
    {
     "ename": "ValueError",
     "evalue": "The truth value of an array with more than one element is ambiguous. Use a.any() or a.all()",
     "output_type": "error",
     "traceback": [
      "\u001b[1;31m---------------------------------------------------------------------------\u001b[0m",
      "\u001b[1;31mValueError\u001b[0m                                Traceback (most recent call last)",
      "Cell \u001b[1;32mIn[289], line 3\u001b[0m\n\u001b[0;32m      1\u001b[0m \u001b[38;5;66;03m# But if you use or on these arrays it will try to evaluate the truth or falsehood of the\u001b[39;00m\n\u001b[0;32m      2\u001b[0m \u001b[38;5;66;03m# entire array object, which is not a well-defined value:\u001b[39;00m\n\u001b[1;32m----> 3\u001b[0m A \u001b[38;5;129;01mor\u001b[39;00m B\n",
      "\u001b[1;31mValueError\u001b[0m: The truth value of an array with more than one element is ambiguous. Use a.any() or a.all()"
     ]
    }
   ],
   "source": [
    "# But if you use or on these arrays it will try to evaluate the truth or falsehood of the\n",
    "# entire array object, which is not a well-defined value:\n",
    "A or B"
   ]
  },
  {
   "cell_type": "code",
   "execution_count": 291,
   "id": "de08d443-5fd2-48a1-a386-31fc60f32ac0",
   "metadata": {},
   "outputs": [
    {
     "data": {
      "text/plain": [
       "array([False, False, False, False, False,  True,  True,  True, False,\n",
       "       False])"
      ]
     },
     "execution_count": 291,
     "metadata": {},
     "output_type": "execute_result"
    }
   ],
   "source": [
    "# Similarly, when evaluating a Boolean expression on a given array, you should use | or\n",
    "# & rather than or or and:\n",
    "x = np.arange(10)\n",
    "(x > 4) & (x < 8)"
   ]
  },
  {
   "cell_type": "code",
   "execution_count": 293,
   "id": "4e1359a8-a0eb-4e2c-9016-f8fe4dcbe7d1",
   "metadata": {},
   "outputs": [
    {
     "ename": "ValueError",
     "evalue": "The truth value of an array with more than one element is ambiguous. Use a.any() or a.all()",
     "output_type": "error",
     "traceback": [
      "\u001b[1;31m---------------------------------------------------------------------------\u001b[0m",
      "\u001b[1;31mValueError\u001b[0m                                Traceback (most recent call last)",
      "Cell \u001b[1;32mIn[293], line 3\u001b[0m\n\u001b[0;32m      1\u001b[0m \u001b[38;5;66;03m# Trying to evaluate the truth or falsehood of the entire array will give the same\u001b[39;00m\n\u001b[0;32m      2\u001b[0m \u001b[38;5;66;03m# ValueError we saw previously\u001b[39;00m\n\u001b[1;32m----> 3\u001b[0m (x \u001b[38;5;241m>\u001b[39m \u001b[38;5;241m4\u001b[39m) \u001b[38;5;129;01mand\u001b[39;00m (x \u001b[38;5;241m<\u001b[39m \u001b[38;5;241m8\u001b[39m)\n",
      "\u001b[1;31mValueError\u001b[0m: The truth value of an array with more than one element is ambiguous. Use a.any() or a.all()"
     ]
    }
   ],
   "source": [
    "# Trying to evaluate the truth or falsehood of the entire array will give the same\n",
    "# ValueError we saw previously\n",
    "(x > 4) and (x < 8)"
   ]
  },
  {
   "cell_type": "markdown",
   "id": "bd9b9eb7-c51d-41ca-a5a4-8319d0894e75",
   "metadata": {},
   "source": [
    "### Chapter 10: Fancy Indexing"
   ]
  },
  {
   "cell_type": "markdown",
   "id": "455984f8-7b0e-4db9-a3a7-66bb6dde5e7e",
   "metadata": {},
   "source": [
    "##### Exploring Fancy Indexingc"
   ]
  },
  {
   "cell_type": "code",
   "execution_count": 3,
   "id": "245fb160-e9ce-437d-a8dd-63ad945b7486",
   "metadata": {},
   "outputs": [],
   "source": [
    "import numpy as np\n",
    "rng = np.random.default_rng(seed=1701)"
   ]
  },
  {
   "cell_type": "code",
   "execution_count": 5,
   "id": "1004acc3-7bd5-4238-91a7-2f6745ce7246",
   "metadata": {},
   "outputs": [
    {
     "name": "stdout",
     "output_type": "stream",
     "text": [
      "[90 40  9 30 80 67 39 15 33 79]\n"
     ]
    }
   ],
   "source": [
    "x = rng.integers(100, size=10)\n",
    "print(x)"
   ]
  },
  {
   "cell_type": "code",
   "execution_count": 7,
   "id": "7dc27acc-ba26-479a-b061-bb2c2397ed2b",
   "metadata": {},
   "outputs": [
    {
     "data": {
      "text/plain": [
       "[30, 15, 9]"
      ]
     },
     "execution_count": 7,
     "metadata": {},
     "output_type": "execute_result"
    }
   ],
   "source": [
    "[x[3], x[7], x[2]]"
   ]
  },
  {
   "cell_type": "code",
   "execution_count": 301,
   "id": "034d409a-b396-4c40-ae22-18b3be706df5",
   "metadata": {},
   "outputs": [
    {
     "data": {
      "text/plain": [
       "array([30, 15, 80], dtype=int64)"
      ]
     },
     "execution_count": 301,
     "metadata": {},
     "output_type": "execute_result"
    }
   ],
   "source": [
    "# Alternatively, we can pass a single list or array of indices to obtain the same result:\n",
    "ind = [3, 7, 4]\n",
    "x[ind]"
   ]
  },
  {
   "cell_type": "code",
   "execution_count": 303,
   "id": "23aa696b-9346-4ccf-b950-33e9001bc645",
   "metadata": {},
   "outputs": [
    {
     "data": {
      "text/plain": [
       "array([[30, 15],\n",
       "       [80, 67]], dtype=int64)"
      ]
     },
     "execution_count": 303,
     "metadata": {},
     "output_type": "execute_result"
    }
   ],
   "source": [
    "# When using arrays of indices, the shape of the result reflects the shape of the index\n",
    "# arrays rather than the shape of the array being indexed:\n",
    "ind = np.array([[3, 7],\n",
    "                [4, 5]])\n",
    "x[ind]"
   ]
  },
  {
   "cell_type": "code",
   "execution_count": 305,
   "id": "04968b52-7c60-4120-8b52-bd2a74a72d25",
   "metadata": {},
   "outputs": [
    {
     "data": {
      "text/plain": [
       "array([[ 0,  1,  2,  3],\n",
       "       [ 4,  5,  6,  7],\n",
       "       [ 8,  9, 10, 11]])"
      ]
     },
     "execution_count": 305,
     "metadata": {},
     "output_type": "execute_result"
    }
   ],
   "source": [
    "# Fancy indexing also works in multiple dimensions. Consider the following array\n",
    "X = np.arange(12).reshape((3, 4))\n",
    "X"
   ]
  },
  {
   "cell_type": "code",
   "execution_count": 307,
   "id": "590af568-6c4a-432f-9048-9d75b521fad0",
   "metadata": {},
   "outputs": [
    {
     "data": {
      "text/plain": [
       "array([ 2,  5, 11])"
      ]
     },
     "execution_count": 307,
     "metadata": {},
     "output_type": "execute_result"
    }
   ],
   "source": [
    "# Like with standard indexing, the first index refers to the row, and the second to the\n",
    "# column:\n",
    "row = np.array([0, 1, 2])\n",
    "col = np.array([2, 1, 3])\n",
    "X[row, col]"
   ]
  },
  {
   "cell_type": "code",
   "execution_count": 309,
   "id": "d0059981-c2bf-4b83-b001-31b39ca43dbf",
   "metadata": {},
   "outputs": [
    {
     "data": {
      "text/plain": [
       "array([[ 2,  1,  3],\n",
       "       [ 6,  5,  7],\n",
       "       [10,  9, 11]])"
      ]
     },
     "execution_count": 309,
     "metadata": {},
     "output_type": "execute_result"
    }
   ],
   "source": [
    "X[row[:, np.newaxis], col]"
   ]
  },
  {
   "cell_type": "code",
   "execution_count": 311,
   "id": "2327a497-3cce-47b8-a325-5dc0fe3aef9a",
   "metadata": {},
   "outputs": [
    {
     "data": {
      "text/plain": [
       "array([[0, 0, 0],\n",
       "       [2, 1, 3],\n",
       "       [4, 2, 6]])"
      ]
     },
     "execution_count": 311,
     "metadata": {},
     "output_type": "execute_result"
    }
   ],
   "source": [
    "# Here, each row value is matched with each column vector, exactly as we saw in broad‐\n",
    "# casting of arithmetic operations. For example:\n",
    "row[:, np.newaxis] * col"
   ]
  },
  {
   "cell_type": "markdown",
   "id": "741aff9e-1a40-47f7-a527-9c560ff30d07",
   "metadata": {},
   "source": [
    "#### Combined Indexing"
   ]
  },
  {
   "cell_type": "code",
   "execution_count": 313,
   "id": "69496637-6577-4bb6-b95b-ea127aacb839",
   "metadata": {},
   "outputs": [
    {
     "name": "stdout",
     "output_type": "stream",
     "text": [
      "[[ 0  1  2  3]\n",
      " [ 4  5  6  7]\n",
      " [ 8  9 10 11]]\n"
     ]
    }
   ],
   "source": [
    "print(X)"
   ]
  },
  {
   "cell_type": "code",
   "execution_count": 315,
   "id": "e6ad1c70-d557-4308-843e-dc41be885b9d",
   "metadata": {},
   "outputs": [
    {
     "data": {
      "text/plain": [
       "array([10,  8,  9])"
      ]
     },
     "execution_count": 315,
     "metadata": {},
     "output_type": "execute_result"
    }
   ],
   "source": [
    "X[2, [2, 0, 1]]"
   ]
  },
  {
   "cell_type": "code",
   "execution_count": 317,
   "id": "75be9d2c-a6a5-4709-b423-0a0fc2aa7331",
   "metadata": {},
   "outputs": [
    {
     "data": {
      "text/plain": [
       "array([[ 6,  4,  5],\n",
       "       [10,  8,  9]])"
      ]
     },
     "execution_count": 317,
     "metadata": {},
     "output_type": "execute_result"
    }
   ],
   "source": [
    "X[1:, [2, 0, 1]]"
   ]
  },
  {
   "cell_type": "code",
   "execution_count": 319,
   "id": "ead95762-4fd0-4ddc-97e1-5e727bc11eca",
   "metadata": {},
   "outputs": [
    {
     "data": {
      "text/plain": [
       "array([[ 0,  2],\n",
       "       [ 4,  6],\n",
       "       [ 8, 10]])"
      ]
     },
     "execution_count": 319,
     "metadata": {},
     "output_type": "execute_result"
    }
   ],
   "source": [
    "mask = np.array([True, False, True, False])\n",
    "X[row[:, np.newaxis], mask]"
   ]
  },
  {
   "cell_type": "markdown",
   "id": "bd1f8ac8-ca28-4cb4-b5d9-d3259504437a",
   "metadata": {},
   "source": [
    "##### Modifying Values with Fancy Indexing"
   ]
  },
  {
   "cell_type": "code",
   "execution_count": 1,
   "id": "6b7d7259-4998-4193-888e-42d80293c0e9",
   "metadata": {},
   "outputs": [],
   "source": [
    "# One common use of fancy indexing is the selection of subsets of rows from a matrix.\n",
    "# For example, we might have an N× Dmatrix representing Npoints in Ddimensions,\n",
    "# such as the following points drawn from a two-dimensional normal distribution:"
   ]
  },
  {
   "cell_type": "code",
   "execution_count": 37,
   "id": "25648b88-394e-4a33-b1f9-54f3a2ba420e",
   "metadata": {},
   "outputs": [
    {
     "name": "stdout",
     "output_type": "stream",
     "text": [
      "[ 0 99 99  3 99  5  6  7 99  9]\n"
     ]
    }
   ],
   "source": [
    "import numpy as np\n",
    "\n",
    "x = np.arange(10)\n",
    "i = np.array([2, 1, 8, 4])\n",
    "x[i] = 99\n",
    "print(x)"
   ]
  },
  {
   "cell_type": "code",
   "execution_count": 39,
   "id": "9dcb9500-d545-4dba-a772-285399f556bf",
   "metadata": {},
   "outputs": [
    {
     "name": "stdout",
     "output_type": "stream",
     "text": [
      "[ 0 89 89  3 89  5  6  7 89  9]\n"
     ]
    }
   ],
   "source": [
    "# We can use any assignment-type operator for this. For example:\n",
    "x[i] -= 10\n",
    "print(x)"
   ]
  },
  {
   "cell_type": "code",
   "execution_count": 41,
   "id": "1537dbfb-ce75-4c48-bb1d-1e26d39c9934",
   "metadata": {},
   "outputs": [
    {
     "name": "stdout",
     "output_type": "stream",
     "text": [
      "[6. 0. 0. 0. 0. 0. 0. 0. 0. 0.]\n"
     ]
    }
   ],
   "source": [
    "# Notice, though, that repeated indices with these operations can cause some poten‐\n",
    "# tially unexpected results. Consider the following:\n",
    "x = np.zeros(10)\n",
    "x[[0, 0]] = [4, 6]\n",
    "print(x)"
   ]
  },
  {
   "cell_type": "code",
   "execution_count": 43,
   "id": "3b0b3b5b-86da-4f34-a8e5-1b3940a53e39",
   "metadata": {},
   "outputs": [
    {
     "data": {
      "text/plain": [
       "array([6., 0., 1., 1., 1., 0., 0., 0., 0., 0.])"
      ]
     },
     "execution_count": 43,
     "metadata": {},
     "output_type": "execute_result"
    }
   ],
   "source": [
    "# Where did the 4 go? This operation first assigns x[0] = 4, followed by x[0] = 6. The\n",
    "# result, of course, is that x[0] contains the value 6.\n",
    "i = [2, 3, 3, 4, 4, 4]\n",
    "x[i] += 1\n",
    "x"
   ]
  },
  {
   "cell_type": "code",
   "execution_count": 45,
   "id": "9a98ff94-46da-4921-bdb5-c68baa08fd3c",
   "metadata": {},
   "outputs": [
    {
     "name": "stdout",
     "output_type": "stream",
     "text": [
      "[0. 0. 1. 2. 3. 0. 0. 0. 0. 0.]\n"
     ]
    }
   ],
   "source": [
    "x = np.zeros(10)\n",
    "np.add.at(x, i, 1)\n",
    "print(x)"
   ]
  },
  {
   "cell_type": "markdown",
   "id": "c96d24b2-1ed7-41f3-900d-817dfde80bf5",
   "metadata": {},
   "source": [
    "##### Example: Binning Data"
   ]
  },
  {
   "cell_type": "code",
   "execution_count": 47,
   "id": "ea157b90-afb7-44cd-b8da-af1aaa1e933f",
   "metadata": {},
   "outputs": [],
   "source": [
    "rng = np.random.default_rng(seed=1701)\n",
    "x = rng.normal(size=100)"
   ]
  },
  {
   "cell_type": "code",
   "execution_count": 49,
   "id": "70f4a9fe-31ac-4d9a-b40f-c9c17d44fe94",
   "metadata": {},
   "outputs": [],
   "source": [
    "rng = np.random.default_rng(seed=1701)\n",
    "x = rng.normal(size=100)\n",
    "# compute a histogram by hand\n",
    "bins = np.linspace(-5, 5, 20)\n",
    "counts = np.zeros_like(bins)\n",
    "# find the appropriate bin for each x\n",
    "i = np.searchsorted(bins, x)\n",
    "# add 1 to each of these bins\n",
    "np.add.at(counts, i, 1)"
   ]
  },
  {
   "cell_type": "code",
   "execution_count": 51,
   "id": "ed968337-5858-4be8-8023-909d51a72776",
   "metadata": {},
   "outputs": [
    {
     "data": {
      "image/png": "[encoded data removed]",
      "text/plain": [
       "<Figure size 640x480 with 1 Axes>"
      ]
     },
     "metadata": {},
     "output_type": "display_data"
    }
   ],
   "source": [
    "import matplotlib.pyplot as plt\n",
    "plt.plot(bins, counts, drawstyle='steps');"
   ]
  },
  {
   "cell_type": "code",
   "execution_count": 53,
   "id": "6c237661-634f-4af3-a39c-d08abf4a0009",
   "metadata": {},
   "outputs": [
    {
     "data": {
      "image/png": "[encoded data removed]",
      "text/plain": [
       "<Figure size 640x480 with 1 Axes>"
      ]
     },
     "metadata": {},
     "output_type": "display_data"
    }
   ],
   "source": [
    "plt.hist(x, bins, histtype='step');"
   ]
  },
  {
   "cell_type": "code",
   "execution_count": 55,
   "id": "0c739982-3208-4c4c-940c-28b9148d94d8",
   "metadata": {},
   "outputs": [
    {
     "name": "stdout",
     "output_type": "stream",
     "text": [
      "NumPy histogram (100 points):\n",
      "55.4 μs ± 2.86 μs per loop (mean ± std. dev. of 7 runs, 10,000 loops each)\n"
     ]
    }
   ],
   "source": [
    "# This function will create a nearly identical plot to the one just shown. To compute the\n",
    "# binning, Matplotlib uses the np.histogram function, which does a very similar com‐\n",
    "# putation to what we did before. Let’s compare the two here:\n",
    "print(f\"NumPy histogram ({len(x)} points):\")\n",
    "%timeit counts, edges = np.histogram(x, bins)"
   ]
  },
  {
   "cell_type": "code",
   "execution_count": 57,
   "id": "94dca6e8-9c0a-437a-b737-895c639478d3",
   "metadata": {},
   "outputs": [
    {
     "name": "stdout",
     "output_type": "stream",
     "text": [
      "Custom histogram (100 points):\n",
      "35 μs ± 4.71 μs per loop (mean ± std. dev. of 7 runs, 10,000 loops each)\n"
     ]
    }
   ],
   "source": [
    "print(f\"Custom histogram ({len(x)} points):\")\n",
    "%timeit np.add.at(counts, np.searchsorted(bins, x), 1)"
   ]
  },
  {
   "cell_type": "code",
   "execution_count": 65,
   "id": "80210c22-b2ac-452f-b9c1-1fe1e00dab83",
   "metadata": {},
   "outputs": [
    {
     "name": "stdout",
     "output_type": "stream",
     "text": [
      "NumPy histogram (1000000 points):\n",
      "111 ms ± 6.39 ms per loop (mean ± std. dev. of 7 runs, 10 loops each)\n",
      "Custom histogram (1000000 points):\n",
      "222 ms ± 23 ms per loop (mean ± std. dev. of 7 runs, 10 loops each)\n"
     ]
    }
   ],
   "source": [
    "x = rng.normal(size=1000000)\n",
    "print(f\"NumPy histogram ({len(x)} points):\")\n",
    "%timeit counts, edges = np.histogram(x, bins)\n",
    "print(f\"Custom histogram ({len(x)} points):\")\n",
    "%timeit np.add.at(counts, np.searchsorted(bins, x), 1)"
   ]
  },
  {
   "cell_type": "markdown",
   "id": "d03cdae6-01a7-4b96-a302-5837384d0b7a",
   "metadata": {},
   "source": [
    "#### CHAPTER 11"
   ]
  },
  {
   "cell_type": "code",
   "execution_count": null,
   "id": "7481c1f2-ad5c-4ce0-a07d-68fba95f0763",
   "metadata": {},
   "outputs": [],
   "source": [
    "# This chapter covers algorithms related to sorting values in\n",
    "# NumPy arrays. These algorithms are a favorite topic in introductory computer sci‐\n",
    "# ence courses: if you’ve ever taken one, you probably have had dreams (or, depending\n",
    "# on your temperament, nightmares) about insertion sorts, selection sorts, merge sorts,\n",
    "# quick sorts, bubble sorts, and many, many more. All are means of accomplishing a\n",
    "# similar task: sorting the values in a list or array."
   ]
  },
  {
   "cell_type": "code",
   "execution_count": 73,
   "id": "2428fd5b-4fe0-46f2-ab11-2191e7a964cf",
   "metadata": {},
   "outputs": [
    {
     "data": {
      "text/plain": [
       "[1, 1, 2, 3, 4, 5, 6, 9]"
      ]
     },
     "execution_count": 73,
     "metadata": {},
     "output_type": "execute_result"
    }
   ],
   "source": [
    "# Python has a couple of built-in functions and methods for sorting lists and other\n",
    "# iterable objects. The sorted function accepts a list and returns a sorted version of it:\n",
    "L = [3, 1, 4, 1, 5, 9, 2, 6]\n",
    "sorted(L) #returns a sorted copy"
   ]
  },
  {
   "cell_type": "code",
   "execution_count": 75,
   "id": "cb7840a9-5ea2-4385-900d-4c5a98cce4ed",
   "metadata": {},
   "outputs": [
    {
     "name": "stdout",
     "output_type": "stream",
     "text": [
      "[1, 1, 2, 3, 4, 5, 6, 9]\n"
     ]
    }
   ],
   "source": [
    "# By contrast, the sort method of lists will sort the list in-place:\n",
    "L.sort() # acts in-place and returns None\n",
    "print(L)"
   ]
  },
  {
   "cell_type": "code",
   "execution_count": 79,
   "id": "e22a591e-b2a1-46e9-bd95-9cd8ccd0789a",
   "metadata": {},
   "outputs": [
    {
     "data": {
      "text/plain": [
       "['h', 'n', 'o', 'p', 't', 'y']"
      ]
     },
     "execution_count": 79,
     "metadata": {},
     "output_type": "execute_result"
    }
   ],
   "source": [
    "# Python’s sorting methods are quite flexible, and can handle any iterable object. For\n",
    "# example, here we sort a string:\n",
    "sorted('python')"
   ]
  },
  {
   "cell_type": "code",
   "execution_count": null,
   "id": "5314c991-6254-459e-b1dd-4e1296a2f3b1",
   "metadata": {},
   "outputs": [],
   "source": [
    "# These built-in sorting methods are convenient, but as previously discussed, the dyna‐\n",
    "# mism of Python values means that they are less performant than routines designed\n",
    "# specifically for uniform arrays of numbers."
   ]
  },
  {
   "cell_type": "markdown",
   "id": "8f3c8efc-af19-48c1-bf75-d6f50b37e005",
   "metadata": {},
   "source": [
    "##### Fast Sorting in NumPy: np.sort and np.argsort"
   ]
  },
  {
   "cell_type": "code",
   "execution_count": 84,
   "id": "28ec802b-278f-4bbc-8a9a-e206ccee5637",
   "metadata": {},
   "outputs": [
    {
     "data": {
      "text/plain": [
       "array([1, 2, 3, 4, 5])"
      ]
     },
     "execution_count": 84,
     "metadata": {},
     "output_type": "execute_result"
    }
   ],
   "source": [
    "# The np.sort function is analogous to Python’s built-in sorted function, and will effi‐\n",
    "# ciently return a sorted copy of an array:\n",
    "import numpy as np\n",
    "x = np.array([2, 1, 4, 3, 5])\n",
    "np.sort(x)"
   ]
  },
  {
   "cell_type": "code",
   "execution_count": 86,
   "id": "522ede54-c73c-4cd4-95ad-81beebe6921a",
   "metadata": {},
   "outputs": [
    {
     "name": "stdout",
     "output_type": "stream",
     "text": [
      "[1 2 3 4 5]\n"
     ]
    }
   ],
   "source": [
    "# Similarly to the sort method of Python lists, you can also sort an array in-place using\n",
    "# the array sort method:\n",
    "x.sort()\n",
    "print(x)"
   ]
  },
  {
   "cell_type": "code",
   "execution_count": 90,
   "id": "2792d305-ede0-4554-bd77-4b36c1f5ed0b",
   "metadata": {},
   "outputs": [
    {
     "name": "stdout",
     "output_type": "stream",
     "text": [
      "[1 0 3 2 4]\n"
     ]
    }
   ],
   "source": [
    "# A related function is argsort, which instead returns the indices of the sorted ele‐\n",
    "# ments:\n",
    "x = np.array([2, 1, 4, 3, 5])\n",
    "i = np.argsort(x)\n",
    "print(i)"
   ]
  },
  {
   "cell_type": "code",
   "execution_count": 92,
   "id": "1c8814f4-9143-4abd-8013-a21339a62a9b",
   "metadata": {},
   "outputs": [
    {
     "data": {
      "text/plain": [
       "array([1, 2, 3, 4, 5])"
      ]
     },
     "execution_count": 92,
     "metadata": {},
     "output_type": "execute_result"
    }
   ],
   "source": [
    "# The first element of this result gives the index of the smallest element, the second\n",
    "# value gives the index of the second smallest, and so on. These indices can then be\n",
    "# used (via fancy indexing) to construct the sorted array if desired:\n",
    "x[i]"
   ]
  },
  {
   "cell_type": "markdown",
   "id": "6f1cd67d-4436-4107-a1a4-c4df7653e69c",
   "metadata": {},
   "source": [
    "##### Sorting Along Rows or Columns"
   ]
  },
  {
   "cell_type": "code",
   "execution_count": 97,
   "id": "67ab106b-218c-41c6-a917-35eaf69bd72d",
   "metadata": {},
   "outputs": [
    {
     "name": "stdout",
     "output_type": "stream",
     "text": [
      "[[0 7 6 4 4 8]\n",
      " [0 6 2 0 5 9]\n",
      " [7 7 7 7 5 1]\n",
      " [8 4 5 3 1 9]]\n"
     ]
    }
   ],
   "source": [
    "rng = np.random.default_rng(seed=42)\n",
    "X = rng.integers(0, 10, (4, 6))\n",
    "print(X)"
   ]
  },
  {
   "cell_type": "code",
   "execution_count": 99,
   "id": "bb7982bf-5849-4c2f-b769-1da0f233a000",
   "metadata": {},
   "outputs": [
    {
     "data": {
      "text/plain": [
       "array([[0, 4, 2, 0, 1, 1],\n",
       "       [0, 6, 5, 3, 4, 8],\n",
       "       [7, 7, 6, 4, 5, 9],\n",
       "       [8, 7, 7, 7, 5, 9]], dtype=int64)"
      ]
     },
     "execution_count": 99,
     "metadata": {},
     "output_type": "execute_result"
    }
   ],
   "source": [
    "# sort each column of X\n",
    "np.sort(X, axis=0)"
   ]
  },
  {
   "cell_type": "code",
   "execution_count": 101,
   "id": "7d9aeaa4-9130-4688-9787-941fb566787f",
   "metadata": {},
   "outputs": [
    {
     "data": {
      "text/plain": [
       "array([[0, 4, 4, 6, 7, 8],\n",
       "       [0, 0, 2, 5, 6, 9],\n",
       "       [1, 5, 7, 7, 7, 7],\n",
       "       [1, 3, 4, 5, 8, 9]], dtype=int64)"
      ]
     },
     "execution_count": 101,
     "metadata": {},
     "output_type": "execute_result"
    }
   ],
   "source": [
    "# sort each row of X\n",
    "np.sort(X, axis=1)"
   ]
  },
  {
   "cell_type": "markdown",
   "id": "72c140cd-a394-4046-bffd-e417f36d743e",
   "metadata": {},
   "source": [
    "##### Partial Sorts: Partitioning"
   ]
  },
  {
   "cell_type": "code",
   "execution_count": 106,
   "id": "5998dc9e-ff33-469a-bfe3-6b0ddd469a34",
   "metadata": {},
   "outputs": [
    {
     "data": {
      "text/plain": [
       "array([2, 1, 3, 4, 6, 5, 7])"
      ]
     },
     "execution_count": 106,
     "metadata": {},
     "output_type": "execute_result"
    }
   ],
   "source": [
    "# Sometimes we’re not interested in sorting the entire array, but simply want to find the\n",
    "# k smallest values in the array. NumPy enables this with the np.partition function.\n",
    "# np.partition takes an array and a number k; the result is a new array with the small‐\n",
    "# est k values to the left of the partition and the remaining values to the right:\n",
    "x = np.array([7, 2, 3, 1, 6, 5, 4])\n",
    "np.partition(x, 3)"
   ]
  },
  {
   "cell_type": "code",
   "execution_count": 108,
   "id": "a78eb8d3-451c-42ed-bf10-3c6860b49be2",
   "metadata": {},
   "outputs": [
    {
     "data": {
      "text/plain": [
       "array([[0, 4, 4, 7, 6, 8],\n",
       "       [0, 0, 2, 6, 5, 9],\n",
       "       [1, 5, 7, 7, 7, 7],\n",
       "       [1, 3, 4, 5, 8, 9]], dtype=int64)"
      ]
     },
     "execution_count": 108,
     "metadata": {},
     "output_type": "execute_result"
    }
   ],
   "source": [
    "# Similarly to sorting, we can partition along an arbitrary axis of a multidimensional\n",
    "# array:\n",
    "np.partition(X, 2, axis=1)"
   ]
  },
  {
   "cell_type": "markdown",
   "id": "ba5c8a23-c384-4505-894f-e8ba6d0190b0",
   "metadata": {},
   "source": [
    "##### Example: k-Nearest Neighbors"
   ]
  },
  {
   "cell_type": "code",
   "execution_count": 111,
   "id": "d64764ec-2e88-4515-a573-bf9885f4ac4e",
   "metadata": {},
   "outputs": [],
   "source": [
    "X = rng.random((10, 2))"
   ]
  },
  {
   "cell_type": "code",
   "execution_count": 115,
   "id": "b0bc36ba-7205-405a-a2c2-f5de458dc67d",
   "metadata": {},
   "outputs": [
    {
     "data": {
      "image/png": "[encoded data removed]",
      "text/plain": [
       "<Figure size 832x572 with 1 Axes>"
      ]
     },
     "metadata": {},
     "output_type": "display_data"
    }
   ],
   "source": [
    "%matplotlib inline\n",
    "import matplotlib.pyplot as plt\n",
    "plt.style.use(plt.style.available)\n",
    "plt.scatter(X[:, 0], X[:, 1], s=100);"
   ]
  },
  {
   "cell_type": "code",
   "execution_count": null,
   "id": "263ccaeb-c529-4beb-8e31-a15dcd5527c9",
   "metadata": {},
   "outputs": [],
   "source": [
    "# Now we’ll compute the distance between each pair of points. Recall that the squared\n",
    "# distance between two points is the sum of the squared differences in each dimension;\n",
    "# using the efficient broadcasting (Chapter 8) and aggregation (Chapter 7) routines\n",
    "# provided by NumPy we can compute the matrix of square distances in a single line of\n",
    "# code:"
   ]
  },
  {
   "cell_type": "code",
   "execution_count": 117,
   "id": "a850912b-90d5-4055-9030-26a9eb088520",
   "metadata": {},
   "outputs": [],
   "source": [
    "dist_sq = np.sum((X[:, np.newaxis] - X[np.newaxis, :]) ** 2, axis=-1)"
   ]
  },
  {
   "cell_type": "code",
   "execution_count": 119,
   "id": "88bb4e7c-4240-49d8-bbb1-55170c4bb00d",
   "metadata": {},
   "outputs": [
    {
     "data": {
      "text/plain": [
       "(10, 10, 2)"
      ]
     },
     "execution_count": 119,
     "metadata": {},
     "output_type": "execute_result"
    }
   ],
   "source": [
    "#This operation has a lot packed into it, and it might be a bit confusing if you’re unfa‐\n",
    "# miliar with NumPy’s broadcasting rules. When you come across code like this, it can\n",
    "# be useful to break it down into its component steps:\n",
    " # for each pair of points, compute differences in their coordinates\n",
    "differences = X[:, np.newaxis] - X[np.newaxis, :]\n",
    "differences.shape"
   ]
  },
  {
   "cell_type": "code",
   "execution_count": 121,
   "id": "dbacae8b-04c5-4c5e-867a-f5c505a392ae",
   "metadata": {},
   "outputs": [
    {
     "data": {
      "text/plain": [
       "(10, 10, 2)"
      ]
     },
     "execution_count": 121,
     "metadata": {},
     "output_type": "execute_result"
    }
   ],
   "source": [
    "# square the coordinate differences\n",
    "sq_differences = differences ** 2\n",
    "sq_differences.shape"
   ]
  },
  {
   "cell_type": "code",
   "execution_count": 123,
   "id": "895736b4-4fd8-4aa4-b275-a646dd614be6",
   "metadata": {},
   "outputs": [
    {
     "data": {
      "text/plain": [
       "(10, 10)"
      ]
     },
     "execution_count": 123,
     "metadata": {},
     "output_type": "execute_result"
    }
   ],
   "source": [
    "# sum the coordinate differences to get the squared distance\n",
    "dist_sq = sq_differences.sum(-1)\n",
    "dist_sq.shape"
   ]
  },
  {
   "cell_type": "code",
   "execution_count": null,
   "id": "c3b1dcb5-184b-4dd2-94d0-2403d2c17502",
   "metadata": {},
   "outputs": [],
   "source": [
    "# As a quick check of our logic, we should see that the diagonal of this matrix (i.e., the\n",
    "# set of distances between each point and itself) is all zeros:"
   ]
  },
  {
   "cell_type": "code",
   "execution_count": 125,
   "id": "4819ee59-bb84-4edd-8315-75be5ec271d0",
   "metadata": {},
   "outputs": [
    {
     "data": {
      "text/plain": [
       "array([0., 0., 0., 0., 0., 0., 0., 0., 0., 0.])"
      ]
     },
     "execution_count": 125,
     "metadata": {},
     "output_type": "execute_result"
    }
   ],
   "source": [
    "dist_sq.diagonal()"
   ]
  },
  {
   "cell_type": "code",
   "execution_count": null,
   "id": "5c127f14-f0d7-4748-83a3-53b2268bf496",
   "metadata": {},
   "outputs": [],
   "source": [
    "# With the pairwise square distances converted, we can now use np.argsort to sort\n",
    "# along each row. The leftmost columns will then give the indices of the nearest\n",
    "# neighbors:"
   ]
  },
  {
   "cell_type": "code",
   "execution_count": 127,
   "id": "7bd9d511-0b46-41d7-ab4d-1030e45c491d",
   "metadata": {},
   "outputs": [
    {
     "name": "stdout",
     "output_type": "stream",
     "text": [
      "[[0 9 3 5 4 8 1 6 2 7]\n",
      " [1 7 2 6 4 8 3 0 9 5]\n",
      " [2 7 1 6 4 3 8 0 9 5]\n",
      " [3 0 4 5 9 6 1 2 8 7]\n",
      " [4 6 3 1 2 7 0 5 9 8]\n",
      " [5 9 3 0 4 6 8 1 2 7]\n",
      " [6 4 2 1 7 3 0 5 9 8]\n",
      " [7 2 1 6 4 3 8 0 9 5]\n",
      " [8 0 1 9 3 4 7 2 6 5]\n",
      " [9 0 5 3 4 8 6 1 2 7]]\n"
     ]
    }
   ],
   "source": [
    "nearest = np.argsort(dist_sq, axis=1)\n",
    "print(nearest)"
   ]
  },
  {
   "cell_type": "code",
   "execution_count": 129,
   "id": "69e9d38f-dc6e-4517-8cd3-133ab6f745bb",
   "metadata": {},
   "outputs": [],
   "source": [
    "K = 2\n",
    "nearest_partition = np.argpartition(dist_sq, K + 1, axis=1)"
   ]
  },
  {
   "cell_type": "code",
   "execution_count": 135,
   "id": "f1707580-0cc7-45d5-a223-7f0ed6bba706",
   "metadata": {},
   "outputs": [
    {
     "data": {
      "image/png": "[encoded data removed]",
      "text/plain": [
       "<Figure size 832x572 with 1 Axes>"
      ]
     },
     "metadata": {},
     "output_type": "display_data"
    }
   ],
   "source": [
    "plt.scatter(X[:, 0], X[:, 1], s=100)\n",
    "# draw lines from each point to its two nearest neighbors\n",
    "K = 2\n",
    "for i in range(X.shape[0]):\n",
    "    for j in nearest_partition[i, :K+1]:\n",
    "        # plot a line from X[i] to X[j]\n",
    "        # use some zip magic to make it happen:\n",
    "        plt.plot(*zip(X[j], X[i]), color='black')"
   ]
  },
  {
   "cell_type": "markdown",
   "id": "bdc60b77-5dcf-45ef-a686-d9e264596df5",
   "metadata": {},
   "source": [
    "#### CHAPTER 12"
   ]
  },
  {
   "cell_type": "markdown",
   "id": "8ceb327b-6eb1-4b22-8146-8aceffeaf468",
   "metadata": {},
   "source": [
    "##### Structured Data: NumPy’s Structured Arrays"
   ]
  },
  {
   "cell_type": "code",
   "execution_count": null,
   "id": "b0d20a3f-790b-4a21-954f-71b1c8fad3e2",
   "metadata": {},
   "outputs": [],
   "source": [
    "# This chapter demonstrates the use of NumPy’s struc‐\n",
    "# tured arrays and record arrays, which provide efficient storage for compound, hetero‐\n",
    "# geneous data. While the patterns shown here are useful for simple operations,\n",
    "# scenarios like this often lend themselves to the use of Pandas DataFrames, which we’ll\n",
    "# explore in Part III."
   ]
  },
  {
   "cell_type": "code",
   "execution_count": 140,
   "id": "f119df5f-5526-466f-a79a-26ca4686944a",
   "metadata": {},
   "outputs": [],
   "source": [
    "name = ['Alice', 'Bob', 'Cathy', 'Doug']\n",
    "age = [25, 45, 37, 19]\n",
    "weight = [55.0, 85.5, 68.0, 61.5]"
   ]
  },
  {
   "cell_type": "code",
   "execution_count": null,
   "id": "32d65424-f721-4a3b-8f18-0fb8181df183",
   "metadata": {},
   "outputs": [],
   "source": [
    "# But this is a bit clumsy. There’s nothing here that tells us that the three arrays are\n",
    "# related; NumPy’s structured arrays allow us to do this more naturally by using a single\n",
    "# structure to store all of this data."
   ]
  },
  {
   "cell_type": "code",
   "execution_count": 142,
   "id": "72897b19-2acd-437f-8354-1ad50cec5ff5",
   "metadata": {},
   "outputs": [],
   "source": [
    "x = np.zeros(4, dtype=int)"
   ]
  },
  {
   "cell_type": "code",
   "execution_count": 148,
   "id": "4f1bcdcc-9e58-40bc-bc7e-df0642849c66",
   "metadata": {},
   "outputs": [
    {
     "name": "stdout",
     "output_type": "stream",
     "text": [
      "[('name', '<U10'), ('age', '<i4'), ('weight', '<f8')]\n"
     ]
    }
   ],
   "source": [
    "# Use a compound data type for structured arrays\n",
    "data = np.zeros(4, dtype={'names':('name', 'age', 'weight'),\n",
    "                          'formats':('U10', 'i4', 'f8')})\n",
    "print(data.dtype)"
   ]
  },
  {
   "cell_type": "code",
   "execution_count": 152,
   "id": "44351949-7831-4ff2-a2ce-77595bfbe2a7",
   "metadata": {},
   "outputs": [
    {
     "name": "stdout",
     "output_type": "stream",
     "text": [
      "[('Alice', 25, 55. ) ('Bob', 45, 85.5) ('Cathy', 37, 68. )\n",
      " ('Doug', 19, 61.5)]\n"
     ]
    }
   ],
   "source": [
    "data['name'] = name\n",
    "data['age'] = age\n",
    "data['weight'] = weight\n",
    "print(data)"
   ]
  },
  {
   "cell_type": "code",
   "execution_count": null,
   "id": "e3f16a8f-fb05-4ad8-b215-263ef65a2c90",
   "metadata": {},
   "outputs": [],
   "source": [
    "# As we had hoped, the data is now conveniently arranged in one structured array.\n",
    "# The handy thing with structured arrays is that we can now refer to values either by\n",
    "# index or by name:"
   ]
  },
  {
   "cell_type": "code",
   "execution_count": 154,
   "id": "6ec2f8f9-ee68-411f-b35d-592e536aec2e",
   "metadata": {},
   "outputs": [
    {
     "data": {
      "text/plain": [
       "array(['Alice', 'Bob', 'Cathy', 'Doug'], dtype='<U10')"
      ]
     },
     "execution_count": 154,
     "metadata": {},
     "output_type": "execute_result"
    }
   ],
   "source": [
    "# Get all names\n",
    "data['name']"
   ]
  },
  {
   "cell_type": "code",
   "execution_count": 156,
   "id": "3b112c5e-768b-4baf-ab5d-9a4d2c58ab08",
   "metadata": {},
   "outputs": [
    {
     "data": {
      "text/plain": [
       "('Alice', 25, 55.)"
      ]
     },
     "execution_count": 156,
     "metadata": {},
     "output_type": "execute_result"
    }
   ],
   "source": [
    "# Get first row of data\n",
    "data[0]"
   ]
  },
  {
   "cell_type": "code",
   "execution_count": 158,
   "id": "b085a093-d92c-45d2-8a2a-ee8cf51b30c4",
   "metadata": {},
   "outputs": [
    {
     "data": {
      "text/plain": [
       "'Doug'"
      ]
     },
     "execution_count": 158,
     "metadata": {},
     "output_type": "execute_result"
    }
   ],
   "source": [
    "# Get the name from the last row\n",
    "data[-1]['name']"
   ]
  },
  {
   "cell_type": "code",
   "execution_count": 160,
   "id": "0fcc622b-2cd5-45da-8606-d1a1eab9919c",
   "metadata": {},
   "outputs": [
    {
     "data": {
      "text/plain": [
       "array(['Alice', 'Doug'], dtype='<U10')"
      ]
     },
     "execution_count": 160,
     "metadata": {},
     "output_type": "execute_result"
    }
   ],
   "source": [
    "# Using Boolean masking, we can even do some more sophisticated operations, such as\n",
    "# filtering on age:\n",
    "# Get names where age is under 30\n",
    "data[data['age'] < 30]['name']"
   ]
  },
  {
   "cell_type": "markdown",
   "id": "adad13d1-f433-47bd-919d-2564950b4d1a",
   "metadata": {},
   "source": [
    "##### Exploring Structured Array Creation"
   ]
  },
  {
   "cell_type": "code",
   "execution_count": 163,
   "id": "be3a1581-8f1a-488a-b644-e63f0520698a",
   "metadata": {},
   "outputs": [
    {
     "data": {
      "text/plain": [
       "dtype([('name', '<U10'), ('age', '<i4'), ('weight', '<f8')])"
      ]
     },
     "execution_count": 163,
     "metadata": {},
     "output_type": "execute_result"
    }
   ],
   "source": [
    "np.dtype({'names':('name', 'age', 'weight'),\n",
    "          'formats':('U10', 'i4', 'f8')})"
   ]
  },
  {
   "cell_type": "code",
   "execution_count": null,
   "id": "5c628ab1-37f5-4773-a810-e56e4edd6c62",
   "metadata": {},
   "outputs": [],
   "source": [
    "# For clarity, numerical types can be specified using Python types or NumPy dtypes\n",
    "# instead:"
   ]
  },
  {
   "cell_type": "code",
   "execution_count": 165,
   "id": "63e23fcf-96f1-4cef-ab0f-bb65fe89756e",
   "metadata": {},
   "outputs": [
    {
     "data": {
      "text/plain": [
       "dtype([('name', '<U10'), ('age', '<i4'), ('weight', '<f4')])"
      ]
     },
     "execution_count": 165,
     "metadata": {},
     "output_type": "execute_result"
    }
   ],
   "source": [
    "np.dtype({'names':('name', 'age', 'weight'),\n",
    "          'formats':((np.str_, 10), int, np.float32)})"
   ]
  },
  {
   "cell_type": "code",
   "execution_count": 167,
   "id": "04bb895d-bdc0-4fb3-a05f-ed92756bab78",
   "metadata": {},
   "outputs": [
    {
     "data": {
      "text/plain": [
       "dtype([('name', 'S10'), ('age', '<i4'), ('weight', '<f8')])"
      ]
     },
     "execution_count": 167,
     "metadata": {},
     "output_type": "execute_result"
    }
   ],
   "source": [
    "# A compound type can also be specified as a list of tuples:\n",
    "np.dtype([('name', 'S10'), ('age', 'i4'), ('weight', 'f8')])"
   ]
  },
  {
   "cell_type": "code",
   "execution_count": 169,
   "id": "ea469cb1-553c-4a27-89d1-8b14f963dbd7",
   "metadata": {},
   "outputs": [
    {
     "data": {
      "text/plain": [
       "dtype([('f0', 'S10'), ('f1', '<i4'), ('f2', '<f8')])"
      ]
     },
     "execution_count": 169,
     "metadata": {},
     "output_type": "execute_result"
    }
   ],
   "source": [
    "# If the names of the types do not matter to you, you can specify the types alone in a\n",
    "# comma-separated string:\n",
    "np.dtype('S10,i4,f8')"
   ]
  },
  {
   "cell_type": "markdown",
   "id": "b77cf106-ce7e-414f-a953-f678cd19dff3",
   "metadata": {},
   "source": [
    "##### More Advanced Compound Types"
   ]
  },
  {
   "cell_type": "code",
   "execution_count": 172,
   "id": "e9c4a598-e3d7-4813-a6d5-c1157477797d",
   "metadata": {},
   "outputs": [
    {
     "name": "stdout",
     "output_type": "stream",
     "text": [
      "(0, [[0., 0., 0.], [0., 0., 0.], [0., 0., 0.]])\n",
      "[[0. 0. 0.]\n",
      " [0. 0. 0.]\n",
      " [0. 0. 0.]]\n"
     ]
    }
   ],
   "source": [
    "tp = np.dtype([('id', 'i8'), ('mat', 'f8', (3, 3))])\n",
    "X = np.zeros(1, dtype=tp)\n",
    "print(X[0])\n",
    "print(X['mat'][0])"
   ]
  },
  {
   "cell_type": "markdown",
   "id": "a9e3accc-1fb7-46f6-bb52-bf235d387d1e",
   "metadata": {},
   "source": [
    "##### Record Arrays: Structured Arrays with a Twist"
   ]
  },
  {
   "cell_type": "code",
   "execution_count": 175,
   "id": "96fcaf15-df9b-460c-bdd9-03f34c8c4141",
   "metadata": {},
   "outputs": [
    {
     "data": {
      "text/plain": [
       "array([25, 45, 37, 19])"
      ]
     },
     "execution_count": 175,
     "metadata": {},
     "output_type": "execute_result"
    }
   ],
   "source": [
    "data['age']"
   ]
  },
  {
   "cell_type": "code",
   "execution_count": 177,
   "id": "7ae4b01c-a1c1-46af-adcc-65ccb2cd36a9",
   "metadata": {},
   "outputs": [
    {
     "data": {
      "text/plain": [
       "array([25, 45, 37, 19])"
      ]
     },
     "execution_count": 177,
     "metadata": {},
     "output_type": "execute_result"
    }
   ],
   "source": [
    "data_rec = data.view(np.recarray)\n",
    "data_rec.age"
   ]
  },
  {
   "cell_type": "code",
   "execution_count": null,
   "id": "1e4b09ed-04ee-42d4-99b8-71440d8b7a43",
   "metadata": {},
   "outputs": [],
   "source": [
    "# The downside is that for record arrays, there is some extra overhead involved in\n",
    "# accessing the fields, even when using the same syntax:"
   ]
  },
  {
   "cell_type": "code",
   "execution_count": 179,
   "id": "672dfcf5-290b-4c47-804a-c9bfb430aa10",
   "metadata": {},
   "outputs": [
    {
     "name": "stdout",
     "output_type": "stream",
     "text": [
      "276 ns ± 12.6 ns per loop (mean ± std. dev. of 7 runs, 1,000,000 loops each)\n",
      "4.67 μs ± 645 ns per loop (mean ± std. dev. of 7 runs, 100,000 loops each)\n",
      "9.28 μs ± 1.28 μs per loop (mean ± std. dev. of 7 runs, 100,000 loops each)\n"
     ]
    }
   ],
   "source": [
    "%timeit data['age']\n",
    "%timeit data_rec['age']\n",
    "%timeit data_rec.age"
   ]
  }
 ],
 "metadata": {
  "kernelspec": {
   "display_name": "Python 3 (ipykernel)",
   "language": "python",
   "name": "python3"
  },
  "language_info": {
   "codemirror_mode": {
    "name": "ipython",
    "version": 3
   },
   "file_extension": ".py",
   "mimetype": "text/x-python",
   "name": "python",
   "nbconvert_exporter": "python",
   "pygments_lexer": "ipython3",
   "version": "3.12.4"
  }
 },
 "nbformat": 4,
 "nbformat_minor": 5
}
