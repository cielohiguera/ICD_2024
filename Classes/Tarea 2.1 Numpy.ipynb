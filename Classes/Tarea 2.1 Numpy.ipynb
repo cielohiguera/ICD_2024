{
 "cells": [
  {
   "cell_type": "markdown",
   "id": "c69169ea-76fb-4336-a59e-2c33ed83dfbb",
   "metadata": {},
   "source": [
    "# Numpy"
   ]
  },
  {
   "cell_type": "markdown",
   "id": "5e623239-657a-48cd-9c25-ec7ade63f757",
   "metadata": {},
   "source": [
    "The NumPy library is the core library for scientific computing in Python. It provides a high-preformance multidimensional array object, and tools for working with these arrays"
   ]
  },
  {
   "cell_type": "markdown",
   "id": "704b8e10-2ced-4078-8de7-fa2fb5ef4729",
   "metadata": {},
   "source": [
    "##### Cielo Aholiva Higuera Gutiérrez"
   ]
  },
  {
   "cell_type": "markdown",
   "id": "29fa132b-6b1c-4718-83ee-462c2e549c19",
   "metadata": {},
   "source": [
    "### *Creating Arrays*"
   ]
  },
  {
   "cell_type": "markdown",
   "id": "dc774431-f059-4635-9138-da9984df9cb4",
   "metadata": {},
   "source": [
    "#### Initial Placeholders"
   ]
  },
  {
   "cell_type": "code",
   "execution_count": 39,
   "id": "80c300fb-705a-4800-b973-ec6c6bb811b6",
   "metadata": {},
   "outputs": [],
   "source": [
    "import numpy as np"
   ]
  },
  {
   "cell_type": "code",
   "execution_count": 208,
   "id": "2ab60cc3-3986-447c-9333-4bb127c5fed7",
   "metadata": {},
   "outputs": [
    {
     "data": {
      "text/plain": [
       "array([1, 2, 3])"
      ]
     },
     "execution_count": 208,
     "metadata": {},
     "output_type": "execute_result"
    }
   ],
   "source": [
    "a = np.array([1,2,3])\n",
    "a"
   ]
  },
  {
   "cell_type": "code",
   "execution_count": 187,
   "id": "0741ed7d-77c4-43b4-8ffb-05c08f0d475b",
   "metadata": {},
   "outputs": [
    {
     "data": {
      "text/plain": [
       "array([[1.5, 2. , 3. ],\n",
       "       [4. , 5. , 6. ]])"
      ]
     },
     "execution_count": 187,
     "metadata": {},
     "output_type": "execute_result"
    }
   ],
   "source": [
    "b = np.array([(1.5,2,3), (4,5,6)], dtype = float)\n",
    "b"
   ]
  },
  {
   "cell_type": "code",
   "execution_count": 191,
   "id": "bbcb5479-76f3-49f4-aa4b-b1ac4ad58cdf",
   "metadata": {},
   "outputs": [
    {
     "data": {
      "text/plain": [
       "array([[[1.5, 2. , 3. ],\n",
       "        [4. , 5. , 6. ]],\n",
       "\n",
       "       [[3. , 2. , 1. ],\n",
       "        [4. , 5. , 6. ]]])"
      ]
     },
     "execution_count": 191,
     "metadata": {},
     "output_type": "execute_result"
    }
   ],
   "source": [
    "c = np.array([[(1.5,2,3), (4,5,6)], [(3,2,1), (4,5,6)]], dtype = float)\n",
    "c"
   ]
  },
  {
   "cell_type": "code",
   "execution_count": 11,
   "id": "c05a9af0-3943-4e9c-b8c1-4cb91179f668",
   "metadata": {},
   "outputs": [
    {
     "data": {
      "text/plain": [
       "array([[0., 0., 0., 0.],\n",
       "       [0., 0., 0., 0.],\n",
       "       [0., 0., 0., 0.]])"
      ]
     },
     "execution_count": 11,
     "metadata": {},
     "output_type": "execute_result"
    }
   ],
   "source": [
    "np.zeros((3,4)) #Create an array of zeros"
   ]
  },
  {
   "cell_type": "code",
   "execution_count": 12,
   "id": "b330e206-0fdb-4d8b-87bc-fc1b82121681",
   "metadata": {},
   "outputs": [
    {
     "data": {
      "text/plain": [
       "array([[[1, 1, 1, 1],\n",
       "        [1, 1, 1, 1],\n",
       "        [1, 1, 1, 1]],\n",
       "\n",
       "       [[1, 1, 1, 1],\n",
       "        [1, 1, 1, 1],\n",
       "        [1, 1, 1, 1]]], dtype=int16)"
      ]
     },
     "execution_count": 12,
     "metadata": {},
     "output_type": "execute_result"
    }
   ],
   "source": [
    "np.ones((2,3,4), dtype = np.int16) #Create an array of ones"
   ]
  },
  {
   "cell_type": "code",
   "execution_count": 13,
   "id": "0f91e6df-0c90-42aa-b93a-57884f61bc45",
   "metadata": {},
   "outputs": [
    {
     "data": {
      "text/plain": [
       "array([10, 15, 20])"
      ]
     },
     "execution_count": 13,
     "metadata": {},
     "output_type": "execute_result"
    }
   ],
   "source": [
    "d = np.arange(10,25,5) #Create an array of evenly\n",
    "d"
   ]
  },
  {
   "cell_type": "code",
   "execution_count": 14,
   "id": "4f396ba2-e1a3-4970-a1b9-54da9e154cd9",
   "metadata": {},
   "outputs": [
    {
     "data": {
      "text/plain": [
       "array([0.  , 0.25, 0.5 , 0.75, 1.  , 1.25, 1.5 , 1.75, 2.  ])"
      ]
     },
     "execution_count": 14,
     "metadata": {},
     "output_type": "execute_result"
    }
   ],
   "source": [
    "np.linspace(0,2,9) #Create an array of evenly spaced values (number of samples)"
   ]
  },
  {
   "cell_type": "code",
   "execution_count": 15,
   "id": "cd4e06bc-d01a-46e6-a1e0-48452d0b9d64",
   "metadata": {},
   "outputs": [
    {
     "data": {
      "text/plain": [
       "array([[7, 7],\n",
       "       [7, 7]])"
      ]
     },
     "execution_count": 15,
     "metadata": {},
     "output_type": "execute_result"
    }
   ],
   "source": [
    "e = np.full((2,2),7) #Create a constant array\n",
    "e"
   ]
  },
  {
   "cell_type": "code",
   "execution_count": 16,
   "id": "20f56bd2-6f1e-4790-a588-d613024f5f8e",
   "metadata": {},
   "outputs": [
    {
     "data": {
      "text/plain": [
       "array([[1., 0.],\n",
       "       [0., 1.]])"
      ]
     },
     "execution_count": 16,
     "metadata": {},
     "output_type": "execute_result"
    }
   ],
   "source": [
    "f = np.eye(2) #Create a 2x2 identity matrix\n",
    "f"
   ]
  },
  {
   "cell_type": "code",
   "execution_count": 17,
   "id": "6c3db801-4659-4846-9b3c-e4f8ea386fbb",
   "metadata": {},
   "outputs": [
    {
     "data": {
      "text/plain": [
       "array([[0.6754188 , 0.04395544],\n",
       "       [0.95445756, 0.2304558 ]])"
      ]
     },
     "execution_count": 17,
     "metadata": {},
     "output_type": "execute_result"
    }
   ],
   "source": [
    "np.random.random((2,2)) #Create an array with random values"
   ]
  },
  {
   "cell_type": "code",
   "execution_count": 18,
   "id": "0d46ae32-2909-4572-a293-10059acc5261",
   "metadata": {},
   "outputs": [
    {
     "data": {
      "text/plain": [
       "array([[1.5, 2. ],\n",
       "       [3. , 4. ],\n",
       "       [5. , 6. ]])"
      ]
     },
     "execution_count": 18,
     "metadata": {},
     "output_type": "execute_result"
    }
   ],
   "source": [
    "np.empty((3,2)) #Create an empty array"
   ]
  },
  {
   "cell_type": "markdown",
   "id": "42748b1a-d354-40cd-9786-7c28c7261635",
   "metadata": {},
   "source": [
    "### *I/O*"
   ]
  },
  {
   "cell_type": "markdown",
   "id": "78b8be3e-048f-4a07-a787-093a7f7af546",
   "metadata": {},
   "source": [
    "#### Saving and loading On Disk"
   ]
  },
  {
   "cell_type": "code",
   "execution_count": 21,
   "id": "8fbc21cf-d692-49ed-a613-983b09bd5857",
   "metadata": {},
   "outputs": [],
   "source": [
    "np.save('my_array',a)"
   ]
  },
  {
   "cell_type": "code",
   "execution_count": 22,
   "id": "0101f82d-fa14-4e93-8fbe-da4d82b4e661",
   "metadata": {},
   "outputs": [],
   "source": [
    "np.savez('array.npz', a, b)"
   ]
  },
  {
   "cell_type": "markdown",
   "id": "a9c30b91-2c25-4f39-95bb-69fa8d637288",
   "metadata": {},
   "source": [
    "#### Saving and loading Text Files"
   ]
  },
  {
   "cell_type": "code",
   "execution_count": 24,
   "id": "9d4add45-21c4-42cd-82f1-6b57ed7448df",
   "metadata": {},
   "outputs": [
    {
     "data": {
      "text/plain": [
       "array([1., 2.])"
      ]
     },
     "execution_count": 24,
     "metadata": {},
     "output_type": "execute_result"
    }
   ],
   "source": [
    "np.loadtxt(\"myfile.txt\")"
   ]
  },
  {
   "cell_type": "code",
   "execution_count": 25,
   "id": "7d52914e-da2d-4018-9263-d457eef74c28",
   "metadata": {},
   "outputs": [
    {
     "data": {
      "text/plain": [
       "array(nan)"
      ]
     },
     "execution_count": 25,
     "metadata": {},
     "output_type": "execute_result"
    }
   ],
   "source": [
    "np.genfromtxt(\"my_file.cvs\", delimiter= ',')"
   ]
  },
  {
   "cell_type": "code",
   "execution_count": 26,
   "id": "897a4c87-679e-48d5-8408-892e16750535",
   "metadata": {},
   "outputs": [],
   "source": [
    "np.savetxt(\"myarray.txt\", a, delimiter=\" \")"
   ]
  },
  {
   "cell_type": "markdown",
   "id": "e5ed0ce5-782c-4d53-aa57-ef9504ed2a41",
   "metadata": {},
   "source": [
    "#### Inspecting Your Array"
   ]
  },
  {
   "cell_type": "code",
   "execution_count": 28,
   "id": "37c14635-d509-47f8-b3b0-ae251e10af37",
   "metadata": {},
   "outputs": [
    {
     "data": {
      "text/plain": [
       "(3,)"
      ]
     },
     "execution_count": 28,
     "metadata": {},
     "output_type": "execute_result"
    }
   ],
   "source": [
    "a.shape #Array dimensions"
   ]
  },
  {
   "cell_type": "code",
   "execution_count": 29,
   "id": "28f8f413-4954-4c09-a8c1-f7f66f435809",
   "metadata": {},
   "outputs": [
    {
     "data": {
      "text/plain": [
       "3"
      ]
     },
     "execution_count": 29,
     "metadata": {},
     "output_type": "execute_result"
    }
   ],
   "source": [
    "len(a) #Length of array"
   ]
  },
  {
   "cell_type": "code",
   "execution_count": 30,
   "id": "b5eb52de-f82c-40b9-bc1a-3915b56c0807",
   "metadata": {},
   "outputs": [
    {
     "data": {
      "text/plain": [
       "2"
      ]
     },
     "execution_count": 30,
     "metadata": {},
     "output_type": "execute_result"
    }
   ],
   "source": [
    "b.ndim #Number of array dimensions"
   ]
  },
  {
   "cell_type": "code",
   "execution_count": 31,
   "id": "f9824f64-bef2-410e-bc24-cb6cbf97766e",
   "metadata": {},
   "outputs": [
    {
     "data": {
      "text/plain": [
       "4"
      ]
     },
     "execution_count": 31,
     "metadata": {},
     "output_type": "execute_result"
    }
   ],
   "source": [
    "e.size #Number of array elements"
   ]
  },
  {
   "cell_type": "code",
   "execution_count": 32,
   "id": "c0775d7b-f536-48b3-a8bb-37b27afd3666",
   "metadata": {},
   "outputs": [
    {
     "data": {
      "text/plain": [
       "dtype('float64')"
      ]
     },
     "execution_count": 32,
     "metadata": {},
     "output_type": "execute_result"
    }
   ],
   "source": [
    "b.dtype #Data type of array elements"
   ]
  },
  {
   "cell_type": "code",
   "execution_count": 33,
   "id": "59cf9569-c623-4b26-8a84-ea267f1fda80",
   "metadata": {},
   "outputs": [
    {
     "data": {
      "text/plain": [
       "'float64'"
      ]
     },
     "execution_count": 33,
     "metadata": {},
     "output_type": "execute_result"
    }
   ],
   "source": [
    "b.dtype.name #Name of data type"
   ]
  },
  {
   "cell_type": "code",
   "execution_count": 34,
   "id": "ab522dac-2a9e-4069-afe7-c733457488df",
   "metadata": {},
   "outputs": [
    {
     "data": {
      "text/plain": [
       "array([[1, 2, 3],\n",
       "       [4, 5, 6]])"
      ]
     },
     "execution_count": 34,
     "metadata": {},
     "output_type": "execute_result"
    }
   ],
   "source": [
    "b.astype(int)"
   ]
  },
  {
   "cell_type": "markdown",
   "id": "685c4bf9-9fa8-4070-86d9-038eaba97224",
   "metadata": {},
   "source": [
    "#### Data Types"
   ]
  },
  {
   "cell_type": "code",
   "execution_count": 36,
   "id": "334f19c7-b30d-430b-9f49-e44ab64e418a",
   "metadata": {},
   "outputs": [
    {
     "data": {
      "text/plain": [
       "numpy.int64"
      ]
     },
     "execution_count": 36,
     "metadata": {},
     "output_type": "execute_result"
    }
   ],
   "source": [
    "np.int64 #Signed 64 bit integer types"
   ]
  },
  {
   "cell_type": "code",
   "execution_count": 43,
   "id": "f66a25e2-f92d-4111-b710-65dfd1a031f1",
   "metadata": {},
   "outputs": [
    {
     "data": {
      "text/plain": [
       "numpy.float32"
      ]
     },
     "execution_count": 43,
     "metadata": {},
     "output_type": "execute_result"
    }
   ],
   "source": [
    "np.float32 #Standard double-precision floating point"
   ]
  },
  {
   "cell_type": "code",
   "execution_count": 57,
   "id": "7be51741-326a-41a3-81d9-e2099a694fa8",
   "metadata": {},
   "outputs": [
    {
     "data": {
      "text/plain": [
       "numpy.complex128"
      ]
     },
     "execution_count": 57,
     "metadata": {},
     "output_type": "execute_result"
    }
   ],
   "source": [
    "np.complex128 #Complex numbers represented by 128 floats"
   ]
  },
  {
   "cell_type": "code",
   "execution_count": 65,
   "id": "ae501803-377f-42e5-aa59-ee41389dc8c0",
   "metadata": {},
   "outputs": [
    {
     "data": {
      "text/plain": [
       "numpy.bool_"
      ]
     },
     "execution_count": 65,
     "metadata": {},
     "output_type": "execute_result"
    }
   ],
   "source": [
    "np.bool_ #Boolean type storing TRUE and FALSE values"
   ]
  },
  {
   "cell_type": "code",
   "execution_count": 75,
   "id": "646b024f-282c-4c1d-ba8b-541bdaf31d54",
   "metadata": {},
   "outputs": [
    {
     "data": {
      "text/plain": [
       "dtype('O')"
      ]
     },
     "execution_count": 75,
     "metadata": {},
     "output_type": "execute_result"
    }
   ],
   "source": [
    "np.dtype(object) #Python object type"
   ]
  },
  {
   "cell_type": "code",
   "execution_count": 77,
   "id": "79c5b626-d5c7-4f00-b237-5960862eafae",
   "metadata": {},
   "outputs": [
    {
     "data": {
      "text/plain": [
       "numpy.bytes_"
      ]
     },
     "execution_count": 77,
     "metadata": {},
     "output_type": "execute_result"
    }
   ],
   "source": [
    "np.string_ #Fixed-length string type"
   ]
  },
  {
   "cell_type": "code",
   "execution_count": 79,
   "id": "037f8cb8-0831-4fce-86aa-c670421423cf",
   "metadata": {},
   "outputs": [
    {
     "data": {
      "text/plain": [
       "numpy.str_"
      ]
     },
     "execution_count": 79,
     "metadata": {},
     "output_type": "execute_result"
    }
   ],
   "source": [
    "np.unicode_ #Fixed-length string type"
   ]
  },
  {
   "cell_type": "markdown",
   "id": "ddafaff8-014f-4b75-997d-c5b0be511e49",
   "metadata": {},
   "source": [
    "#### Array Mathematics"
   ]
  },
  {
   "cell_type": "code",
   "execution_count": 90,
   "id": "779dcf93-baa8-4dcf-9060-ea06e5e857be",
   "metadata": {},
   "outputs": [
    {
     "data": {
      "text/plain": [
       "array([[-0.5,  0. ,  0. ],\n",
       "       [-3. , -3. , -3. ]])"
      ]
     },
     "execution_count": 90,
     "metadata": {},
     "output_type": "execute_result"
    }
   ],
   "source": [
    "g = a - b #Subtraction\n",
    "g"
   ]
  },
  {
   "cell_type": "code",
   "execution_count": 92,
   "id": "2aff5e40-170f-4a7b-a7ac-2a10a0480647",
   "metadata": {},
   "outputs": [
    {
     "data": {
      "text/plain": [
       "array([[-0.5,  0. ,  0. ],\n",
       "       [-3. , -3. , -3. ]])"
      ]
     },
     "execution_count": 92,
     "metadata": {},
     "output_type": "execute_result"
    }
   ],
   "source": [
    "np.subtract(a,b) #Subtraction"
   ]
  },
  {
   "cell_type": "code",
   "execution_count": 94,
   "id": "7d3649ed-ce24-482d-b7ca-c82eba3212e7",
   "metadata": {},
   "outputs": [
    {
     "data": {
      "text/plain": [
       "array([[2.5, 4. , 6. ],\n",
       "       [5. , 7. , 9. ]])"
      ]
     },
     "execution_count": 94,
     "metadata": {},
     "output_type": "execute_result"
    }
   ],
   "source": [
    "b + a #Addition"
   ]
  },
  {
   "cell_type": "code",
   "execution_count": 96,
   "id": "8998534a-b478-4eaa-a991-19bbfb04b36c",
   "metadata": {},
   "outputs": [
    {
     "data": {
      "text/plain": [
       "array([[2.5, 4. , 6. ],\n",
       "       [5. , 7. , 9. ]])"
      ]
     },
     "execution_count": 96,
     "metadata": {},
     "output_type": "execute_result"
    }
   ],
   "source": [
    "np.add(b,a)"
   ]
  },
  {
   "cell_type": "code",
   "execution_count": 98,
   "id": "d6e1029b-7d28-4f02-a581-923d7cd851ad",
   "metadata": {},
   "outputs": [
    {
     "data": {
      "text/plain": [
       "array([[0.66666667, 1.        , 1.        ],\n",
       "       [0.25      , 0.4       , 0.5       ]])"
      ]
     },
     "execution_count": 98,
     "metadata": {},
     "output_type": "execute_result"
    }
   ],
   "source": [
    "a/b #Division"
   ]
  },
  {
   "cell_type": "code",
   "execution_count": 100,
   "id": "1ae10459-ff08-42b8-b88b-7266ce508a3a",
   "metadata": {},
   "outputs": [
    {
     "data": {
      "text/plain": [
       "array([[0.66666667, 1.        , 1.        ],\n",
       "       [0.25      , 0.4       , 0.5       ]])"
      ]
     },
     "execution_count": 100,
     "metadata": {},
     "output_type": "execute_result"
    }
   ],
   "source": [
    "np.divide(a,b)"
   ]
  },
  {
   "cell_type": "code",
   "execution_count": 102,
   "id": "a8567055-82a4-455b-8bee-89709071f254",
   "metadata": {},
   "outputs": [
    {
     "data": {
      "text/plain": [
       "array([[ 1.5,  4. ,  9. ],\n",
       "       [ 4. , 10. , 18. ]])"
      ]
     },
     "execution_count": 102,
     "metadata": {},
     "output_type": "execute_result"
    }
   ],
   "source": [
    "a*b"
   ]
  },
  {
   "cell_type": "code",
   "execution_count": 104,
   "id": "3002e9ac-1bc0-456e-813c-dff50d0de7cd",
   "metadata": {},
   "outputs": [
    {
     "data": {
      "text/plain": [
       "array([[ 1.5,  4. ,  9. ],\n",
       "       [ 4. , 10. , 18. ]])"
      ]
     },
     "execution_count": 104,
     "metadata": {},
     "output_type": "execute_result"
    }
   ],
   "source": [
    "np.multiply(a,b) #Multiplication"
   ]
  },
  {
   "cell_type": "code",
   "execution_count": 106,
   "id": "00b7e660-018a-4bd7-b968-a8aaf4e7e9ec",
   "metadata": {},
   "outputs": [
    {
     "data": {
      "text/plain": [
       "array([[  4.48168907,   7.3890561 ,  20.08553692],\n",
       "       [ 54.59815003, 148.4131591 , 403.42879349]])"
      ]
     },
     "execution_count": 106,
     "metadata": {},
     "output_type": "execute_result"
    }
   ],
   "source": [
    "np.exp(b) #Exponentiation"
   ]
  },
  {
   "cell_type": "code",
   "execution_count": 114,
   "id": "97b75589-e928-4ac4-a81c-6a7d5d45b1c3",
   "metadata": {},
   "outputs": [
    {
     "data": {
      "text/plain": [
       "array([[1.22474487, 1.41421356, 1.73205081],\n",
       "       [2.        , 2.23606798, 2.44948974]])"
      ]
     },
     "execution_count": 114,
     "metadata": {},
     "output_type": "execute_result"
    }
   ],
   "source": [
    "np.sqrt(b) #Square root"
   ]
  },
  {
   "cell_type": "code",
   "execution_count": 116,
   "id": "a8baad71-9759-48b1-bde5-f8a58f7aba48",
   "metadata": {},
   "outputs": [
    {
     "data": {
      "text/plain": [
       "array([0.84147098, 0.90929743, 0.14112001])"
      ]
     },
     "execution_count": 116,
     "metadata": {},
     "output_type": "execute_result"
    }
   ],
   "source": [
    "np.sin(a) #Print sines of an array"
   ]
  },
  {
   "cell_type": "code",
   "execution_count": 118,
   "id": "147d92ac-f2b1-4fcd-a69e-24222fc44b88",
   "metadata": {},
   "outputs": [
    {
     "data": {
      "text/plain": [
       "array([[ 0.0707372 , -0.41614684, -0.9899925 ],\n",
       "       [-0.65364362,  0.28366219,  0.96017029]])"
      ]
     },
     "execution_count": 118,
     "metadata": {},
     "output_type": "execute_result"
    }
   ],
   "source": [
    "np.cos(b) #Element-wise cosine"
   ]
  },
  {
   "cell_type": "code",
   "execution_count": 122,
   "id": "acaaab6a-942e-4797-9634-6803aa3801bd",
   "metadata": {},
   "outputs": [
    {
     "data": {
      "text/plain": [
       "array([0.        , 0.69314718, 1.09861229])"
      ]
     },
     "execution_count": 122,
     "metadata": {},
     "output_type": "execute_result"
    }
   ],
   "source": [
    "np.log(a) #Element-wise natural logarithm"
   ]
  },
  {
   "cell_type": "code",
   "execution_count": 124,
   "id": "971535d3-3c47-4ac6-ab30-bbf43bb1231a",
   "metadata": {},
   "outputs": [
    {
     "data": {
      "text/plain": [
       "array([[7., 7.],\n",
       "       [7., 7.]])"
      ]
     },
     "execution_count": 124,
     "metadata": {},
     "output_type": "execute_result"
    }
   ],
   "source": [
    "e.dot(f) #Dot product"
   ]
  },
  {
   "cell_type": "markdown",
   "id": "e85c72ea-4f91-419e-b961-4cb551c57cc8",
   "metadata": {},
   "source": [
    "#### Comparision"
   ]
  },
  {
   "cell_type": "code",
   "execution_count": 131,
   "id": "b5477399-34ec-469a-96ac-9700270fe9e4",
   "metadata": {},
   "outputs": [
    {
     "data": {
      "text/plain": [
       "array([[ True,  True,  True],\n",
       "       [ True,  True,  True]])"
      ]
     },
     "execution_count": 131,
     "metadata": {},
     "output_type": "execute_result"
    }
   ],
   "source": [
    "a == b #Element-wise comparision"
   ]
  },
  {
   "cell_type": "code",
   "execution_count": 133,
   "id": "677bd6ee-3f1d-42c6-8019-4bb96404620f",
   "metadata": {},
   "outputs": [
    {
     "data": {
      "text/plain": [
       "array([[ True, False, False],\n",
       "       [False, False, False]])"
      ]
     },
     "execution_count": 133,
     "metadata": {},
     "output_type": "execute_result"
    }
   ],
   "source": [
    "a<2 #Element-wise comparision"
   ]
  },
  {
   "cell_type": "code",
   "execution_count": 135,
   "id": "d7623d22-9a86-4090-a59c-25c67d450b8c",
   "metadata": {},
   "outputs": [
    {
     "data": {
      "text/plain": [
       "True"
      ]
     },
     "execution_count": 135,
     "metadata": {},
     "output_type": "execute_result"
    }
   ],
   "source": [
    "np.array_equal(a,b) #Array-wise comparasion"
   ]
  },
  {
   "cell_type": "markdown",
   "id": "d4f0c581-0081-404b-83ba-ff6a6210121d",
   "metadata": {},
   "source": [
    "#### Aggregate Functions"
   ]
  },
  {
   "cell_type": "code",
   "execution_count": 140,
   "id": "0ed2abab-4466-4a2f-9c41-8bca04b70cfb",
   "metadata": {},
   "outputs": [
    {
     "data": {
      "text/plain": [
       "21.5"
      ]
     },
     "execution_count": 140,
     "metadata": {},
     "output_type": "execute_result"
    }
   ],
   "source": [
    "a.sum() #Array-wise sum"
   ]
  },
  {
   "cell_type": "code",
   "execution_count": 142,
   "id": "992b3013-30de-4b81-9930-29c2726e5030",
   "metadata": {},
   "outputs": [
    {
     "data": {
      "text/plain": [
       "1.5"
      ]
     },
     "execution_count": 142,
     "metadata": {},
     "output_type": "execute_result"
    }
   ],
   "source": [
    "a.min() #Array-wise minium value"
   ]
  },
  {
   "cell_type": "code",
   "execution_count": 144,
   "id": "73dc7317-03f7-41d5-93bf-1c56d853bd34",
   "metadata": {},
   "outputs": [
    {
     "data": {
      "text/plain": [
       "array([4., 5., 6.])"
      ]
     },
     "execution_count": 144,
     "metadata": {},
     "output_type": "execute_result"
    }
   ],
   "source": [
    "b.max(axis=0) #Maximum value of an array row"
   ]
  },
  {
   "cell_type": "code",
   "execution_count": 146,
   "id": "9bc73cb1-5045-4ad1-99e2-65329445b765",
   "metadata": {},
   "outputs": [
    {
     "data": {
      "text/plain": [
       "array([[ 1.5,  3.5,  6.5],\n",
       "       [ 4. ,  9. , 15. ]])"
      ]
     },
     "execution_count": 146,
     "metadata": {},
     "output_type": "execute_result"
    }
   ],
   "source": [
    "b.cumsum(axis=1) #Cumulative sum of the elements"
   ]
  },
  {
   "cell_type": "code",
   "execution_count": 148,
   "id": "7cf282a3-7f70-4852-bf56-9d0fafb1f1f5",
   "metadata": {},
   "outputs": [
    {
     "data": {
      "text/plain": [
       "3.5833333333333335"
      ]
     },
     "execution_count": 148,
     "metadata": {},
     "output_type": "execute_result"
    }
   ],
   "source": [
    "a.mean() #Mean"
   ]
  },
  {
   "cell_type": "code",
   "execution_count": 150,
   "id": "5b82e1c7-5216-4eae-ba42-b383a263ba41",
   "metadata": {},
   "outputs": [
    {
     "data": {
      "text/plain": [
       "3.5"
      ]
     },
     "execution_count": 150,
     "metadata": {},
     "output_type": "execute_result"
    }
   ],
   "source": [
    "np.median(b) #Median"
   ]
  },
  {
   "cell_type": "code",
   "execution_count": 152,
   "id": "e874c3b6-80a1-4bed-9662-88b925486a42",
   "metadata": {},
   "outputs": [
    {
     "data": {
      "text/plain": [
       "array([[1.        , 0.98198051],\n",
       "       [0.98198051, 1.        ]])"
      ]
     },
     "execution_count": 152,
     "metadata": {},
     "output_type": "execute_result"
    }
   ],
   "source": [
    "np.corrcoef(a) #Correlation coefficient"
   ]
  },
  {
   "cell_type": "code",
   "execution_count": 154,
   "id": "8e0d37d7-f2ab-4594-a333-af56d52fb9fb",
   "metadata": {},
   "outputs": [
    {
     "data": {
      "text/plain": [
       "1.5920810978785667"
      ]
     },
     "execution_count": 154,
     "metadata": {},
     "output_type": "execute_result"
    }
   ],
   "source": [
    "np.std (b) #Standard deviation"
   ]
  },
  {
   "cell_type": "markdown",
   "id": "2f6a5e93-4817-4e6f-99b6-593ad99c1787",
   "metadata": {},
   "source": [
    "### *Copying Arrays*"
   ]
  },
  {
   "cell_type": "code",
   "execution_count": 279,
   "id": "2326dfb0-00d5-452d-b351-eaf53367cb70",
   "metadata": {},
   "outputs": [
    {
     "data": {
      "text/plain": [
       "array([1, 2, 3])"
      ]
     },
     "execution_count": 279,
     "metadata": {},
     "output_type": "execute_result"
    }
   ],
   "source": [
    "h = a.view() #Create a view of the array with the same data\n",
    "h"
   ]
  },
  {
   "cell_type": "code",
   "execution_count": 163,
   "id": "6ffe7c80-8efc-47f1-92f5-c28855315609",
   "metadata": {},
   "outputs": [
    {
     "data": {
      "text/plain": [
       "array([[1.5, 2. , 3. ],\n",
       "       [4. , 5. , 6. ]])"
      ]
     },
     "execution_count": 163,
     "metadata": {},
     "output_type": "execute_result"
    }
   ],
   "source": [
    "np.copy(a) #Create a copy of the array"
   ]
  },
  {
   "cell_type": "code",
   "execution_count": 281,
   "id": "35ada990-e763-45c5-837a-236b282c2451",
   "metadata": {},
   "outputs": [
    {
     "data": {
      "text/plain": [
       "array([1, 2, 3])"
      ]
     },
     "execution_count": 281,
     "metadata": {},
     "output_type": "execute_result"
    }
   ],
   "source": [
    "h = a.copy() #Create a deep copy of the array\n",
    "h"
   ]
  },
  {
   "cell_type": "markdown",
   "id": "c729e2de-2b56-4e65-b45b-cdb6c1da752f",
   "metadata": {},
   "source": [
    "### *Sorting Arrays*"
   ]
  },
  {
   "cell_type": "code",
   "execution_count": 181,
   "id": "d756da59-75d3-472d-9cd7-4cc847b7211b",
   "metadata": {},
   "outputs": [],
   "source": [
    "a.sort() #Sort an array"
   ]
  },
  {
   "cell_type": "code",
   "execution_count": 197,
   "id": "f86dd343-f384-4104-86df-1c5d400cf226",
   "metadata": {},
   "outputs": [],
   "source": [
    "c.sort(axis=0) #Sort the elements of an arrays's axis"
   ]
  },
  {
   "cell_type": "markdown",
   "id": "1e2c8cdc-9425-4de5-aa97-78057b5d541f",
   "metadata": {},
   "source": [
    "### *Subsetting, Slicing, Indexing*"
   ]
  },
  {
   "cell_type": "markdown",
   "id": "e2184a9b-70ab-4c09-87af-b6bf83bc2d70",
   "metadata": {},
   "source": [
    "#### Subsetting"
   ]
  },
  {
   "cell_type": "code",
   "execution_count": 210,
   "id": "35b3265a-8a65-4c45-ac98-c16046088afd",
   "metadata": {},
   "outputs": [
    {
     "data": {
      "text/plain": [
       "3"
      ]
     },
     "execution_count": 210,
     "metadata": {},
     "output_type": "execute_result"
    }
   ],
   "source": [
    "a[2] #Select the element at the 2nd index"
   ]
  },
  {
   "cell_type": "code",
   "execution_count": 212,
   "id": "4dfb292a-353e-49b7-a0df-9b7d086ef35f",
   "metadata": {},
   "outputs": [
    {
     "data": {
      "text/plain": [
       "6.0"
      ]
     },
     "execution_count": 212,
     "metadata": {},
     "output_type": "execute_result"
    }
   ],
   "source": [
    "b[1,2] #Select the element at row column 2 (equivalent to b[1][2])"
   ]
  },
  {
   "cell_type": "markdown",
   "id": "86924342-f713-49ae-ab62-3d187607e72e",
   "metadata": {},
   "source": [
    "#### Slicing"
   ]
  },
  {
   "cell_type": "code",
   "execution_count": 217,
   "id": "b5881ace-0298-4de2-9520-c2f53578b29e",
   "metadata": {},
   "outputs": [
    {
     "data": {
      "text/plain": [
       "array([1, 2])"
      ]
     },
     "execution_count": 217,
     "metadata": {},
     "output_type": "execute_result"
    }
   ],
   "source": [
    "a[0:2] #Select items at index 0 and 1"
   ]
  },
  {
   "cell_type": "code",
   "execution_count": 219,
   "id": "010a0e95-1696-450f-833e-591a52502819",
   "metadata": {},
   "outputs": [
    {
     "data": {
      "text/plain": [
       "array([2., 5.])"
      ]
     },
     "execution_count": 219,
     "metadata": {},
     "output_type": "execute_result"
    }
   ],
   "source": [
    "b[0:2,1] #Select items at rows 0 and  in the column 1"
   ]
  },
  {
   "cell_type": "code",
   "execution_count": 221,
   "id": "dc639c42-55e0-499d-b145-550b0268c2d7",
   "metadata": {},
   "outputs": [
    {
     "data": {
      "text/plain": [
       "array([[1.5, 2. , 3. ]])"
      ]
     },
     "execution_count": 221,
     "metadata": {},
     "output_type": "execute_result"
    }
   ],
   "source": [
    "b[:1] #Select all items at rows 0 and 1 in column 1"
   ]
  },
  {
   "cell_type": "code",
   "execution_count": 223,
   "id": "c2272ffe-abdf-4cbc-b130-3bcef9ba2f7c",
   "metadata": {},
   "outputs": [
    {
     "data": {
      "text/plain": [
       "array([[3., 2., 3.],\n",
       "       [4., 5., 6.]])"
      ]
     },
     "execution_count": 223,
     "metadata": {},
     "output_type": "execute_result"
    }
   ],
   "source": [
    "c[1,...] #Same as [1,:,:]"
   ]
  },
  {
   "cell_type": "code",
   "execution_count": 225,
   "id": "9aad2c91-ea17-4ae3-bea1-75d5dc5d05f2",
   "metadata": {},
   "outputs": [
    {
     "data": {
      "text/plain": [
       "array([3, 2, 1])"
      ]
     },
     "execution_count": 225,
     "metadata": {},
     "output_type": "execute_result"
    }
   ],
   "source": [
    "a[ : :-1] #Reversed array a array ([3, 2, 1])"
   ]
  },
  {
   "cell_type": "markdown",
   "id": "3dd29299-6efb-4045-b3b8-188b77f684e8",
   "metadata": {},
   "source": [
    "#### Boolean Indexing"
   ]
  },
  {
   "cell_type": "code",
   "execution_count": 232,
   "id": "682cfe4f-13ad-47e6-b122-0559a19e1f73",
   "metadata": {},
   "outputs": [
    {
     "data": {
      "text/plain": [
       "array([1])"
      ]
     },
     "execution_count": 232,
     "metadata": {},
     "output_type": "execute_result"
    }
   ],
   "source": [
    "a[a<2] #Select elements from a less than 2"
   ]
  },
  {
   "cell_type": "markdown",
   "id": "7a3fe4fd-3167-43a0-98bb-d7be6cc5aaf9",
   "metadata": {},
   "source": [
    "#### Fancy Indexing"
   ]
  },
  {
   "cell_type": "code",
   "execution_count": 235,
   "id": "d978d777-0324-42d7-8f8b-241bd16e9f3d",
   "metadata": {},
   "outputs": [
    {
     "data": {
      "text/plain": [
       "array([4. , 2. , 6. , 1.5])"
      ]
     },
     "execution_count": 235,
     "metadata": {},
     "output_type": "execute_result"
    }
   ],
   "source": [
    "b[[1, 0, 1, 0], [0, 1, 2, 0]] #Select elements (1,0), (0,1), (1,2) and (0,0)"
   ]
  },
  {
   "cell_type": "code",
   "execution_count": 239,
   "id": "57090f91-0a6a-4c6a-9ff6-c54ea5cbbf68",
   "metadata": {},
   "outputs": [
    {
     "data": {
      "text/plain": [
       "array([[4. , 5. , 6. , 4. ],\n",
       "       [1.5, 2. , 3. , 1.5],\n",
       "       [4. , 5. , 6. , 4. ],\n",
       "       [1.5, 2. , 3. , 1.5]])"
      ]
     },
     "execution_count": 239,
     "metadata": {},
     "output_type": "execute_result"
    }
   ],
   "source": [
    "b[[1, 0, 1, 0]][:,[0,1,2,0]] #Select a subset of the matrix's rows and columns"
   ]
  },
  {
   "cell_type": "markdown",
   "id": "f0b0d4a2-024e-4152-b1b1-71af02c8cd2b",
   "metadata": {},
   "source": [
    "### *Array Manipulation*"
   ]
  },
  {
   "cell_type": "markdown",
   "id": "36b8cf40-bb79-41db-aa4f-f3a99c422a15",
   "metadata": {},
   "source": [
    "#### Transposing Array"
   ]
  },
  {
   "cell_type": "code",
   "execution_count": 249,
   "id": "02f6a974-2e99-4a8e-840b-225b3d442ed1",
   "metadata": {},
   "outputs": [
    {
     "data": {
      "text/plain": [
       "array([[1.5, 4. ],\n",
       "       [2. , 5. ],\n",
       "       [3. , 6. ]])"
      ]
     },
     "execution_count": 249,
     "metadata": {},
     "output_type": "execute_result"
    }
   ],
   "source": [
    "i = np.transpose(b) #Permute array dimensions\n",
    "i"
   ]
  },
  {
   "cell_type": "code",
   "execution_count": 251,
   "id": "65423f02-08a3-4971-afac-9419596c5852",
   "metadata": {},
   "outputs": [
    {
     "data": {
      "text/plain": [
       "array([[1.5, 2. , 3. ],\n",
       "       [4. , 5. , 6. ]])"
      ]
     },
     "execution_count": 251,
     "metadata": {},
     "output_type": "execute_result"
    }
   ],
   "source": [
    "i.T #Permute array dimensions"
   ]
  },
  {
   "cell_type": "markdown",
   "id": "0851a782-657b-4bd6-92cd-b8efae55c275",
   "metadata": {},
   "source": [
    "#### Chaging Array Shape"
   ]
  },
  {
   "cell_type": "code",
   "execution_count": 257,
   "id": "6adaff8d-e6f1-4ba2-aa63-feabc7b9f2d0",
   "metadata": {},
   "outputs": [
    {
     "data": {
      "text/plain": [
       "array([1.5, 2. , 3. , 4. , 5. , 6. ])"
      ]
     },
     "execution_count": 257,
     "metadata": {},
     "output_type": "execute_result"
    }
   ],
   "source": [
    "b.ravel() #Flatten the array"
   ]
  },
  {
   "cell_type": "code",
   "execution_count": 259,
   "id": "25e7106d-a473-46ac-a4cd-29a8b7500fd2",
   "metadata": {},
   "outputs": [
    {
     "data": {
      "text/plain": [
       "array([[-0.5,  0. ],\n",
       "       [ 0. , -3. ],\n",
       "       [-3. , -3. ]])"
      ]
     },
     "execution_count": 259,
     "metadata": {},
     "output_type": "execute_result"
    }
   ],
   "source": [
    "g.reshape(3,-2) #Reshape, but don't change data"
   ]
  },
  {
   "cell_type": "markdown",
   "id": "fd53d5ca-4993-4b9e-8c06-6105ffb1730b",
   "metadata": {},
   "source": [
    "#### Adding/Removing Elements"
   ]
  },
  {
   "cell_type": "code",
   "execution_count": 305,
   "id": "e7258afa-291c-4562-b458-0a983901b22a",
   "metadata": {},
   "outputs": [
    {
     "data": {
      "text/plain": [
       "array([[1, 2, 3, 1, 2, 3],\n",
       "       [1, 2, 3, 1, 2, 3]])"
      ]
     },
     "execution_count": 305,
     "metadata": {},
     "output_type": "execute_result"
    }
   ],
   "source": [
    "np.resize(h,(2,6)) #Return a new array with shape (2,6)"
   ]
  },
  {
   "cell_type": "code",
   "execution_count": 307,
   "id": "650bb850-cdd6-41ad-b375-e4e03ffec57f",
   "metadata": {},
   "outputs": [
    {
     "data": {
      "text/plain": [
       "array([ 1. ,  2. ,  3. , -0.5,  0. ,  0. , -3. , -3. , -3. ])"
      ]
     },
     "execution_count": 307,
     "metadata": {},
     "output_type": "execute_result"
    }
   ],
   "source": [
    "np.append(h,g) #Append items to an array"
   ]
  },
  {
   "cell_type": "code",
   "execution_count": 309,
   "id": "f1ada45e-2daf-40f8-9663-9991ec18479b",
   "metadata": {},
   "outputs": [
    {
     "data": {
      "text/plain": [
       "array([1, 5, 2, 3])"
      ]
     },
     "execution_count": 309,
     "metadata": {},
     "output_type": "execute_result"
    }
   ],
   "source": [
    "np.insert(a, 1, 5) #Insert items in an array"
   ]
  },
  {
   "cell_type": "code",
   "execution_count": 313,
   "id": "c6619b2f-fd95-4c32-b55b-6b677854c980",
   "metadata": {},
   "outputs": [
    {
     "data": {
      "text/plain": [
       "array([1, 3])"
      ]
     },
     "execution_count": 313,
     "metadata": {},
     "output_type": "execute_result"
    }
   ],
   "source": [
    "np.delete(a,[1]) #Delate items from an array"
   ]
  },
  {
   "cell_type": "markdown",
   "id": "80583e63-657a-49df-b213-13d070c6e568",
   "metadata": {},
   "source": [
    "#### Combining Arrays"
   ]
  },
  {
   "cell_type": "code",
   "execution_count": 318,
   "id": "91407740-1b7c-44af-82cf-e40db61cb562",
   "metadata": {},
   "outputs": [
    {
     "data": {
      "text/plain": [
       "array([ 1,  2,  3, 10, 15, 20])"
      ]
     },
     "execution_count": 318,
     "metadata": {},
     "output_type": "execute_result"
    }
   ],
   "source": [
    "np.concatenate((a,d),axis=0) #Concatenate arrays"
   ]
  },
  {
   "cell_type": "code",
   "execution_count": 320,
   "id": "a92c7764-8030-4ba7-87ee-e40ed3b59150",
   "metadata": {},
   "outputs": [
    {
     "data": {
      "text/plain": [
       "array([[1. , 2. , 3. ],\n",
       "       [1.5, 2. , 3. ],\n",
       "       [4. , 5. , 6. ]])"
      ]
     },
     "execution_count": 320,
     "metadata": {},
     "output_type": "execute_result"
    }
   ],
   "source": [
    "np.vstack((a,b))"
   ]
  },
  {
   "cell_type": "code",
   "execution_count": 322,
   "id": "1a7a9d13-6040-4ac1-81ba-552b4afba962",
   "metadata": {},
   "outputs": [
    {
     "data": {
      "text/plain": [
       "array([[7., 7.],\n",
       "       [7., 7.],\n",
       "       [1., 0.],\n",
       "       [0., 1.]])"
      ]
     },
     "execution_count": 322,
     "metadata": {},
     "output_type": "execute_result"
    }
   ],
   "source": [
    "np.r_[e,f] #Stack arrays vertically (row-wise)"
   ]
  },
  {
   "cell_type": "code",
   "execution_count": 324,
   "id": "5ed57116-c213-4bf8-8391-a5cbbaae9701",
   "metadata": {},
   "outputs": [
    {
     "data": {
      "text/plain": [
       "array([[7., 7., 1., 0.],\n",
       "       [7., 7., 0., 1.]])"
      ]
     },
     "execution_count": 324,
     "metadata": {},
     "output_type": "execute_result"
    }
   ],
   "source": [
    "np.hstack((e,f)) #Stack arrays horizontally (dcolumn-wise)"
   ]
  },
  {
   "cell_type": "code",
   "execution_count": 326,
   "id": "6a5f9b6f-da16-4acc-a9a6-7bdd98212d34",
   "metadata": {},
   "outputs": [
    {
     "data": {
      "text/plain": [
       "array([[ 1, 10],\n",
       "       [ 2, 15],\n",
       "       [ 3, 20]])"
      ]
     },
     "execution_count": 326,
     "metadata": {},
     "output_type": "execute_result"
    }
   ],
   "source": [
    "np.column_stack((a,d)) #Create stacked column-wise arrays"
   ]
  },
  {
   "cell_type": "code",
   "execution_count": null,
   "id": "c4d2cd4f-f086-4313-a8b2-b5f14a7b98f1",
   "metadata": {},
   "outputs": [],
   "source": [
    "np.c_[a,d] #Create stacked column-wise arrays"
   ]
  },
  {
   "cell_type": "markdown",
   "id": "561c55ec-4d04-40c4-9d51-d62024fb6bab",
   "metadata": {},
   "source": [
    "#### Splitting Arrays"
   ]
  },
  {
   "cell_type": "code",
   "execution_count": 330,
   "id": "09e2db6e-24c7-4e20-b7a8-f6142a344b81",
   "metadata": {},
   "outputs": [
    {
     "data": {
      "text/plain": [
       "[array([1]), array([2]), array([3])]"
      ]
     },
     "execution_count": 330,
     "metadata": {},
     "output_type": "execute_result"
    }
   ],
   "source": [
    "np.hsplit(a,3) #Split the array horizontally at the 3rd index "
   ]
  },
  {
   "cell_type": "code",
   "execution_count": 332,
   "id": "0a88079b-1a39-4833-bdb0-d1ace188c252",
   "metadata": {},
   "outputs": [
    {
     "data": {
      "text/plain": [
       "[array([[[1.5, 2. , 1. ],\n",
       "         [4. , 5. , 6. ]]]),\n",
       " array([[[3., 2., 3.],\n",
       "         [4., 5., 6.]]])]"
      ]
     },
     "execution_count": 332,
     "metadata": {},
     "output_type": "execute_result"
    }
   ],
   "source": [
    "np.vsplit(c,2) #Split the array vertically at the 2nd index"
   ]
  }
 ],
 "metadata": {
  "kernelspec": {
   "display_name": "Python 3 (ipykernel)",
   "language": "python",
   "name": "python3"
  },
  "language_info": {
   "codemirror_mode": {
    "name": "ipython",
    "version": 3
   },
   "file_extension": ".py",
   "mimetype": "text/x-python",
   "name": "python",
   "nbconvert_exporter": "python",
   "pygments_lexer": "ipython3",
   "version": "3.12.4"
  }
 },
 "nbformat": 4,
 "nbformat_minor": 5
}
